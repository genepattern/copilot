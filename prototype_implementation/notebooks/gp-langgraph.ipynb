{
 "cells": [
  {
   "cell_type": "code",
   "execution_count": 5,
   "id": "b51b95de-714e-449f-bc29-7c899241ce1c",
   "metadata": {},
   "outputs": [
    {
     "name": "stdout",
     "output_type": "stream",
     "text": [
      "The autoreload extension is already loaded. To reload it, use:\n",
      "  %reload_ext autoreload\n"
     ]
    },
    {
     "name": "stderr",
     "output_type": "stream",
     "text": [
      "USER_AGENT environment variable not set, consider setting it to identify your requests.\n"
     ]
    }
   ],
   "source": [
    "%load_ext autoreload\n",
    "%autoreload 2\n",
    "\n",
    "import sys\n",
    "sys.path.append(\"../GP_Copilot_Webapp\")\n",
    "    \n",
    "from copilot.langgraph_testing import *\n",
    "from IPython.display import Image, display\n",
    "\n",
    "\n"
   ]
  },
  {
   "cell_type": "code",
   "execution_count": 7,
   "id": "9465dfae-e233-4779-8a4e-b7133b7bb006",
   "metadata": {},
   "outputs": [
    {
     "ename": "ClientError",
     "evalue": "An error occurred (UnrecognizedClientException) when calling the Converse operation: The security token included in the request is invalid.",
     "output_type": "error",
     "traceback": [
      "\u001b[0;31m---------------------------------------------------------------------------\u001b[0m",
      "\u001b[0;31mClientError\u001b[0m                               Traceback (most recent call last)",
      "Cell \u001b[0;32mIn[7], line 1\u001b[0m\n\u001b[0;32m----> 1\u001b[0m \u001b[43mget_model\u001b[49m\u001b[43m(\u001b[49m\u001b[38;5;124;43m'\u001b[39;49m\u001b[38;5;124;43mllama-3.3\u001b[39;49m\u001b[38;5;124;43m'\u001b[39;49m\u001b[43m)\u001b[49m\u001b[38;5;241;43m.\u001b[39;49m\u001b[43minvoke\u001b[49m\u001b[43m(\u001b[49m\u001b[38;5;124;43m'\u001b[39;49m\u001b[38;5;124;43mHi\u001b[39;49m\u001b[38;5;124;43m'\u001b[39;49m\u001b[43m)\u001b[49m\n",
      "File \u001b[0;32m~/anaconda3/lib/python3.11/site-packages/langchain_core/language_models/chat_models.py:284\u001b[0m, in \u001b[0;36mBaseChatModel.invoke\u001b[0;34m(self, input, config, stop, **kwargs)\u001b[0m\n\u001b[1;32m    273\u001b[0m \u001b[38;5;28;01mdef\u001b[39;00m \u001b[38;5;21minvoke\u001b[39m(\n\u001b[1;32m    274\u001b[0m     \u001b[38;5;28mself\u001b[39m,\n\u001b[1;32m    275\u001b[0m     \u001b[38;5;28minput\u001b[39m: LanguageModelInput,\n\u001b[0;32m   (...)\u001b[0m\n\u001b[1;32m    279\u001b[0m     \u001b[38;5;241m*\u001b[39m\u001b[38;5;241m*\u001b[39mkwargs: Any,\n\u001b[1;32m    280\u001b[0m ) \u001b[38;5;241m-\u001b[39m\u001b[38;5;241m>\u001b[39m BaseMessage:\n\u001b[1;32m    281\u001b[0m     config \u001b[38;5;241m=\u001b[39m ensure_config(config)\n\u001b[1;32m    282\u001b[0m     \u001b[38;5;28;01mreturn\u001b[39;00m cast(\n\u001b[1;32m    283\u001b[0m         ChatGeneration,\n\u001b[0;32m--> 284\u001b[0m         \u001b[38;5;28;43mself\u001b[39;49m\u001b[38;5;241;43m.\u001b[39;49m\u001b[43mgenerate_prompt\u001b[49m\u001b[43m(\u001b[49m\n\u001b[1;32m    285\u001b[0m \u001b[43m            \u001b[49m\u001b[43m[\u001b[49m\u001b[38;5;28;43mself\u001b[39;49m\u001b[38;5;241;43m.\u001b[39;49m\u001b[43m_convert_input\u001b[49m\u001b[43m(\u001b[49m\u001b[38;5;28;43minput\u001b[39;49m\u001b[43m)\u001b[49m\u001b[43m]\u001b[49m\u001b[43m,\u001b[49m\n\u001b[1;32m    286\u001b[0m \u001b[43m            \u001b[49m\u001b[43mstop\u001b[49m\u001b[38;5;241;43m=\u001b[39;49m\u001b[43mstop\u001b[49m\u001b[43m,\u001b[49m\n\u001b[1;32m    287\u001b[0m \u001b[43m            \u001b[49m\u001b[43mcallbacks\u001b[49m\u001b[38;5;241;43m=\u001b[39;49m\u001b[43mconfig\u001b[49m\u001b[38;5;241;43m.\u001b[39;49m\u001b[43mget\u001b[49m\u001b[43m(\u001b[49m\u001b[38;5;124;43m\"\u001b[39;49m\u001b[38;5;124;43mcallbacks\u001b[39;49m\u001b[38;5;124;43m\"\u001b[39;49m\u001b[43m)\u001b[49m\u001b[43m,\u001b[49m\n\u001b[1;32m    288\u001b[0m \u001b[43m            \u001b[49m\u001b[43mtags\u001b[49m\u001b[38;5;241;43m=\u001b[39;49m\u001b[43mconfig\u001b[49m\u001b[38;5;241;43m.\u001b[39;49m\u001b[43mget\u001b[49m\u001b[43m(\u001b[49m\u001b[38;5;124;43m\"\u001b[39;49m\u001b[38;5;124;43mtags\u001b[39;49m\u001b[38;5;124;43m\"\u001b[39;49m\u001b[43m)\u001b[49m\u001b[43m,\u001b[49m\n\u001b[1;32m    289\u001b[0m \u001b[43m            \u001b[49m\u001b[43mmetadata\u001b[49m\u001b[38;5;241;43m=\u001b[39;49m\u001b[43mconfig\u001b[49m\u001b[38;5;241;43m.\u001b[39;49m\u001b[43mget\u001b[49m\u001b[43m(\u001b[49m\u001b[38;5;124;43m\"\u001b[39;49m\u001b[38;5;124;43mmetadata\u001b[39;49m\u001b[38;5;124;43m\"\u001b[39;49m\u001b[43m)\u001b[49m\u001b[43m,\u001b[49m\n\u001b[1;32m    290\u001b[0m \u001b[43m            \u001b[49m\u001b[43mrun_name\u001b[49m\u001b[38;5;241;43m=\u001b[39;49m\u001b[43mconfig\u001b[49m\u001b[38;5;241;43m.\u001b[39;49m\u001b[43mget\u001b[49m\u001b[43m(\u001b[49m\u001b[38;5;124;43m\"\u001b[39;49m\u001b[38;5;124;43mrun_name\u001b[39;49m\u001b[38;5;124;43m\"\u001b[39;49m\u001b[43m)\u001b[49m\u001b[43m,\u001b[49m\n\u001b[1;32m    291\u001b[0m \u001b[43m            \u001b[49m\u001b[43mrun_id\u001b[49m\u001b[38;5;241;43m=\u001b[39;49m\u001b[43mconfig\u001b[49m\u001b[38;5;241;43m.\u001b[39;49m\u001b[43mpop\u001b[49m\u001b[43m(\u001b[49m\u001b[38;5;124;43m\"\u001b[39;49m\u001b[38;5;124;43mrun_id\u001b[39;49m\u001b[38;5;124;43m\"\u001b[39;49m\u001b[43m,\u001b[49m\u001b[43m \u001b[49m\u001b[38;5;28;43;01mNone\u001b[39;49;00m\u001b[43m)\u001b[49m\u001b[43m,\u001b[49m\n\u001b[1;32m    292\u001b[0m \u001b[43m            \u001b[49m\u001b[38;5;241;43m*\u001b[39;49m\u001b[38;5;241;43m*\u001b[39;49m\u001b[43mkwargs\u001b[49m\u001b[43m,\u001b[49m\n\u001b[1;32m    293\u001b[0m \u001b[43m        \u001b[49m\u001b[43m)\u001b[49m\u001b[38;5;241m.\u001b[39mgenerations[\u001b[38;5;241m0\u001b[39m][\u001b[38;5;241m0\u001b[39m],\n\u001b[1;32m    294\u001b[0m     )\u001b[38;5;241m.\u001b[39mmessage\n",
      "File \u001b[0;32m~/anaconda3/lib/python3.11/site-packages/langchain_core/language_models/chat_models.py:860\u001b[0m, in \u001b[0;36mBaseChatModel.generate_prompt\u001b[0;34m(self, prompts, stop, callbacks, **kwargs)\u001b[0m\n\u001b[1;32m    852\u001b[0m \u001b[38;5;28;01mdef\u001b[39;00m \u001b[38;5;21mgenerate_prompt\u001b[39m(\n\u001b[1;32m    853\u001b[0m     \u001b[38;5;28mself\u001b[39m,\n\u001b[1;32m    854\u001b[0m     prompts: \u001b[38;5;28mlist\u001b[39m[PromptValue],\n\u001b[0;32m   (...)\u001b[0m\n\u001b[1;32m    857\u001b[0m     \u001b[38;5;241m*\u001b[39m\u001b[38;5;241m*\u001b[39mkwargs: Any,\n\u001b[1;32m    858\u001b[0m ) \u001b[38;5;241m-\u001b[39m\u001b[38;5;241m>\u001b[39m LLMResult:\n\u001b[1;32m    859\u001b[0m     prompt_messages \u001b[38;5;241m=\u001b[39m [p\u001b[38;5;241m.\u001b[39mto_messages() \u001b[38;5;28;01mfor\u001b[39;00m p \u001b[38;5;129;01min\u001b[39;00m prompts]\n\u001b[0;32m--> 860\u001b[0m     \u001b[38;5;28;01mreturn\u001b[39;00m \u001b[38;5;28;43mself\u001b[39;49m\u001b[38;5;241;43m.\u001b[39;49m\u001b[43mgenerate\u001b[49m\u001b[43m(\u001b[49m\u001b[43mprompt_messages\u001b[49m\u001b[43m,\u001b[49m\u001b[43m \u001b[49m\u001b[43mstop\u001b[49m\u001b[38;5;241;43m=\u001b[39;49m\u001b[43mstop\u001b[49m\u001b[43m,\u001b[49m\u001b[43m \u001b[49m\u001b[43mcallbacks\u001b[49m\u001b[38;5;241;43m=\u001b[39;49m\u001b[43mcallbacks\u001b[49m\u001b[43m,\u001b[49m\u001b[43m \u001b[49m\u001b[38;5;241;43m*\u001b[39;49m\u001b[38;5;241;43m*\u001b[39;49m\u001b[43mkwargs\u001b[49m\u001b[43m)\u001b[49m\n",
      "File \u001b[0;32m~/anaconda3/lib/python3.11/site-packages/langchain_core/language_models/chat_models.py:690\u001b[0m, in \u001b[0;36mBaseChatModel.generate\u001b[0;34m(self, messages, stop, callbacks, tags, metadata, run_name, run_id, **kwargs)\u001b[0m\n\u001b[1;32m    687\u001b[0m \u001b[38;5;28;01mfor\u001b[39;00m i, m \u001b[38;5;129;01min\u001b[39;00m \u001b[38;5;28menumerate\u001b[39m(messages):\n\u001b[1;32m    688\u001b[0m     \u001b[38;5;28;01mtry\u001b[39;00m:\n\u001b[1;32m    689\u001b[0m         results\u001b[38;5;241m.\u001b[39mappend(\n\u001b[0;32m--> 690\u001b[0m             \u001b[38;5;28;43mself\u001b[39;49m\u001b[38;5;241;43m.\u001b[39;49m\u001b[43m_generate_with_cache\u001b[49m\u001b[43m(\u001b[49m\n\u001b[1;32m    691\u001b[0m \u001b[43m                \u001b[49m\u001b[43mm\u001b[49m\u001b[43m,\u001b[49m\n\u001b[1;32m    692\u001b[0m \u001b[43m                \u001b[49m\u001b[43mstop\u001b[49m\u001b[38;5;241;43m=\u001b[39;49m\u001b[43mstop\u001b[49m\u001b[43m,\u001b[49m\n\u001b[1;32m    693\u001b[0m \u001b[43m                \u001b[49m\u001b[43mrun_manager\u001b[49m\u001b[38;5;241;43m=\u001b[39;49m\u001b[43mrun_managers\u001b[49m\u001b[43m[\u001b[49m\u001b[43mi\u001b[49m\u001b[43m]\u001b[49m\u001b[43m \u001b[49m\u001b[38;5;28;43;01mif\u001b[39;49;00m\u001b[43m \u001b[49m\u001b[43mrun_managers\u001b[49m\u001b[43m \u001b[49m\u001b[38;5;28;43;01melse\u001b[39;49;00m\u001b[43m \u001b[49m\u001b[38;5;28;43;01mNone\u001b[39;49;00m\u001b[43m,\u001b[49m\n\u001b[1;32m    694\u001b[0m \u001b[43m                \u001b[49m\u001b[38;5;241;43m*\u001b[39;49m\u001b[38;5;241;43m*\u001b[39;49m\u001b[43mkwargs\u001b[49m\u001b[43m,\u001b[49m\n\u001b[1;32m    695\u001b[0m \u001b[43m            \u001b[49m\u001b[43m)\u001b[49m\n\u001b[1;32m    696\u001b[0m         )\n\u001b[1;32m    697\u001b[0m     \u001b[38;5;28;01mexcept\u001b[39;00m \u001b[38;5;167;01mBaseException\u001b[39;00m \u001b[38;5;28;01mas\u001b[39;00m e:\n\u001b[1;32m    698\u001b[0m         \u001b[38;5;28;01mif\u001b[39;00m run_managers:\n",
      "File \u001b[0;32m~/anaconda3/lib/python3.11/site-packages/langchain_core/language_models/chat_models.py:925\u001b[0m, in \u001b[0;36mBaseChatModel._generate_with_cache\u001b[0;34m(self, messages, stop, run_manager, **kwargs)\u001b[0m\n\u001b[1;32m    923\u001b[0m \u001b[38;5;28;01melse\u001b[39;00m:\n\u001b[1;32m    924\u001b[0m     \u001b[38;5;28;01mif\u001b[39;00m inspect\u001b[38;5;241m.\u001b[39msignature(\u001b[38;5;28mself\u001b[39m\u001b[38;5;241m.\u001b[39m_generate)\u001b[38;5;241m.\u001b[39mparameters\u001b[38;5;241m.\u001b[39mget(\u001b[38;5;124m\"\u001b[39m\u001b[38;5;124mrun_manager\u001b[39m\u001b[38;5;124m\"\u001b[39m):\n\u001b[0;32m--> 925\u001b[0m         result \u001b[38;5;241m=\u001b[39m \u001b[38;5;28;43mself\u001b[39;49m\u001b[38;5;241;43m.\u001b[39;49m\u001b[43m_generate\u001b[49m\u001b[43m(\u001b[49m\n\u001b[1;32m    926\u001b[0m \u001b[43m            \u001b[49m\u001b[43mmessages\u001b[49m\u001b[43m,\u001b[49m\u001b[43m \u001b[49m\u001b[43mstop\u001b[49m\u001b[38;5;241;43m=\u001b[39;49m\u001b[43mstop\u001b[49m\u001b[43m,\u001b[49m\u001b[43m \u001b[49m\u001b[43mrun_manager\u001b[49m\u001b[38;5;241;43m=\u001b[39;49m\u001b[43mrun_manager\u001b[49m\u001b[43m,\u001b[49m\u001b[43m \u001b[49m\u001b[38;5;241;43m*\u001b[39;49m\u001b[38;5;241;43m*\u001b[39;49m\u001b[43mkwargs\u001b[49m\n\u001b[1;32m    927\u001b[0m \u001b[43m        \u001b[49m\u001b[43m)\u001b[49m\n\u001b[1;32m    928\u001b[0m     \u001b[38;5;28;01melse\u001b[39;00m:\n\u001b[1;32m    929\u001b[0m         result \u001b[38;5;241m=\u001b[39m \u001b[38;5;28mself\u001b[39m\u001b[38;5;241m.\u001b[39m_generate(messages, stop\u001b[38;5;241m=\u001b[39mstop, \u001b[38;5;241m*\u001b[39m\u001b[38;5;241m*\u001b[39mkwargs)\n",
      "File \u001b[0;32m~/anaconda3/lib/python3.11/site-packages/langchain_aws/chat_models/bedrock_converse.py:523\u001b[0m, in \u001b[0;36mChatBedrockConverse._generate\u001b[0;34m(self, messages, stop, run_manager, **kwargs)\u001b[0m\n\u001b[1;32m    521\u001b[0m logger\u001b[38;5;241m.\u001b[39mdebug(\u001b[38;5;124mf\u001b[39m\u001b[38;5;124m\"\u001b[39m\u001b[38;5;124mInput params: \u001b[39m\u001b[38;5;132;01m{\u001b[39;00mparams\u001b[38;5;132;01m}\u001b[39;00m\u001b[38;5;124m\"\u001b[39m)\n\u001b[1;32m    522\u001b[0m logger\u001b[38;5;241m.\u001b[39minfo(\u001b[38;5;124m\"\u001b[39m\u001b[38;5;124mUsing Bedrock Converse API to generate response\u001b[39m\u001b[38;5;124m\"\u001b[39m)\n\u001b[0;32m--> 523\u001b[0m response \u001b[38;5;241m=\u001b[39m \u001b[38;5;28;43mself\u001b[39;49m\u001b[38;5;241;43m.\u001b[39;49m\u001b[43mclient\u001b[49m\u001b[38;5;241;43m.\u001b[39;49m\u001b[43mconverse\u001b[49m\u001b[43m(\u001b[49m\n\u001b[1;32m    524\u001b[0m \u001b[43m    \u001b[49m\u001b[43mmessages\u001b[49m\u001b[38;5;241;43m=\u001b[39;49m\u001b[43mbedrock_messages\u001b[49m\u001b[43m,\u001b[49m\u001b[43m \u001b[49m\u001b[43msystem\u001b[49m\u001b[38;5;241;43m=\u001b[39;49m\u001b[43msystem\u001b[49m\u001b[43m,\u001b[49m\u001b[43m \u001b[49m\u001b[38;5;241;43m*\u001b[39;49m\u001b[38;5;241;43m*\u001b[39;49m\u001b[43mparams\u001b[49m\n\u001b[1;32m    525\u001b[0m \u001b[43m\u001b[49m\u001b[43m)\u001b[49m\n\u001b[1;32m    526\u001b[0m logger\u001b[38;5;241m.\u001b[39mdebug(\u001b[38;5;124mf\u001b[39m\u001b[38;5;124m\"\u001b[39m\u001b[38;5;124mResponse from Bedrock: \u001b[39m\u001b[38;5;132;01m{\u001b[39;00mresponse\u001b[38;5;132;01m}\u001b[39;00m\u001b[38;5;124m\"\u001b[39m)\n\u001b[1;32m    527\u001b[0m response_message \u001b[38;5;241m=\u001b[39m _parse_response(response)\n",
      "File \u001b[0;32m~/anaconda3/lib/python3.11/site-packages/botocore/client.py:569\u001b[0m, in \u001b[0;36mClientCreator._create_api_method.<locals>._api_call\u001b[0;34m(self, *args, **kwargs)\u001b[0m\n\u001b[1;32m    565\u001b[0m     \u001b[38;5;28;01mraise\u001b[39;00m \u001b[38;5;167;01mTypeError\u001b[39;00m(\n\u001b[1;32m    566\u001b[0m         \u001b[38;5;124mf\u001b[39m\u001b[38;5;124m\"\u001b[39m\u001b[38;5;132;01m{\u001b[39;00mpy_operation_name\u001b[38;5;132;01m}\u001b[39;00m\u001b[38;5;124m() only accepts keyword arguments.\u001b[39m\u001b[38;5;124m\"\u001b[39m\n\u001b[1;32m    567\u001b[0m     )\n\u001b[1;32m    568\u001b[0m \u001b[38;5;66;03m# The \"self\" in this scope is referring to the BaseClient.\u001b[39;00m\n\u001b[0;32m--> 569\u001b[0m \u001b[38;5;28;01mreturn\u001b[39;00m \u001b[38;5;28;43mself\u001b[39;49m\u001b[38;5;241;43m.\u001b[39;49m\u001b[43m_make_api_call\u001b[49m\u001b[43m(\u001b[49m\u001b[43moperation_name\u001b[49m\u001b[43m,\u001b[49m\u001b[43m \u001b[49m\u001b[43mkwargs\u001b[49m\u001b[43m)\u001b[49m\n",
      "File \u001b[0;32m~/anaconda3/lib/python3.11/site-packages/botocore/client.py:1023\u001b[0m, in \u001b[0;36mBaseClient._make_api_call\u001b[0;34m(self, operation_name, api_params)\u001b[0m\n\u001b[1;32m   1019\u001b[0m     error_code \u001b[38;5;241m=\u001b[39m error_info\u001b[38;5;241m.\u001b[39mget(\u001b[38;5;124m\"\u001b[39m\u001b[38;5;124mQueryErrorCode\u001b[39m\u001b[38;5;124m\"\u001b[39m) \u001b[38;5;129;01mor\u001b[39;00m error_info\u001b[38;5;241m.\u001b[39mget(\n\u001b[1;32m   1020\u001b[0m         \u001b[38;5;124m\"\u001b[39m\u001b[38;5;124mCode\u001b[39m\u001b[38;5;124m\"\u001b[39m\n\u001b[1;32m   1021\u001b[0m     )\n\u001b[1;32m   1022\u001b[0m     error_class \u001b[38;5;241m=\u001b[39m \u001b[38;5;28mself\u001b[39m\u001b[38;5;241m.\u001b[39mexceptions\u001b[38;5;241m.\u001b[39mfrom_code(error_code)\n\u001b[0;32m-> 1023\u001b[0m     \u001b[38;5;28;01mraise\u001b[39;00m error_class(parsed_response, operation_name)\n\u001b[1;32m   1024\u001b[0m \u001b[38;5;28;01melse\u001b[39;00m:\n\u001b[1;32m   1025\u001b[0m     \u001b[38;5;28;01mreturn\u001b[39;00m parsed_response\n",
      "\u001b[0;31mClientError\u001b[0m: An error occurred (UnrecognizedClientException) when calling the Converse operation: The security token included in the request is invalid."
     ]
    }
   ],
   "source": [
    "get_model('llama-3.3').invoke('Hi')"
   ]
  },
  {
   "cell_type": "code",
   "execution_count": 121,
   "id": "9082c95a-7459-4499-a283-cc5e627a3e5f",
   "metadata": {},
   "outputs": [
    {
     "data": {
      "image/png": "[encoded data removed]",
      "text/plain": [
       "<IPython.core.display.Image object>"
      ]
     },
     "metadata": {},
     "output_type": "display_data"
    }
   ],
   "source": [
    "config = {\n",
    "    \"configurable\": {\n",
    "        \"thread_id\": \"2\",\n",
    "        \"model_type\": \"llama-mini\",  # Example model type\n",
    "        \"retriever_path\": \"GP_Copilot/chroma\",  # Example retriever\n",
    "        \"custom_system_prompt\": \"\",\n",
    "        \"verbose\": True\n",
    "    }\n",
    "}\n",
    "\n",
    "user_msg = 'how do I view an umap plot?'\n",
    "initial_state = {\n",
    "    \"session_id\": \"1\",  # Assign a session ID (string format)\n",
    "    \"messages\": [{\"role\": \"user\", \"content\": user_msg}],  # Ensure messages are a list\n",
    "    'user_query' : 'Message Zero',\n",
    "    \"query_type\": None,  # This will be populated by the `agent` node\n",
    "    \"query_info\": {},  # This will be populated by `detect_modules`\n",
    "    \"model_type\": \"llama-3.3\",  # Default model type\n",
    "    \"retriever_path\": \"GP_Copilot/chroma\",  # Path for retriever\n",
    "    \"custom_system_prompt\": \"\",  # Custom prompt if any\n",
    "    \"verbose\": True,  # Debugging flag\n",
    "    \"extra_field\": 0,  # Placeholder extra field\n",
    "    \"action\": \"\",  # Placeholder, modify if needed\n",
    "}\n",
    "graph = get_graph()\n",
    "\n",
    "try:\n",
    "    display(Image(graph.get_graph(xray=True).draw_mermaid_png()))\n",
    "except Exception as e:\n",
    "    # This requires some extra dependencies and is optional\n",
    "    print(e)\n",
    "\n",
    "# state = graph.invoke(initial_state, config)"
   ]
  },
  {
   "cell_type": "code",
   "execution_count": 158,
   "id": "30838fa5-3ec1-4a19-9931-3a34b268aa3b",
   "metadata": {},
   "outputs": [],
   "source": [
    "user_msg = 'Walk me through the Seurat workflow in GenePattern, from start to finish, performing clustering and creating a UMAP image for my dataset.'\n",
    "initial_state = {\n",
    "    \"session_id\": \"1\",  # Assign a session ID (string format)\n",
    "    \"messages\": [HumanMessage(content = user_msg)],  # Ensure messages are a list\n",
    "    'user_query' : 'Message Zero',\n",
    "    \"query_type\": None,  # This will be populated by the `agent` node\n",
    "    \"query_info\": {},  # This will be populated by `detect_modules`\n",
    "    \"model_type\": \"llama-3.3\",  # Default model type\n",
    "    \"retriever_path\": \"GP_Copilot/chroma\",  # Path for retriever\n",
    "    \"custom_system_prompt\": \"\",  # Custom prompt if any\n",
    "    \"verbose\": True,  # Debugging flag\n",
    "    \"extra_field\": 0,  # Placeholder extra field\n",
    "    \"action\": \"\",  # Placeholder, modify if needed\n",
    "}\n",
    "\n",
    "config = {\n",
    "    \"configurable\": {\n",
    "        \"thread_id\": \"2\",\n",
    "        \"model_type\": \"llama-mini\",  # Example model type\n",
    "        \"retriever_path\": \"GP_Copilot/chroma\",  # Example retriever\n",
    "        \"custom_system_prompt\": \"\",\n",
    "        \"verbose\": True\n",
    "    }\n",
    "}\n"
   ]
  },
  {
   "cell_type": "code",
   "execution_count": 159,
   "id": "1a99d881-aeb5-4bb2-95a8-c47a135a399f",
   "metadata": {},
   "outputs": [
    {
     "name": "stdout",
     "output_type": "stream",
     "text": [
      "---- Determining usage ----\n",
      "user_query_classif='workflow_outlines'\n",
      "----Query type: workflow_outlines----\n"
     ]
    },
    {
     "data": {
      "text/plain": [
       "{'query_type': 'workflow_outlines',\n",
       " 'user_query': 'Walk me through the Seurat workflow in GenePattern, from start to finish, performing clustering and creating a UMAP image for my dataset.',\n",
       " 'action': \"---- Determining usage ----\\nuser_query_classif='workflow_outlines'\\n----Query type: workflow_outlines----\\nwent through Agent \\nagent categorized: workflow_outlines\"}"
      ]
     },
     "execution_count": 159,
     "metadata": {},
     "output_type": "execute_result"
    }
   ],
   "source": [
    "state = agent(initial_state)\n",
    "state"
   ]
  },
  {
   "cell_type": "code",
   "execution_count": 160,
   "id": "3b183ec5-caf1-45fd-bf03-e8ecfded6c6a",
   "metadata": {},
   "outputs": [
    {
     "name": "stdout",
     "output_type": "stream",
     "text": [
      "---- Generating Response ----\n"
     ]
    },
    {
     "data": {
      "application/vnd.jupyter.widget-view+json": {
       "model_id": "d9873e3557704503af23f54872fd405c",
       "version_major": 2,
       "version_minor": 0
      },
      "text/plain": [
       "Fetching 5 files:   0%|          | 0/5 [00:00<?, ?it/s]"
      ]
     },
     "metadata": {},
     "output_type": "display_data"
    },
    {
     "name": "stdout",
     "output_type": "stream",
     "text": [
      "Vector store: genepattern_module_manifests found. Number of documents in collection: 155\n",
      "Using llama-mini\n"
     ]
    },
    {
     "data": {
      "application/vnd.jupyter.widget-view+json": {
       "model_id": "38eeeda3dfe04d74840adcce93cf07aa",
       "version_major": 2,
       "version_minor": 0
      },
      "text/plain": [
       "Fetching 5 files:   0%|          | 0/5 [00:00<?, ?it/s]"
      ]
     },
     "metadata": {},
     "output_type": "display_data"
    },
    {
     "name": "stdout",
     "output_type": "stream",
     "text": [
      "Vector store: genepattern_module_documentations found. Number of documents in collection: 257\n",
      "Using llama-mini\n",
      "--- Docs retrieved ---\n",
      "number of docs retrieved:  84\n"
     ]
    }
   ],
   "source": [
    "state = generate_response(initial_state)"
   ]
  },
  {
   "cell_type": "code",
   "execution_count": 163,
   "id": "4f76c8e8-33f1-4c43-8f5e-508b2bec3fc2",
   "metadata": {},
   "outputs": [
    {
     "data": {
      "text/plain": [
       "{'messages': ['I think these [Seurat.IntegrateData, Seurat.Clustering, STREAM.Plot2DVisualization] modules will help.'],\n",
       " 'action': \"---- Determining usage ----\\nuser_query_classif='workflow_outlines'\\n----Query type: workflow_outlines----\\nwent through Agent \\n---- Generating Response ----\\n--- Docs retrieved ---\\nnumber of docs retrieved: 84\\nwent through generate responses\"}"
      ]
     },
     "execution_count": 163,
     "metadata": {},
     "output_type": "execute_result"
    }
   ],
   "source": [
    "state"
   ]
  },
  {
   "cell_type": "code",
   "execution_count": 164,
   "id": "d1ae7731-6410-4aeb-a34c-50b9be0a845f",
   "metadata": {},
   "outputs": [
    {
     "data": {
      "text/plain": [
       "{'session_id': '1',\n",
       " 'messages': [HumanMessage(content='Walk me through the Seurat workflow in GenePattern, from start to finish, performing clustering and creating a UMAP image for my dataset.', additional_kwargs={}, response_metadata={})],\n",
       " 'user_query': 'Walk me through the Seurat workflow in GenePattern, from start to finish, performing clustering and creating a UMAP image for my dataset.',\n",
       " 'query_type': 'workflow_outlines',\n",
       " 'query_info': {},\n",
       " 'model_type': 'llama-3.3',\n",
       " 'retriever_path': 'GP_Copilot/chroma',\n",
       " 'custom_system_prompt': '',\n",
       " 'verbose': True,\n",
       " 'extra_field': 0,\n",
       " 'action': \"---- Determining usage ----\\nuser_query_classif='workflow_outlines'\\n----Query type: workflow_outlines----\\nwent through Agent \\n---- Generating Response ----\\n--- Docs retrieved ---\\nnumber of docs retrieved: 84\\n\"}"
      ]
     },
     "execution_count": 164,
     "metadata": {},
     "output_type": "execute_result"
    }
   ],
   "source": [
    "initial_state"
   ]
  },
  {
   "cell_type": "code",
   "execution_count": null,
   "id": "1fd9f448-2ddc-4a0d-b3ad-0fc5110fd28e",
   "metadata": {},
   "outputs": [],
   "source": []
  },
  {
   "cell_type": "code",
   "execution_count": null,
   "id": "fb5a3dbc-bf21-4ffd-9719-08b639aaac1a",
   "metadata": {},
   "outputs": [],
   "source": []
  },
  {
   "cell_type": "code",
   "execution_count": null,
   "id": "3619025d-55d2-444e-a929-741952c3054a",
   "metadata": {},
   "outputs": [],
   "source": []
  },
  {
   "cell_type": "code",
   "execution_count": null,
   "id": "eab037fa-59ce-4429-9e7d-7d2d46cfc50d",
   "metadata": {},
   "outputs": [],
   "source": []
  },
  {
   "cell_type": "code",
   "execution_count": null,
   "id": "0b7758bf-86aa-403f-99f3-ac075208f27b",
   "metadata": {},
   "outputs": [],
   "source": []
  },
  {
   "cell_type": "code",
   "execution_count": null,
   "id": "552ade3b-deb4-4852-b48c-a20359940887",
   "metadata": {},
   "outputs": [],
   "source": [
    "state = detect_modules(initial_state)"
   ]
  },
  {
   "cell_type": "code",
   "execution_count": 5,
   "id": "5e40eabc-3698-47a1-8376-fd43b389ed7f",
   "metadata": {},
   "outputs": [],
   "source": [
    "# Initialize an empty ChromaDB client\n",
    "path = 'GP_Copilot/chroma'\n",
    "client = chromadb.PersistentClient(path=path)"
   ]
  },
  {
   "cell_type": "code",
   "execution_count": 9,
   "id": "475513d6-77c1-4a17-a81e-a777780b7516",
   "metadata": {},
   "outputs": [
    {
     "data": {
      "application/vnd.jupyter.widget-view+json": {
       "model_id": "9a341a11c04e4327b26c754c2be39bc3",
       "version_major": 2,
       "version_minor": 0
      },
      "text/plain": [
       "Fetching 5 files:   0%|          | 0/5 [00:00<?, ?it/s]"
      ]
     },
     "metadata": {},
     "output_type": "display_data"
    },
    {
     "name": "stdout",
     "output_type": "stream",
     "text": [
      "Vector store: genepattern_guide found. Number of documents in collection: 280\n"
     ]
    },
    {
     "data": {
      "application/vnd.jupyter.widget-view+json": {
       "model_id": "8cdf2bd76fdf4034896b2f75b9e3be03",
       "version_major": 2,
       "version_minor": 0
      },
      "text/plain": [
       "Fetching 5 files:   0%|          | 0/5 [00:00<?, ?it/s]"
      ]
     },
     "metadata": {},
     "output_type": "display_data"
    },
    {
     "name": "stdout",
     "output_type": "stream",
     "text": [
      "Vector store: genepattern_modules found. Number of documents in collection: 896\n"
     ]
    },
    {
     "data": {
      "application/vnd.jupyter.widget-view+json": {
       "model_id": "c401fdd2e47341aaa99ce2d90dcf3164",
       "version_major": 2,
       "version_minor": 0
      },
      "text/plain": [
       "Fetching 5 files:   0%|          | 0/5 [00:00<?, ?it/s]"
      ]
     },
     "metadata": {},
     "output_type": "display_data"
    },
    {
     "name": "stdout",
     "output_type": "stream",
     "text": [
      "Vector store: genepattern_threads found. Number of documents in collection: 902\n"
     ]
    }
   ],
   "source": [
    "## validate that docs are there:\n",
    "for col in ['genepattern_guide', 'genepattern_modules', 'genepattern_threads']:\n",
    "    get_vector_store(path, col)"
   ]
  },
  {
   "cell_type": "code",
   "execution_count": 16,
   "id": "21bbea8f-0e63-4723-bf58-64ea1eb95ce0",
   "metadata": {},
   "outputs": [
    {
     "data": {
      "application/vnd.jupyter.widget-view+json": {
       "model_id": "49bae98201f04a3d8f4519ac95392595",
       "version_major": 2,
       "version_minor": 0
      },
      "text/plain": [
       "Fetching 5 files:   0%|          | 0/5 [00:00<?, ?it/s]"
      ]
     },
     "metadata": {},
     "output_type": "display_data"
    },
    {
     "name": "stdout",
     "output_type": "stream",
     "text": [
      "Vector store: genepattern_modules found. Number of documents in collection: 896\n"
     ]
    },
    {
     "data": {
      "text/plain": [
       "VectorStoreRetriever(tags=['Chroma', 'FastEmbedEmbeddings'], vectorstore=<langchain_chroma.vectorstores.Chroma object at 0x314bc8b10>, search_kwargs={'filter': {'document_type': 'documentation'}})"
      ]
     },
     "execution_count": 16,
     "metadata": {},
     "output_type": "execute_result"
    }
   ],
   "source": [
    "ret = get_vector_store(path, 'genepattern_modules').as_retriever(search_kwargs = {'filter' : {'document_type' : 'documentation'}})\n",
    "ret"
   ]
  },
  {
   "cell_type": "code",
   "execution_count": 25,
   "id": "e9231bdd-2c70-457d-bd0f-d70e63041c54",
   "metadata": {},
   "outputs": [
    {
     "data": {
      "image/png": "[encoded data removed]",
      "text/plain": [
       "<IPython.core.display.Image object>"
      ]
     },
     "metadata": {},
     "output_type": "display_data"
    }
   ],
   "source": [
    "config = {\n",
    "    \"configurable\": {\n",
    "        \"thread_id\": \"2\",\n",
    "        \"model_type\": \"llama-mini\",  # Example model type\n",
    "        \"retriever_path\": \"GP_Copilot/chroma\",  # Example retriever\n",
    "        \"custom_system_prompt\": \"\",\n",
    "        \"verbose\": True\n",
    "    }\n",
    "}\n",
    "\n",
    "user_msg = 'how do I view an umap plot using seurat?'\n",
    "initial_state = {\n",
    "    \"session_id\": \"1\",  # Assign a session ID (string format)\n",
    "    \"messages\": [{\"role\": \"user\", \"content\": user_msg}],  # Ensure messages are a list\n",
    "    'user_query' : 'Message Zero',\n",
    "    \"query_type\": None,  # This will be populated by the `agent` node\n",
    "    \"query_info\": {},  # This will be populated by `detect_modules`\n",
    "    \"model_type\": \"llama-3.3\",  # Default model type\n",
    "    \"custom_system_prompt\": \"\",  # Custom prompt if any\n",
    "    \"verbose\": True,  # Debugging flag\n",
    "    \"extra_field\": 0,  # Placeholder extra field\n",
    "    \"action\": \"\",  # Placeholder, modify if needed\n",
    "}\n",
    "graph = get_graph()\n",
    "\n",
    "try:\n",
    "    display(Image(graph.get_graph(xray=True).draw_mermaid_png()))\n",
    "except Exception as e:\n",
    "    # This requires some extra dependencies and is optional\n",
    "    print(e)\n",
    "\n",
    "# state = graph.invoke(initial_state, config)\n",
    "\n",
    "\n"
   ]
  },
  {
   "cell_type": "code",
   "execution_count": 47,
   "id": "c71a7b15-6c7b-4e05-9246-da9161ed56f9",
   "metadata": {},
   "outputs": [
    {
     "name": "stdout",
     "output_type": "stream",
     "text": [
      "---- Generating Response ----\n",
      "chroma\n"
     ]
    },
    {
     "data": {
      "application/vnd.jupyter.widget-view+json": {
       "model_id": "07e8b641a636410d95d725e50d96c67a",
       "version_major": 2,
       "version_minor": 0
      },
      "text/plain": [
       "Fetching 5 files:   0%|          | 0/5 [00:00<?, ?it/s]"
      ]
     },
     "metadata": {},
     "output_type": "display_data"
    },
    {
     "name": "stdout",
     "output_type": "stream",
     "text": [
      "Vector store: genepattern_modules found. Number of documents in collection: 872\n",
      "Using llama-mini\n",
      "--- Docs retrieved ---\n",
      "number of docs retrieved:  40\n",
      "Based on the context and the user's query about viewing a UMAP plot using Seurat, I recommend the following GenePatterntern module:\n",
      "\n",
      "Seurat.IntegrateData (urn:lsid:8080.gpserver.ip-172-31-26-71.ip-172-31-26-71.ec2.internal:genepatternmodules:941:1.3)\n",
      "\n",
      "Key parameters for this module include:\n",
      "1. input_files: Gene expression matrices or Seurat objects\n",
      "2. use_batch_names: Map input files to batch numbers (default TRUE)\n",
      "3. ncomps: Number of principal components for batch correction (default 50)\n",
      "4. output_file__name for output files\n",
      "\n",
      "While this module is primarily for batch correction,, Seurat workflows typically involve dimensionality reduction steps like UMAP. However, for a specific UMAP plot visualization, you might need to use additional R scripting or a custom Seurat module.\n",
      "\n",
      "Recommendation: Contact the GenePattern team (gp-help@broadinstitute.org) to request a dedicated Seurat UMAP visualization module if one is not currently available.\n",
      "\n",
      "Would you like me to elaborate on how you might approach creating a UMAP plot using With the availablePattern modules or Seurat functionality?\n"
     ]
    }
   ],
   "source": [
    "state = generate_response(initial_state)\n",
    "print(state['messages'][-1])"
   ]
  },
  {
   "cell_type": "code",
   "execution_count": 31,
   "id": "9c59605a-41f9-40d3-8bf7-1b00adb89131",
   "metadata": {},
   "outputs": [
    {
     "name": "stdout",
     "output_type": "stream",
     "text": [
      "---- Detecting modules (if any) in user prompt. ----\n",
      "Using AWS bedrock llama!, model: us.meta.llama3-3-70b-instruct-v1:0\n"
     ]
    },
    {
     "ename": "AttributeError",
     "evalue": "'str' object has no attribute 'content'",
     "output_type": "error",
     "traceback": [
      "\u001b[0;31m---------------------------------------------------------------------------\u001b[0m",
      "\u001b[0;31mAttributeError\u001b[0m                            Traceback (most recent call last)",
      "Cell \u001b[0;32mIn[31], line 1\u001b[0m\n\u001b[0;32m----> 1\u001b[0m \u001b[43mdetect_modules\u001b[49m\u001b[43m(\u001b[49m\u001b[43mstate\u001b[49m\u001b[43m)\u001b[49m\n",
      "File \u001b[0;32m~/Documents/GitHub/GPCopilot/GP_Copilot/copilot/langgraph_testing.py:248\u001b[0m, in \u001b[0;36mdetect_modules\u001b[0;34m(state)\u001b[0m\n\u001b[1;32m    245\u001b[0m chain \u001b[38;5;241m=\u001b[39m prompt \u001b[38;5;241m|\u001b[39m llm \n\u001b[1;32m    246\u001b[0m \u001b[38;5;66;03m# print(f\"---- User prompt: ---- \\n {state['messages'][-1].content}----\")\u001b[39;00m\n\u001b[1;32m    247\u001b[0m response \u001b[38;5;241m=\u001b[39m chain\u001b[38;5;241m.\u001b[39minvoke({\n\u001b[0;32m--> 248\u001b[0m     \u001b[38;5;124m'\u001b[39m\u001b[38;5;124mai_response\u001b[39m\u001b[38;5;124m'\u001b[39m: \u001b[43mstate\u001b[49m\u001b[43m[\u001b[49m\u001b[38;5;124;43m'\u001b[39;49m\u001b[38;5;124;43mmessages\u001b[39;49m\u001b[38;5;124;43m'\u001b[39;49m\u001b[43m]\u001b[49m\u001b[43m[\u001b[49m\u001b[38;5;241;43m-\u001b[39;49m\u001b[38;5;241;43m1\u001b[39;49m\u001b[43m]\u001b[49m\u001b[38;5;241;43m.\u001b[39;49m\u001b[43mcontent\u001b[49m\n\u001b[1;32m    249\u001b[0m })\n\u001b[1;32m    250\u001b[0m \u001b[38;5;66;03m# print(response)\u001b[39;00m\n\u001b[1;32m    251\u001b[0m modules_identified \u001b[38;5;241m=\u001b[39m response\u001b[38;5;241m.\u001b[39mcontent\n",
      "\u001b[0;31mAttributeError\u001b[0m: 'str' object has no attribute 'content'"
     ]
    }
   ],
   "source": [
    "detect_modules(state)"
   ]
  },
  {
   "cell_type": "code",
   "execution_count": 85,
   "id": "84278f96-86fa-46ee-b9d9-976ea049cfa0",
   "metadata": {},
   "outputs": [],
   "source": [
    "# retrieve_documents('GP_Copilot/chroma', 'rna-seq analysis', collection_name = 'my_vector_store')\n",
    "# Helper function for printing docs\n",
    "\n",
    "\n",
    "def pretty_print_docs(docs):\n",
    "    print(\n",
    "        f\"\\n{'-' * 100}\\n\".join(\n",
    "            [f\"Document {i+1}:\\n\\n\" + d.page_content for i, d in enumerate(docs)]\n",
    "        )\n",
    "    )\n",
    "    "
   ]
  },
  {
   "cell_type": "code",
   "execution_count": 141,
   "id": "c34fe5d9-e8b6-46a8-9c4e-e0514ca8eb7b",
   "metadata": {},
   "outputs": [],
   "source": [
    "collections = ['genepattern_guide','genepattern_module_manifests','genepattern_module_readmes','genepattern_module_wrappers','genepattern_module_documentations','genepattern_threads']"
   ]
  },
  {
   "cell_type": "code",
   "execution_count": 146,
   "id": "b985dc32-87c0-48f7-8a7d-d3b06a18706b",
   "metadata": {},
   "outputs": [],
   "source": [
    "# from langchain.retrievers import ContextualCompressionRetriever\n",
    "# from langchain.retrievers.document_compressors import LLMChainExtractor\n",
    "# all_docs = []\n",
    "# for col in collections:\n",
    "#     print('-----------------------------------------------------------------------------------------')\n",
    "#     print(f'LOOKING THROUGH {col} collection: ')\n",
    "#     retriever = get_vector_store('GP_Copilot/chroma', col).as_retriever()\n",
    "#     llm = get_model('llama-3.3')\n",
    "#     compressed_docs = MultiQueryRetriever.from_llm(retriever = retriever, llm = get_model('llama-3.3')).invoke('how do I run the seurat pipeline? ')\n",
    "#     all_docs += compressed_docs\n",
    "#     pretty_print_docs(compressed_docs)\n",
    "\n",
    "#     print('-----------------------------------------------------------------------------------------')"
   ]
  },
  {
   "cell_type": "code",
   "execution_count": 92,
   "id": "618a2039-a1f6-42b1-a6de-61b8ad2f56f3",
   "metadata": {},
   "outputs": [],
   "source": [
    "# get_vector_store('GP_Copilot/chroma', 'genepattern_modules').as_retriever().invoke('DESeq2 will create a confounding variable class file')"
   ]
  },
  {
   "cell_type": "code",
   "execution_count": 119,
   "id": "ab77584e-761f-425d-ae9d-38f9c6837683",
   "metadata": {},
   "outputs": [],
   "source": [
    "# retrieve_documents('GP_Copilot/chroma', 'seurat', collection_name = 'genepattern_module_documentations')"
   ]
  },
  {
   "cell_type": "code",
   "execution_count": null,
   "id": "330b0865-3871-4784-b204-3823f0bc8efc",
   "metadata": {},
   "outputs": [],
   "source": []
  }
 ],
 "metadata": {
  "kernelspec": {
   "display_name": "Python 3 (ipykernel)",
   "language": "python",
   "name": "python3"
  },
  "language_info": {
   "codemirror_mode": {
    "name": "ipython",
    "version": 3
   },
   "file_extension": ".py",
   "mimetype": "text/x-python",
   "name": "python",
   "nbconvert_exporter": "python",
   "pygments_lexer": "ipython3",
   "version": "3.11.5"
  }
 },
 "nbformat": 4,
 "nbformat_minor": 5
}
