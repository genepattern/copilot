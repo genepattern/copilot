{
 "cells": [
  {
   "cell_type": "code",
   "execution_count": 1,
   "id": "340d54bf-e128-4469-a3be-eb794047be1f",
   "metadata": {},
   "outputs": [
    {
     "name": "stderr",
     "output_type": "stream",
     "text": [
      "USER_AGENT environment variable not set, consider setting it to identify your requests.\n"
     ]
    }
   ],
   "source": [
    "# Load the autoreload extension\n",
    "%load_ext autoreload\n",
    "\n",
    "# Reload all modules (except those imported with %aimport) automatically\n",
    "%autoreload 2\n",
    "\n",
    "\n",
    "from GP_Copilot.copilot import LLM_langchain\n",
    "import pandas as pd\n",
    "import os\n",
    "from langchain_core.documents import Document\n",
    "import json\n",
    "import requests\n",
    "import numpy as np\n",
    "import datetime\n",
    "\n",
    "## langgraph stuff\n",
    "\n",
    "# google gemini\n",
    "from langchain_google_genai import ChatGoogleGenerativeAI\n"
   ]
  },
  {
   "cell_type": "code",
   "execution_count": 2,
   "id": "8485e45c-c629-4083-ae5a-5e57124da287",
   "metadata": {},
   "outputs": [],
   "source": [
    "with open('questions.txt', 'r') as file:\n",
    "    questions = file.read().split('--------------')\n",
    "with open('answers.txt', 'r') as file:\n",
    "    answers = file.read().split('--------------')\n",
    "    "
   ]
  },
  {
   "cell_type": "code",
   "execution_count": 3,
   "id": "2bf5c164-6d23-4793-9c33-259f8a5cee1c",
   "metadata": {},
   "outputs": [
    {
     "name": "stdout",
     "output_type": "stream",
     "text": [
      "\n",
      "\n",
      "Subject: RNASeq TPM and inter-sample variability in ssGSEA\n",
      "\n",
      "\n",
      "Hello,\n",
      "I would like to run ssGSEA in RNASeq data from the  CCLE repository.  \n",
      "\n",
      "In this thread https://groups.google.com/g/genepattern-help/c/vcg9gLolZAY , \n",
      "it is recommended to use the PreprocessReadCounts module to process raw \n",
      "counts and then directly use ssGSEA. I found that the PreprocessReadCounts \n",
      "is now renamed as VoomNormalize but this module does not provide TPMs or \n",
      "accounts for gene length issues that influence ssGSEA performance. \n",
      "Nonetheless, it accounts for intersample variability, which is ignored in \n",
      "TPM units. \n",
      "In a more recent thread, \n",
      "https://groups.google.com/g/genepattern-help/c/pVvpxGOkiZU/m/Vsjrn-p6DQAJ , \n",
      "it is recommended to use TPM units as input to ssGSEA. \n",
      "\n",
      "My questions:\n",
      "1) Should I use the VoomNormalize results or the TPM values as input to \n",
      "ssGSEA?\n",
      "\n",
      "2) If I use TPM units, how should I remove the inter-sample variability? \n",
      "Which sample normalization method, from the 3 options (rank, rank.log or \n",
      "log), would be best? \n",
      "\n",
      "Thanks in advance.\n",
      "\n",
      "Best regards,\n",
      "\n",
      "S.\n",
      "\n",
      "\n",
      " \n",
      "\n",
      "\n",
      "Subject: Re: [genepattern-help:1919] RNASeq TPM and inter-sample variability\n",
      " in ssGSEA\n",
      "\n",
      "Hello,\n",
      "Thank you very much for the exhaustive explanation. I followed your\n",
      "recommendations about first executing ssGSEA and then check if batch effect\n",
      "was still there with the resulting scores. Samples do not cluster together\n",
      "by batch if I proceed this way.\n",
      "\n",
      "One more question. Is there any link with example files to run the \"combine\n",
      "mode\" with up- or down-regulated genes, i.e. gene set format for pairings\n",
      "of up- and down-regulated gene sets, and also how to set the \"combine mode\"\n",
      "option (differences between combine.replace and combine.add) in ssGSEA?\n",
      "Should I open a new thread?\n",
      "\n",
      "Thanks you very much in advance.\n",
      "\n",
      "\n",
      " \n"
     ]
    }
   ],
   "source": [
    "qas = list(zip(questions, answers))\n",
    "for q, a in qas:\n",
    "    print(q)\n",
    "    print(a)\n",
    "    break"
   ]
  },
  {
   "cell_type": "code",
   "execution_count": 4,
   "id": "b0874da4-cd55-4086-98af-8f7f1e1a6f0e",
   "metadata": {},
   "outputs": [],
   "source": [
    "from langchain_core.prompts import ChatPromptTemplate\n",
    "from langchain_core.runnables import RunnablePassthrough\n",
    "from typing import Optional\n",
    "from pydantic import BaseModel, Field\n",
    "\n",
    "class validation(BaseModel):\n",
    "    \"\"\"\n",
    "    Validation from the validation bot, structured output\n",
    "    \"\"\"\n",
    "\n",
    "    feedback : Optional[str] = Field(description = \"Your feedback to the ai response v.s. the real answer\")\n",
    "    score: Optional[int] = Field(description = \"The score you're giving to the ai response, out of 100. \")\n",
    "    refinement: Optional[str] = Field(description = \"Refined AI response.\")\n",
    "    metadata : Optional[dict] = Field(description = 'Any other metadata including i/o tokens and stuff')\n",
    "    \n",
    "def validation_bot(user_query, ai_response , real_answer):\n",
    "    \"\"\"\n",
    "    This bot will take some AI response, some user query, and a real response to the question and\n",
    "    give a score as well as how good an AI response is. \n",
    "    \"\"\"\n",
    "\n",
    "    model = LLM_langchain.get_model('haiku', True)\n",
    "\n",
    "    system_prompt = \"\"\"\n",
    "        You are an expert in assisting biologists. \n",
    "        Your task is to evaluate an AI-generated response to a user's biology-related question. \n",
    "        You will receive three pieces of information: \n",
    "        (1) the original user question, \n",
    "        (2) the AI's response, and \n",
    "        (3) the correct human-provided answer.\n",
    "        Assess the AI’s response for accuracy, completeness, and clarity. \n",
    "        The best response is one that correctly answers the question concisely, \n",
    "        without adding unnecessary details, misleading information, or excessive mathematical explanations unless explicitly needed.\n",
    "        Provide a short and concise evaluation of the AI's response, \n",
    "        pointing out any errors, missing details, or unnecessary complexity. \n",
    "        Then, assign a score from 0 to 100 based on correctness, \n",
    "        completeness, and clarity, where 100 represents a perfectly accurate and well-structured response.\n",
    "\n",
    "        NOTE: some of the answers might be follow up questions because of how they are structued in the thread. Use your best judgement to determine if \n",
    "        a message is a question or a response. \n",
    "\n",
    "        Here is the original user question: \n",
    "\n",
    "        {user_q}\n",
    "\n",
    "        Here is the AI response: \n",
    "\n",
    "        {ai_response}\n",
    " y\n",
    "        Here is the real answer:\n",
    "\n",
    "        {real_answer}\n",
    "\n",
    "        Give a better answer than the AI. \n",
    "\n",
    "        Also tell me what metric you used to give the validation score. \n",
    "        Regardless of the quality of the question and answer, tell me your validation process and how you came up with the score.\n",
    "        And by how you came up with the numbers, tell me what metric you used to come up with these numbers. \n",
    "        Specifically, how do you determine the accuracy score and stuff? \n",
    "        \n",
    "        \"\"\"\n",
    "\n",
    "    prompt = ChatPromptTemplate.from_template(system_prompt)\n",
    "\n",
    "    chain = {'user_q': RunnablePassthrough(), \n",
    "             'ai_response' : RunnablePassthrough(), \n",
    "             'real_answer':RunnablePassthrough()} | prompt | model.with_structured_output(validation, include_raw = True)\n",
    "\n",
    "    response = chain.invoke({'user_q' : user_query,\n",
    "                            'ai_response' : ai_response, \n",
    "                            'real_answer' : real_answer})\n",
    "\n",
    "    return response\n",
    "\n",
    "    \n",
    "def inference(model, system_prompt, collection_name, user_prompt, real_answer):\n",
    "    '''\n",
    "    actual inference\n",
    "    '''\n",
    "    # Call model\n",
    "    chain = LLM_langchain.get_chain(\n",
    "        model_type=model, \n",
    "        aws=True, \n",
    "        retriever_path='Gp_Copilot/chroma', \n",
    "        custom_system_prompt=system_prompt, \n",
    "        session_id=collection_name, \n",
    "        verbose=True\n",
    "    )\n",
    "    # Get response\n",
    "    response = chain.invoke(user_prompt)\n",
    "    response_dict = response.model_dump()\n",
    "    ai_response = response_dict['content']\n",
    "    # validation of answer: \n",
    "    validation = validation_bot(user_prompt, ai_response, real_answer)\n",
    "    feedback = validation['raw'].content\n",
    "    \n",
    "    # Generate JSON filename\n",
    "    timestamp = datetime.datetime.now().strftime(\"%Y%m%d_%H%M%S\")\n",
    "    filename = f\"validation_responses/validation_{timestamp}_{np.random.randint(100000)}.json\"\n",
    "    \n",
    "    # Create JSON structure\n",
    "    result_data = {\n",
    "        \"DateTime\": datetime.datetime.now().isoformat(),\n",
    "        \"ModelType\": model,\n",
    "        \"SystemPrompt\": system_prompt,\n",
    "        \"DocumentStoreVersion\": collection_name,\n",
    "        \"UserPrompt\": user_prompt,\n",
    "        \"Response\": ai_response,\n",
    "        \"real_answer\" : real_answer,\n",
    "        'Validation_feedback' : validation['parsed'].feedback, \n",
    "        'Validation_score' : validation['parsed'].score, \n",
    "        'Validation_refinement' : validation['parsed'].refinement, \n",
    "        'Usage_InputTokens': response_dict['usage_metadata']['input_tokens'] + validation['raw'].usage_metadata['input_tokens'],\n",
    "        'Usage_OutputTokens': response_dict['usage_metadata']['output_tokens']+ validation['raw'].usage_metadata['output_tokens'],\n",
    "        'Usage_TotalTokens': response_dict['usage_metadata']['total_tokens'] + validation['raw'].usage_metadata['total_tokens'],\n",
    "    }\n",
    "    \n",
    "    # Save JSON file\n",
    "    with open(filename, \"w\", encoding=\"utf-8\") as json_file:\n",
    "        json.dump(result_data, json_file, indent=4)\n",
    "    \n",
    "    # Update progress bar\n",
    "    return result_data\n",
    "\n",
    "\n",
    "\n"
   ]
  },
  {
   "cell_type": "code",
   "execution_count": 7,
   "id": "f963b642-bfff-4139-b80f-af3b2b997471",
   "metadata": {},
   "outputs": [],
   "source": [
    "# from tqdm import tqdm\n",
    "# import datetime\n",
    "# import json\n",
    "# import sys\n",
    "# import time\n",
    "\n",
    "    \n",
    "# def validation_func(model_types, system_prompts, doc_stores_collection_names, questions):\n",
    "#     '''\n",
    "#     function to do some validation \n",
    "\n",
    "#     model_types -- list of model types list[str]\n",
    "#     system_prompts -- list of custom system prompts list[str]\n",
    "#     doc_stores_collection_names -- list of collection names list[str]\n",
    "#     user_prompts -- list of user questions list[str]\n",
    "\n",
    "#     NOTE: if system prompt is \"\", then it will be the \"default\"\n",
    "#     '''\n",
    "\n",
    "#     results = []\n",
    "    \n",
    "#     total_iterations = len(model_types) * len(system_prompts) * len(doc_stores_collection_names) * len(user_prompts)\n",
    "\n",
    "#     # Token tracking\n",
    "#     tokens_used = 0\n",
    "#     start_time = time.time()\n",
    "#     with tqdm(total=total_iterations, desc=\"Validating\", unit=\"iter\", leave=True, file=sys.stdout) as pbar:\n",
    "#         for system_prompt in system_prompts:\n",
    "#             for q, a in questions:\n",
    "#                 for collection_name in doc_stores_collection_names:\n",
    "#                     for model in model_types:\n",
    "#                         tqdm.write(f'Performing experiment using: {model}, with store: {collection_name}')\n",
    "#                         try:\n",
    "#                             result = inference(model, system_prompt, collection_name, q, a)\n",
    "#                         except Exception as e:\n",
    "#                             ## probably reached rate limit, wait 1 min\n",
    "#                             print(e)\n",
    "#                             tqdm.write('sleeping...')\n",
    "#                             time.sleep(61)\n",
    "#                             result = inference(model, system_prompt, collection_name, q, a)\n",
    "#                         pbar.update(1)\n",
    "#                         results.append(result)\n",
    "#     return results\n",
    "\n",
    "# ## Example usage\n",
    "# model_types = ['gpt']\n",
    "# system_prompts = [\n",
    "#     \"You are a bioinformatics specialist with the GenePattern team, tasked with assisting users in navigating bioinformatics workflows. When an image is included, provide a detailed description. If a tool is not listed in the vector store, respond with: \\\"That tool is not currently available in GenePattern. Feel free to contact the GenePattern team if you think it would be a good addition to our repository. Email: edh021@cloud.ucsd.edu.\\\" Always specify the required input file formats when explaining how to use modules or tools. Recommend only those modules that are part of GenePattern. Avoid instructing users to “go to GenePattern and log in.” Use your expertise to answer questions thoroughly, offering step-by-step guidance. When discussing workflows, suggest only modules available on the GenePattern server. Assume the inquirer is an undergraduate biology student with minimal programming and computer skills.\",\n",
    "    \n",
    "#     \"As a bioinformatics expert with the GenePattern team, your role is to provide guidance on bioinformatics workflows. If an image is included, describe it comprehensively. For tools not found in the vector store, reply with: \\\"That tool is not currently available in GenePattern. Feel free to contact the GenePattern team if you think it would be a good addition to our repository. Email: edh021@cloud.ucsd.edu.\\\" Clearly state the input file formats needed for running modules or tools. Suggest only GenePattern modules. Refrain from telling users to “go to GenePattern and log in.” Use your knowledge to answer questions in detail, with clear, step-by-step instructions. When addressing workflows, recommend only modules present on the GenePattern server. Assume the questioner is an undergraduate biologist with limited programming and computer experience.\",\n",
    "    \n",
    "#     \"You are a bioinformatics authority working with the GenePattern team, responsible for answering questions about bioinformatics workflows. If an image is provided, offer a detailed description. For tools not in the vector store, respond with: \\\"That tool is not currently available in GenePattern. Feel free to contact the GenePattern team if you think it would be a good addition to our repository. Email: edh021@cloud.ucsd.edu.\\\" Specify the input file formats when explaining how to use modules or tools. Recommend only modules available in GenePattern. Avoid instructing users to “go to GenePattern and log in.” Provide comprehensive answers with step-by-step guidance. When discussing workflows, suggest only modules available on the GenePattern server. Assume the person asking is an undergraduate biology student with little programming and computer knowledge.\",\n",
    "    \n",
    "#     \"As a bioinformatics consultant for the GenePattern team, your task is to assist with questions about bioinformatics workflows. If an image is included, describe it in detail. For tools not in the vector store, reply with: \\\"That tool is not currently available in GenePattern. Feel free to contact the GenePattern team if you think it would be a good addition to our repository. Email: edh021@cloud.ucsd.edu.\\\" Clearly indicate the input file formats required for using modules or tools. Recommend only GenePattern modules. Do not instruct users to “go to GenePattern and log in.” Use your expertise to provide detailed answers with step-by-step instructions. When addressing workflows, suggest only modules available on the GenePattern server. Assume the inquirer is an undergraduate biologist with minimal programming and computer skills.\",\n",
    "    \n",
    "#     \"You are a bioinformatics advisor with the GenePattern team, dedicated to answering questions about bioinformatics workflows. If an image is provided, describe it thoroughly. For tools not found in the vector store, respond with: \\\"That tool is not currently available in GenePattern. Feel free to contact the GenePattern team if you think it would be a good addition to our repository. Email: edh021@cloud.ucsd.edu.\\\" Specify the input file formats when explaining how to use modules or tools. Recommend only modules that are part of GenePattern. Avoid telling users to “go to GenePattern and log in.” Provide detailed answers with step-by-step guidance. When discussing workflows, suggest only modules available on the GenePattern server. Assume the questioner is an undergraduate biology student with limited programming and computer experience.\"\n",
    "# ]\n",
    "# doc_stores_collection_names = ['empty', 'docs_readmes_wrappers_manifests', 'docs_readmes_wrappers_manifests_guides', 'docs_readmes_wrappers_manifests_guides_helpforum']\n",
    "# user_prompts = qas[10:50]\n",
    "\n",
    "# results = validation_func(model_types, system_prompts, doc_stores_collection_names, user_prompts)\n",
    "\n"
   ]
  },
  {
   "cell_type": "code",
   "execution_count": 9,
   "id": "b1c0f6c8-e892-4282-99a7-edc45106a287",
   "metadata": {},
   "outputs": [
    {
     "data": {
      "text/plain": [
       "ChatOpenAI(client=<openai.resources.chat.completions.Completions object at 0x311d418d0>, async_client=<openai.resources.chat.completions.AsyncCompletions object at 0x32d0cbc10>, root_client=<openai.OpenAI object at 0x32c855510>, root_async_client=<openai.AsyncOpenAI object at 0x311d41d10>, model_name='gpt-4o', temperature=0.0, model_kwargs={}, openai_api_key=SecretStr('**********'))"
      ]
     },
     "execution_count": 9,
     "metadata": {},
     "output_type": "execute_result"
    }
   ],
   "source": [
    "LLM_langchain.get_model('gpt', False)"
   ]
  },
  {
   "cell_type": "code",
   "execution_count": 10,
   "id": "d42d9708-0f66-4903-b752-b85555ea6793",
   "metadata": {},
   "outputs": [],
   "source": [
    "model_types = ['gpt']\n",
    "system_prompts = [\n",
    "    \"You are an expert bioinformatics assistant specializing in GenePattern workflows. Your role is to guide users in using bioinformatics tools with clear, structured, and step-by-step explanations. \\n\\n- **When an image is included**, provide a detailed description of its content and relevance to bioinformatics. \\n- **If a requested tool is not found in the vector store**, respond with: \\\"That tool is not currently available in GenePattern. You may suggest adding it by contacting the GenePattern team at edh021@cloud.ucsd.edu.\\\"\\n- **Always specify the required input file formats** when explaining how to use tools and modules.\\n- **Only recommend GenePattern modules**, avoiding external tools unless explicitly requested.\\n- **Never instruct users to manually log in**; instead, guide them through the workflow directly.\\n\\nAssume the user is an undergraduate biology student with minimal programming knowledge. Use a structured format (e.g., numbered steps, bullet points) to improve readability and usability.\",\n",
    "\n",
    "    \"As an advanced bioinformatics assistant, your task is to help users navigate GenePattern workflows with precise, well-structured explanations. \\n\\n- **For images**, describe their contents in a bioinformatics context.\\n- **For missing tools**, reply: \\\"That tool is not currently available in GenePattern. If you believe it should be added, please email edh021@cloud.ucsd.edu.\\\"\\n- **Always specify input file formats** and expected data structures before running any module.\\n- **Only suggest tools that are part of GenePattern** to ensure compatibility.\\n- **Instead of directing users to log in manually**, walk them through the process of using the system step by step.\\n\\nYour responses should be clear, structured, and use examples where possible. Assume the user is an undergraduate biology student with limited programming knowledge.\",\n",
    "\n",
    "    \"You are a bioinformatics specialist with deep expertise in GenePattern workflows. Your goal is to assist users by providing precise, structured, and actionable guidance.\\n\\n- **For images**, analyze and describe their content with bioinformatics relevance.\\n- **If a requested tool is unavailable**, respond with: \\\"That tool is not currently available in GenePattern. If you think it should be added, contact the GenePattern team at edh021@cloud.ucsd.edu.\\\"\\n- **Clearly state required input file formats** for all modules before explaining how to use them.\\n- **Ensure all recommended tools are part of GenePattern** to avoid confusion.\\n- **Provide detailed, step-by-step instructions**, rather than vague guidance.\\n\\nWrite responses as if the user is an undergraduate biologist unfamiliar with command-line programming. Use numbered lists, bullet points, and concise explanations to enhance clarity and usability.\",\n",
    "\n",
    "    \"You are a bioinformatics consultant specializing in GenePattern. Your primary role is to provide users with actionable guidance in navigating workflows and bioinformatics tools.\\n\\n- **If an image is included**, analyze its contents and provide a relevant description.\\n- **If a tool is not in the vector store**, reply: \\\"That tool is not currently available in GenePattern. If you think it should be included, contact edh021@cloud.ucsd.edu.\\\"\\n- **Ensure input file formats are clearly specified** for all tools before giving usage instructions.\\n- **Only recommend tools that are officially part of GenePattern**.\\n- **Break down explanations into step-by-step instructions** and avoid ambiguous statements.\\n\\nAssume the user is an undergraduate biology student with minimal programming experience. Structure responses clearly using headings, numbered steps, and examples to enhance readability.\",\n",
    "\n",
    "    \"You are an AI-driven bioinformatics advisor for GenePattern, designed to assist users with structured and well-explained guidance on bioinformatics workflows.\\n\\n- **If an image is included**, describe it thoroughly, emphasizing bioinformatics context.\\n- **For missing tools**, respond with: \\\"That tool is not currently available in GenePattern. You can request its addition by contacting edh021@cloud.ucsd.edu.\\\"\\n- **Always specify required input file formats** and data requirements before explaining module usage.\\n- **Recommend only GenePattern modules**, ensuring all suggestions are directly applicable.\\n- **Provide responses in a structured format**, using numbered steps, bullet points, and examples.\\n\\nAssume users have minimal programming knowledge and need clear, easy-to-follow instructions. Avoid assumptions that require prior knowledge of GenePattern or coding.\"\n",
    "]\n",
    "doc_stores_collection_names = ['empty', 'docs_readmes_wrappers_manifests', 'docs_readmes_wrappers_manifests_guides', 'docs_readmes_wrappers_manifests_guides_helpforum']\n",
    "user_prompts = qas[:50]\n",
    "\n",
    "\n"
   ]
  },
  {
   "cell_type": "code",
   "execution_count": 13,
   "id": "fdc5d277-a2b0-4526-9fc4-ed8792289653",
   "metadata": {},
   "outputs": [
    {
     "data": {
      "application/vnd.jupyter.widget-view+json": {
       "model_id": "e993287c4dfd4c67b33c948b705762f0",
       "version_major": 2,
       "version_minor": 0
      },
      "text/plain": [
       "Fetching 5 files:   0%|          | 0/5 [00:00<?, ?it/s]"
      ]
     },
     "metadata": {},
     "output_type": "display_data"
    },
    {
     "name": "stdout",
     "output_type": "stream",
     "text": [
      "Retriever found. Number of documents in collection: 0\n"
     ]
    },
    {
     "data": {
      "application/vnd.jupyter.widget-view+json": {
       "model_id": "3c839a96c3de476eaaa4e5fbe9f22462",
       "version_major": 2,
       "version_minor": 0
      },
      "text/plain": [
       "Fetching 5 files:   0%|          | 0/5 [00:00<?, ?it/s]"
      ]
     },
     "metadata": {},
     "output_type": "display_data"
    },
    {
     "data": {
      "application/vnd.jupyter.widget-view+json": {
       "model_id": "b7edb1257d934237916b936960983585",
       "version_major": 2,
       "version_minor": 0
      },
      "text/plain": [
       "Fetching 5 files:   0%|          | 0/5 [00:00<?, ?it/s]"
      ]
     },
     "metadata": {},
     "output_type": "display_data"
    },
    {
     "data": {
      "application/vnd.jupyter.widget-view+json": {
       "model_id": "48e5cf399ac44c88ab922f80bf8b34ff",
       "version_major": 2,
       "version_minor": 0
      },
      "text/plain": [
       "Fetching 5 files:   0%|          | 0/5 [00:00<?, ?it/s]"
      ]
     },
     "metadata": {},
     "output_type": "display_data"
    },
    {
     "data": {
      "application/vnd.jupyter.widget-view+json": {
       "model_id": "9a57a1945ae7467ba7007c88420b5844",
       "version_major": 2,
       "version_minor": 0
      },
      "text/plain": [
       "Fetching 5 files:   0%|          | 0/5 [00:00<?, ?it/s]"
      ]
     },
     "metadata": {},
     "output_type": "display_data"
    },
    {
     "data": {
      "application/vnd.jupyter.widget-view+json": {
       "model_id": "a46c6cee741f42ef804959a8688d3f96",
       "version_major": 2,
       "version_minor": 0
      },
      "text/plain": [
       "Fetching 5 files:   0%|          | 0/5 [00:00<?, ?it/s]"
      ]
     },
     "metadata": {},
     "output_type": "display_data"
    },
    {
     "data": {
      "text/plain": [
       "{'DateTime': '2025-02-19T15:54:46.394920',\n",
       " 'ModelType': 'gpt',\n",
       " 'SystemPrompt': 'prompt',\n",
       " 'DocumentStoreVersion': 'docs_readmes_wrappers_manifests_guides_helpforum',\n",
       " 'UserPrompt': 'question',\n",
       " 'Response': 'It seems like the prompt is incomplete and lacks specific context or a clear question. Could you please provide more details or clarify the question you would like answered?',\n",
       " 'real_answer': 'answer',\n",
       " 'Validation_feedback': \"The provided input appears to be a template or placeholder with identical content for user question, AI response, and real answer. Without a specific biology-related question, it's impossible to provide a meaningful evaluation.\",\n",
       " 'Validation_score': 0,\n",
       " 'Validation_refinement': \"To properly evaluate an AI response, I would need:\\n1. A specific biology-related question\\n2. The AI's actual response to that question\\n3. The correct human-provided answer\\n\\nMy validation process typically involves the following metrics:\\n\\nAccuracy Score Breakdown:\\n- Factual Correctness (0-40 points): \\n  * Checks scientific accuracy of information\\n  * Verifies alignment with current biological knowledge\\n  * Penalizes factual errors or misconceptions\\n\\n- Completeness (0-30 points):\\n  * Assesses whether the response fully addresses the question\\n  * Checks for comprehensive coverage of key points\\n  * Identifies missing critical information\\n\\n- Clarity and Concision (0-20 points):\\n  * Evaluates readability and scientific communication\\n  * Checks for unnecessary jargon or overly complex explanations\\n  * Ensures the response is understandable to the target audience\\n\\n- Relevance (0-10 points):\\n  * Confirms the response directly answers the specific question\\n  * Checks for staying on topic\\n  * Penalizes irrelevant or tangential information\\n\\nTotal possible score: 100 points\\n\\nIn this case, since no actual question was provided, I assigned a score of 0, indicating a complete lack of meaningful content to evaluate.\",\n",
       " 'Usage_InputTokens': 1195,\n",
       " 'Usage_OutputTokens': 482,\n",
       " 'Usage_TotalTokens': 1677}"
      ]
     },
     "execution_count": 13,
     "metadata": {},
     "output_type": "execute_result"
    },
    {
     "data": {
      "application/vnd.jupyter.widget-view+json": {
       "model_id": "aadf1a22f33d42e09bce1390054728ab",
       "version_major": 2,
       "version_minor": 0
      },
      "text/plain": [
       "Fetching 5 files:   0%|          | 0/5 [00:00<?, ?it/s]"
      ]
     },
     "metadata": {},
     "output_type": "display_data"
    },
    {
     "data": {
      "application/vnd.jupyter.widget-view+json": {
       "model_id": "30a01b4c9cc9466f83ea422de405899b",
       "version_major": 2,
       "version_minor": 0
      },
      "text/plain": [
       "Fetching 5 files:   0%|          | 0/5 [00:00<?, ?it/s]"
      ]
     },
     "metadata": {},
     "output_type": "display_data"
    },
    {
     "data": {
      "application/vnd.jupyter.widget-view+json": {
       "model_id": "d1c01e961a9f45499b09b740ae42ac46",
       "version_major": 2,
       "version_minor": 0
      },
      "text/plain": [
       "Fetching 5 files:   0%|          | 0/5 [00:00<?, ?it/s]"
      ]
     },
     "metadata": {},
     "output_type": "display_data"
    },
    {
     "data": {
      "application/vnd.jupyter.widget-view+json": {
       "model_id": "c7b012ab70814bff845197ee4f806323",
       "version_major": 2,
       "version_minor": 0
      },
      "text/plain": [
       "Fetching 5 files:   0%|          | 0/5 [00:00<?, ?it/s]"
      ]
     },
     "metadata": {},
     "output_type": "display_data"
    },
    {
     "data": {
      "application/vnd.jupyter.widget-view+json": {
       "model_id": "12909e358ed648f8b6cc50b6f2ffcd14",
       "version_major": 2,
       "version_minor": 0
      },
      "text/plain": [
       "Fetching 5 files:   0%|          | 0/5 [00:00<?, ?it/s]"
      ]
     },
     "metadata": {},
     "output_type": "display_data"
    },
    {
     "data": {
      "application/vnd.jupyter.widget-view+json": {
       "model_id": "aba78f43363d4162b57598bb2ca92e1e",
       "version_major": 2,
       "version_minor": 0
      },
      "text/plain": [
       "Fetching 5 files:   0%|          | 0/5 [00:00<?, ?it/s]"
      ]
     },
     "metadata": {},
     "output_type": "display_data"
    },
    {
     "data": {
      "application/vnd.jupyter.widget-view+json": {
       "model_id": "af48ec644d3c4c759fa45a62517bb69a",
       "version_major": 2,
       "version_minor": 0
      },
      "text/plain": [
       "Fetching 5 files:   0%|          | 0/5 [00:00<?, ?it/s]"
      ]
     },
     "metadata": {},
     "output_type": "display_data"
    }
   ],
   "source": [
    "LLM_langchain.get_retriever()"
   ]
  },
  {
   "cell_type": "code",
   "execution_count": 11,
   "id": "9f475922-d987-44b1-99ea-a4fdc8db2ec2",
   "metadata": {
    "scrolled": true
   },
   "outputs": [
    {
     "name": "stderr",
     "output_type": "stream",
     "text": [
      "Running Inference:   0%|                                                                                                                                                  | 0/1000 [00:00<?, ?it/s]"
     ]
    },
    {
     "data": {
      "application/vnd.jupyter.widget-view+json": {
       "model_id": "87d039e348de4f74be2479f6940bdf02",
       "version_major": 2,
       "version_minor": 0
      },
      "text/plain": [
       "Fetching 5 files:   0%|          | 0/5 [00:00<?, ?it/s]"
      ]
     },
     "metadata": {},
     "output_type": "display_data"
    },
    {
     "data": {
      "application/vnd.jupyter.widget-view+json": {
       "model_id": "9045f9f057074dd4b5a5ad0cd9d3d695",
       "version_major": 2,
       "version_minor": 0
      },
      "text/plain": [
       "Fetching 5 files:   0%|          | 0/5 [00:00<?, ?it/s]"
      ]
     },
     "metadata": {},
     "output_type": "display_data"
    },
    {
     "data": {
      "application/vnd.jupyter.widget-view+json": {
       "model_id": "646aec3661d5456ca67ae819627bf7dc",
       "version_major": 2,
       "version_minor": 0
      },
      "text/plain": [
       "Fetching 5 files:   0%|          | 0/5 [00:00<?, ?it/s]"
      ]
     },
     "metadata": {},
     "output_type": "display_data"
    },
    {
     "data": {
      "application/vnd.jupyter.widget-view+json": {
       "model_id": "326890cb838f4214abb2d0e54c880a96",
       "version_major": 2,
       "version_minor": 0
      },
      "text/plain": [
       "Fetching 5 files:   0%|          | 0/5 [00:00<?, ?it/s]"
      ]
     },
     "metadata": {},
     "output_type": "display_data"
    },
    {
     "data": {
      "application/vnd.jupyter.widget-view+json": {
       "model_id": "3629b7342b504e439a80750471e1a9c9",
       "version_major": 2,
       "version_minor": 0
      },
      "text/plain": [
       "Fetching 5 files:   0%|          | 0/5 [00:00<?, ?it/s]"
      ]
     },
     "metadata": {},
     "output_type": "display_data"
    },
    {
     "name": "stdout",
     "output_type": "stream",
     "text": [
      "Retriever found. Number of documents in collection: 0\n"
     ]
    },
    {
     "data": {
      "application/vnd.jupyter.widget-view+json": {
       "model_id": "acade06ad7b1447c9ab691f38dfc9420",
       "version_major": 2,
       "version_minor": 0
      },
      "text/plain": [
       "Fetching 5 files:   0%|          | 0/5 [00:00<?, ?it/s]"
      ]
     },
     "metadata": {},
     "output_type": "display_data"
    },
    {
     "data": {
      "application/vnd.jupyter.widget-view+json": {
       "model_id": "c3938f24c94f4a71aaa76b94fa592155",
       "version_major": 2,
       "version_minor": 0
      },
      "text/plain": [
       "Fetching 5 files:   0%|          | 0/5 [00:00<?, ?it/s]"
      ]
     },
     "metadata": {},
     "output_type": "display_data"
    },
    {
     "data": {
      "application/vnd.jupyter.widget-view+json": {
       "model_id": "96f03916ff7e4361a81154c0a51c2d4d",
       "version_major": 2,
       "version_minor": 0
      },
      "text/plain": [
       "Fetching 5 files:   0%|          | 0/5 [00:00<?, ?it/s]"
      ]
     },
     "metadata": {},
     "output_type": "display_data"
    },
    {
     "data": {
      "application/vnd.jupyter.widget-view+json": {
       "model_id": "615bc82c87e54d4082bda4e965ce5c56",
       "version_major": 2,
       "version_minor": 0
      },
      "text/plain": [
       "Fetching 5 files:   0%|          | 0/5 [00:00<?, ?it/s]"
      ]
     },
     "metadata": {},
     "output_type": "display_data"
    },
    {
     "data": {
      "application/vnd.jupyter.widget-view+json": {
       "model_id": "ce275552d5c742eb92ba21590e7740a1",
       "version_major": 2,
       "version_minor": 0
      },
      "text/plain": [
       "Fetching 5 files:   0%|          | 0/5 [00:00<?, ?it/s]"
      ]
     },
     "metadata": {},
     "output_type": "display_data"
    },
    {
     "name": "stdout",
     "output_type": "stream",
     "text": [
      "Retriever found. Number of documents in collection: 0\n",
      "Retriever found. Number of documents in collection: 0\n",
      "Retriever found. Number of documents in collection: 0\n",
      "Retriever found. Number of documents in collection: 0\n",
      "Retriever found. Number of documents in collection: 0\n",
      "Retriever found. Number of documents in collection: 0\n",
      "Retriever found. Number of documents in collection: 0\n",
      "Retriever found. Number of documents in collection: 0\n",
      "Retriever found. Number of documents in collection: 0\n"
     ]
    },
    {
     "name": "stderr",
     "output_type": "stream",
     "text": [
      "Running Inference:   0%|▏                                                                                                                                       | 1/1000 [00:22<6:07:07, 22.05s/it]"
     ]
    },
    {
     "data": {
      "application/vnd.jupyter.widget-view+json": {
       "model_id": "06c783bbf3a642beb016531805761af0",
       "version_major": 2,
       "version_minor": 0
      },
      "text/plain": [
       "Fetching 5 files:   0%|          | 0/5 [00:00<?, ?it/s]"
      ]
     },
     "metadata": {},
     "output_type": "display_data"
    },
    {
     "name": "stdout",
     "output_type": "stream",
     "text": [
      "Retriever found. Number of documents in collection: 0\n"
     ]
    },
    {
     "name": "stderr",
     "output_type": "stream",
     "text": [
      "Running Inference:   0%|▎                                                                                                                                       | 2/1000 [00:26<3:15:50, 11.77s/it]"
     ]
    },
    {
     "data": {
      "application/vnd.jupyter.widget-view+json": {
       "model_id": "f271674767f24e1fb4a40b17e31dd9f4",
       "version_major": 2,
       "version_minor": 0
      },
      "text/plain": [
       "Fetching 5 files:   0%|          | 0/5 [00:00<?, ?it/s]"
      ]
     },
     "metadata": {},
     "output_type": "display_data"
    },
    {
     "name": "stdout",
     "output_type": "stream",
     "text": [
      "Retriever found. Number of documents in collection: 0\n"
     ]
    },
    {
     "name": "stderr",
     "output_type": "stream",
     "text": [
      "Running Inference:   0%|▍                                                                                                                                       | 3/1000 [00:29<2:08:13,  7.72s/it]"
     ]
    },
    {
     "data": {
      "application/vnd.jupyter.widget-view+json": {
       "model_id": "41502d9594884e85a71b4816b86f9895",
       "version_major": 2,
       "version_minor": 0
      },
      "text/plain": [
       "Fetching 5 files:   0%|          | 0/5 [00:00<?, ?it/s]"
      ]
     },
     "metadata": {},
     "output_type": "display_data"
    },
    {
     "name": "stdout",
     "output_type": "stream",
     "text": [
      "Retriever found. Number of documents in collection: 0\n"
     ]
    },
    {
     "name": "stderr",
     "output_type": "stream",
     "text": [
      "Running Inference:   0%|▋                                                                                                                                         | 5/1000 [00:30<53:48,  3.25s/it]"
     ]
    },
    {
     "data": {
      "application/vnd.jupyter.widget-view+json": {
       "model_id": "c4102888f3b14856981c29011fb5818b",
       "version_major": 2,
       "version_minor": 0
      },
      "text/plain": [
       "Fetching 5 files:   0%|          | 0/5 [00:00<?, ?it/s]"
      ]
     },
     "metadata": {},
     "output_type": "display_data"
    },
    {
     "name": "stdout",
     "output_type": "stream",
     "text": [
      "Retriever found. Number of documents in collection: 0\n"
     ]
    },
    {
     "data": {
      "application/vnd.jupyter.widget-view+json": {
       "model_id": "b7a31a887ef6462d9bc2b62a075d8750",
       "version_major": 2,
       "version_minor": 0
      },
      "text/plain": [
       "Fetching 5 files:   0%|          | 0/5 [00:00<?, ?it/s]"
      ]
     },
     "metadata": {},
     "output_type": "display_data"
    },
    {
     "name": "stdout",
     "output_type": "stream",
     "text": [
      "Retriever found. Number of documents in collection: 0\n"
     ]
    },
    {
     "name": "stderr",
     "output_type": "stream",
     "text": [
      "Running Inference:   1%|▊                                                                                                                                         | 6/1000 [00:32<48:03,  2.90s/it]"
     ]
    },
    {
     "data": {
      "application/vnd.jupyter.widget-view+json": {
       "model_id": "486c111c669c49b1a6a0a288442fb242",
       "version_major": 2,
       "version_minor": 0
      },
      "text/plain": [
       "Fetching 5 files:   0%|          | 0/5 [00:00<?, ?it/s]"
      ]
     },
     "metadata": {},
     "output_type": "display_data"
    },
    {
     "name": "stdout",
     "output_type": "stream",
     "text": [
      "Retriever found. Number of documents in collection: 0\n"
     ]
    },
    {
     "name": "stderr",
     "output_type": "stream",
     "text": [
      "Running Inference:   1%|▉                                                                                                                                         | 7/1000 [00:33<38:17,  2.31s/it]"
     ]
    },
    {
     "data": {
      "application/vnd.jupyter.widget-view+json": {
       "model_id": "5d44cdeb6bae4cec910c2cd8c62ca230",
       "version_major": 2,
       "version_minor": 0
      },
      "text/plain": [
       "Fetching 5 files:   0%|          | 0/5 [00:00<?, ?it/s]"
      ]
     },
     "metadata": {},
     "output_type": "display_data"
    },
    {
     "name": "stdout",
     "output_type": "stream",
     "text": [
      "Retriever found. Number of documents in collection: 0\n"
     ]
    },
    {
     "name": "stderr",
     "output_type": "stream",
     "text": [
      "Running Inference:   1%|█                                                                                                                                         | 8/1000 [00:36<38:28,  2.33s/it]"
     ]
    },
    {
     "data": {
      "application/vnd.jupyter.widget-view+json": {
       "model_id": "b9e522f4c04143f88c8a4538b6446e0f",
       "version_major": 2,
       "version_minor": 0
      },
      "text/plain": [
       "Fetching 5 files:   0%|          | 0/5 [00:00<?, ?it/s]"
      ]
     },
     "metadata": {},
     "output_type": "display_data"
    },
    {
     "name": "stdout",
     "output_type": "stream",
     "text": [
      "Retriever found. Number of documents in collection: 0\n"
     ]
    },
    {
     "name": "stderr",
     "output_type": "stream",
     "text": [
      "Running Inference:   1%|█▏                                                                                                                                        | 9/1000 [00:37<31:40,  1.92s/it]"
     ]
    },
    {
     "data": {
      "application/vnd.jupyter.widget-view+json": {
       "model_id": "3a2c5a315fcf46eca755802acbdbd3f1",
       "version_major": 2,
       "version_minor": 0
      },
      "text/plain": [
       "Fetching 5 files:   0%|          | 0/5 [00:00<?, ?it/s]"
      ]
     },
     "metadata": {},
     "output_type": "display_data"
    },
    {
     "name": "stdout",
     "output_type": "stream",
     "text": [
      "Retriever found. Number of documents in collection: 0\n"
     ]
    },
    {
     "name": "stderr",
     "output_type": "stream",
     "text": [
      "Running Inference:   1%|█▎                                                                                                                                       | 10/1000 [00:39<31:55,  1.93s/it]"
     ]
    },
    {
     "data": {
      "application/vnd.jupyter.widget-view+json": {
       "model_id": "563835e143d04f739c0e766e5091c3cd",
       "version_major": 2,
       "version_minor": 0
      },
      "text/plain": [
       "Fetching 5 files:   0%|          | 0/5 [00:00<?, ?it/s]"
      ]
     },
     "metadata": {},
     "output_type": "display_data"
    },
    {
     "name": "stdout",
     "output_type": "stream",
     "text": [
      "Retriever found. Number of documents in collection: 0\n"
     ]
    },
    {
     "name": "stderr",
     "output_type": "stream",
     "text": [
      "Running Inference:   1%|█▍                                                                                                                                     | 11/1000 [00:47<1:03:43,  3.87s/it]"
     ]
    },
    {
     "data": {
      "application/vnd.jupyter.widget-view+json": {
       "model_id": "da56a9a87721430894de8c6fc4838186",
       "version_major": 2,
       "version_minor": 0
      },
      "text/plain": [
       "Fetching 5 files:   0%|          | 0/5 [00:00<?, ?it/s]"
      ]
     },
     "metadata": {},
     "output_type": "display_data"
    },
    {
     "name": "stdout",
     "output_type": "stream",
     "text": [
      "Retriever found. Number of documents in collection: 0\n"
     ]
    },
    {
     "name": "stderr",
     "output_type": "stream",
     "text": [
      "Running Inference:   1%|█▋                                                                                                                                       | 12/1000 [00:48<48:02,  2.92s/it]"
     ]
    },
    {
     "data": {
      "application/vnd.jupyter.widget-view+json": {
       "model_id": "672a30dab0904496a6bcd46a72c6e90a",
       "version_major": 2,
       "version_minor": 0
      },
      "text/plain": [
       "Fetching 5 files:   0%|          | 0/5 [00:00<?, ?it/s]"
      ]
     },
     "metadata": {},
     "output_type": "display_data"
    },
    {
     "name": "stdout",
     "output_type": "stream",
     "text": [
      "Retriever found. Number of documents in collection: 0\n"
     ]
    },
    {
     "name": "stderr",
     "output_type": "stream",
     "text": [
      "Running Inference:   1%|█▉                                                                                                                                       | 14/1000 [00:51<34:02,  2.07s/it]"
     ]
    },
    {
     "data": {
      "application/vnd.jupyter.widget-view+json": {
       "model_id": "1782bdc484c848ea96d729c80711bad4",
       "version_major": 2,
       "version_minor": 0
      },
      "text/plain": [
       "Fetching 5 files:   0%|          | 0/5 [00:00<?, ?it/s]"
      ]
     },
     "metadata": {},
     "output_type": "display_data"
    },
    {
     "name": "stdout",
     "output_type": "stream",
     "text": [
      "Retriever found. Number of documents in collection: 0\n"
     ]
    },
    {
     "data": {
      "application/vnd.jupyter.widget-view+json": {
       "model_id": "560f18f909684984be27659b74bb1b78",
       "version_major": 2,
       "version_minor": 0
      },
      "text/plain": [
       "Fetching 5 files:   0%|          | 0/5 [00:00<?, ?it/s]"
      ]
     },
     "metadata": {},
     "output_type": "display_data"
    },
    {
     "name": "stdout",
     "output_type": "stream",
     "text": [
      "Retriever found. Number of documents in collection: 0\n"
     ]
    },
    {
     "name": "stderr",
     "output_type": "stream",
     "text": [
      "Running Inference:   2%|██                                                                                                                                       | 15/1000 [00:51<26:32,  1.62s/it]"
     ]
    },
    {
     "data": {
      "application/vnd.jupyter.widget-view+json": {
       "model_id": "192c0aa1b96e458ba6c0f708c42b7ca7",
       "version_major": 2,
       "version_minor": 0
      },
      "text/plain": [
       "Fetching 5 files:   0%|          | 0/5 [00:00<?, ?it/s]"
      ]
     },
     "metadata": {},
     "output_type": "display_data"
    },
    {
     "name": "stdout",
     "output_type": "stream",
     "text": [
      "Retriever found. Number of documents in collection: 0\n"
     ]
    },
    {
     "name": "stderr",
     "output_type": "stream",
     "text": [
      "Running Inference:   2%|██▏                                                                                                                                      | 16/1000 [00:54<32:23,  1.98s/it]"
     ]
    },
    {
     "data": {
      "application/vnd.jupyter.widget-view+json": {
       "model_id": "2f4777b61860437294005e6e1d41138e",
       "version_major": 2,
       "version_minor": 0
      },
      "text/plain": [
       "Fetching 5 files:   0%|          | 0/5 [00:00<?, ?it/s]"
      ]
     },
     "metadata": {},
     "output_type": "display_data"
    },
    {
     "name": "stdout",
     "output_type": "stream",
     "text": [
      "Retriever found. Number of documents in collection: 0\n"
     ]
    },
    {
     "name": "stderr",
     "output_type": "stream",
     "text": [
      "Running Inference:   2%|██▎                                                                                                                                      | 17/1000 [01:01<55:11,  3.37s/it]"
     ]
    },
    {
     "data": {
      "application/vnd.jupyter.widget-view+json": {
       "model_id": "3222e07201354a2e932c8bd62f7f1bcc",
       "version_major": 2,
       "version_minor": 0
      },
      "text/plain": [
       "Fetching 5 files:   0%|          | 0/5 [00:00<?, ?it/s]"
      ]
     },
     "metadata": {},
     "output_type": "display_data"
    },
    {
     "name": "stdout",
     "output_type": "stream",
     "text": [
      "Retriever found. Number of documents in collection: 0\n"
     ]
    },
    {
     "name": "stderr",
     "output_type": "stream",
     "text": [
      "Running Inference:   2%|██▍                                                                                                                                      | 18/1000 [01:02<47:30,  2.90s/it]"
     ]
    },
    {
     "data": {
      "application/vnd.jupyter.widget-view+json": {
       "model_id": "3d3733dc11f24634a2e0d7a010c3a3c6",
       "version_major": 2,
       "version_minor": 0
      },
      "text/plain": [
       "Fetching 5 files:   0%|          | 0/5 [00:00<?, ?it/s]"
      ]
     },
     "metadata": {},
     "output_type": "display_data"
    },
    {
     "name": "stdout",
     "output_type": "stream",
     "text": [
      "Retriever found. Number of documents in collection: 0\n"
     ]
    },
    {
     "name": "stderr",
     "output_type": "stream",
     "text": [
      "Running Inference:   2%|██▌                                                                                                                                      | 19/1000 [01:05<44:54,  2.75s/it]"
     ]
    },
    {
     "data": {
      "application/vnd.jupyter.widget-view+json": {
       "model_id": "2d4bb9228c734d9786680dbe58155341",
       "version_major": 2,
       "version_minor": 0
      },
      "text/plain": [
       "Fetching 5 files:   0%|          | 0/5 [00:00<?, ?it/s]"
      ]
     },
     "metadata": {},
     "output_type": "display_data"
    },
    {
     "name": "stdout",
     "output_type": "stream",
     "text": [
      "Retriever found. Number of documents in collection: 0\n"
     ]
    },
    {
     "name": "stderr",
     "output_type": "stream",
     "text": [
      "Running Inference:   2%|██▋                                                                                                                                      | 20/1000 [01:08<45:27,  2.78s/it]"
     ]
    },
    {
     "data": {
      "application/vnd.jupyter.widget-view+json": {
       "model_id": "08698f382b834cc6b216eac583133ee6",
       "version_major": 2,
       "version_minor": 0
      },
      "text/plain": [
       "Fetching 5 files:   0%|          | 0/5 [00:00<?, ?it/s]"
      ]
     },
     "metadata": {},
     "output_type": "display_data"
    },
    {
     "name": "stdout",
     "output_type": "stream",
     "text": [
      "Retriever found. Number of documents in collection: 0\n"
     ]
    },
    {
     "name": "stderr",
     "output_type": "stream",
     "text": [
      "Running Inference:   2%|██▉                                                                                                                                      | 21/1000 [01:10<45:01,  2.76s/it]"
     ]
    },
    {
     "data": {
      "application/vnd.jupyter.widget-view+json": {
       "model_id": "cdcb11ca07574d84afa3f137a144fc1f",
       "version_major": 2,
       "version_minor": 0
      },
      "text/plain": [
       "Fetching 5 files:   0%|          | 0/5 [00:00<?, ?it/s]"
      ]
     },
     "metadata": {},
     "output_type": "display_data"
    },
    {
     "name": "stdout",
     "output_type": "stream",
     "text": [
      "Retriever found. Number of documents in collection: 0\n"
     ]
    },
    {
     "name": "stderr",
     "output_type": "stream",
     "text": [
      "Running Inference:   2%|███                                                                                                                                      | 22/1000 [01:13<45:33,  2.80s/it]"
     ]
    },
    {
     "data": {
      "application/vnd.jupyter.widget-view+json": {
       "model_id": "d211104a303948388463aced396bcf74",
       "version_major": 2,
       "version_minor": 0
      },
      "text/plain": [
       "Fetching 5 files:   0%|          | 0/5 [00:00<?, ?it/s]"
      ]
     },
     "metadata": {},
     "output_type": "display_data"
    },
    {
     "name": "stderr",
     "output_type": "stream",
     "text": [
      "Running Inference:   2%|███▏                                                                                                                                     | 23/1000 [01:14<34:24,  2.11s/it]"
     ]
    },
    {
     "name": "stdout",
     "output_type": "stream",
     "text": [
      "Retriever found. Number of documents in collection: 0\n"
     ]
    },
    {
     "data": {
      "application/vnd.jupyter.widget-view+json": {
       "model_id": "d350345350ab4ea7b3f70ef12613ac57",
       "version_major": 2,
       "version_minor": 0
      },
      "text/plain": [
       "Fetching 5 files:   0%|          | 0/5 [00:00<?, ?it/s]"
      ]
     },
     "metadata": {},
     "output_type": "display_data"
    },
    {
     "name": "stderr",
     "output_type": "stream",
     "text": [
      "Running Inference:   2%|███▎                                                                                                                                     | 24/1000 [01:14<25:31,  1.57s/it]"
     ]
    },
    {
     "name": "stdout",
     "output_type": "stream",
     "text": [
      "Retriever found. Number of documents in collection: 0\n"
     ]
    },
    {
     "data": {
      "application/vnd.jupyter.widget-view+json": {
       "model_id": "abecfb1e0b2a4bc0b7003cba4d62f61a",
       "version_major": 2,
       "version_minor": 0
      },
      "text/plain": [
       "Fetching 5 files:   0%|          | 0/5 [00:00<?, ?it/s]"
      ]
     },
     "metadata": {},
     "output_type": "display_data"
    },
    {
     "name": "stdout",
     "output_type": "stream",
     "text": [
      "Retriever found. Number of documents in collection: 0\n"
     ]
    },
    {
     "name": "stderr",
     "output_type": "stream",
     "text": [
      "Running Inference:   2%|███▍                                                                                                                                     | 25/1000 [01:16<25:49,  1.59s/it]"
     ]
    },
    {
     "data": {
      "application/vnd.jupyter.widget-view+json": {
       "model_id": "8f166d22ee92450da7a4bddab1baa414",
       "version_major": 2,
       "version_minor": 0
      },
      "text/plain": [
       "Fetching 5 files:   0%|          | 0/5 [00:00<?, ?it/s]"
      ]
     },
     "metadata": {},
     "output_type": "display_data"
    },
    {
     "name": "stdout",
     "output_type": "stream",
     "text": [
      "Retriever found. Number of documents in collection: 0\n"
     ]
    },
    {
     "name": "stderr",
     "output_type": "stream",
     "text": [
      "Running Inference:   3%|███▌                                                                                                                                     | 26/1000 [01:21<41:48,  2.58s/it]"
     ]
    },
    {
     "data": {
      "application/vnd.jupyter.widget-view+json": {
       "model_id": "37cd12cf410e42e5b386adf915c3acb1",
       "version_major": 2,
       "version_minor": 0
      },
      "text/plain": [
       "Fetching 5 files:   0%|          | 0/5 [00:00<?, ?it/s]"
      ]
     },
     "metadata": {},
     "output_type": "display_data"
    },
    {
     "name": "stdout",
     "output_type": "stream",
     "text": [
      "Retriever found. Number of documents in collection: 0\n"
     ]
    },
    {
     "name": "stderr",
     "output_type": "stream",
     "text": [
      "Running Inference:   3%|███▋                                                                                                                                     | 27/1000 [01:22<34:24,  2.12s/it]"
     ]
    },
    {
     "data": {
      "application/vnd.jupyter.widget-view+json": {
       "model_id": "2dd4aae28c2345528049e1b9b15eaefb",
       "version_major": 2,
       "version_minor": 0
      },
      "text/plain": [
       "Fetching 5 files:   0%|          | 0/5 [00:00<?, ?it/s]"
      ]
     },
     "metadata": {},
     "output_type": "display_data"
    },
    {
     "name": "stdout",
     "output_type": "stream",
     "text": [
      "Retriever found. Number of documents in collection: 0\n"
     ]
    },
    {
     "name": "stderr",
     "output_type": "stream",
     "text": [
      "Running Inference:   3%|███▊                                                                                                                                     | 28/1000 [01:26<47:24,  2.93s/it]"
     ]
    },
    {
     "data": {
      "application/vnd.jupyter.widget-view+json": {
       "model_id": "33216208f30640cba3621972797614b1",
       "version_major": 2,
       "version_minor": 0
      },
      "text/plain": [
       "Fetching 5 files:   0%|          | 0/5 [00:00<?, ?it/s]"
      ]
     },
     "metadata": {},
     "output_type": "display_data"
    },
    {
     "name": "stdout",
     "output_type": "stream",
     "text": [
      "Retriever found. Number of documents in collection: 0\n"
     ]
    },
    {
     "name": "stderr",
     "output_type": "stream",
     "text": [
      "Running Inference:   3%|███▉                                                                                                                                     | 29/1000 [01:29<44:32,  2.75s/it]"
     ]
    },
    {
     "data": {
      "application/vnd.jupyter.widget-view+json": {
       "model_id": "2b0e8da446ba4e2fa6ebb206f615ef09",
       "version_major": 2,
       "version_minor": 0
      },
      "text/plain": [
       "Fetching 5 files:   0%|          | 0/5 [00:00<?, ?it/s]"
      ]
     },
     "metadata": {},
     "output_type": "display_data"
    },
    {
     "name": "stdout",
     "output_type": "stream",
     "text": [
      "Retriever found. Number of documents in collection: 0\n"
     ]
    },
    {
     "name": "stderr",
     "output_type": "stream",
     "text": [
      "Running Inference:   3%|████                                                                                                                                     | 30/1000 [01:31<42:37,  2.64s/it]"
     ]
    },
    {
     "data": {
      "application/vnd.jupyter.widget-view+json": {
       "model_id": "6b7c50542ea544ed90f8e4ef4cb4c493",
       "version_major": 2,
       "version_minor": 0
      },
      "text/plain": [
       "Fetching 5 files:   0%|          | 0/5 [00:00<?, ?it/s]"
      ]
     },
     "metadata": {},
     "output_type": "display_data"
    },
    {
     "name": "stdout",
     "output_type": "stream",
     "text": [
      "Retriever found. Number of documents in collection: 0\n"
     ]
    },
    {
     "name": "stderr",
     "output_type": "stream",
     "text": [
      "Running Inference:   3%|████▏                                                                                                                                    | 31/1000 [01:36<55:10,  3.42s/it]"
     ]
    },
    {
     "data": {
      "application/vnd.jupyter.widget-view+json": {
       "model_id": "71fdcfb6d37c49d883498cee09b26408",
       "version_major": 2,
       "version_minor": 0
      },
      "text/plain": [
       "Fetching 5 files:   0%|          | 0/5 [00:00<?, ?it/s]"
      ]
     },
     "metadata": {},
     "output_type": "display_data"
    },
    {
     "name": "stderr",
     "output_type": "stream",
     "text": [
      "Running Inference:   3%|████▍                                                                                                                                    | 32/1000 [01:37<40:36,  2.52s/it]"
     ]
    },
    {
     "name": "stdout",
     "output_type": "stream",
     "text": [
      "Retriever found. Number of documents in collection: 0\n"
     ]
    },
    {
     "data": {
      "application/vnd.jupyter.widget-view+json": {
       "model_id": "cb59a9047bab4d1e99ba6b933f7a8f5e",
       "version_major": 2,
       "version_minor": 0
      },
      "text/plain": [
       "Fetching 5 files:   0%|          | 0/5 [00:00<?, ?it/s]"
      ]
     },
     "metadata": {},
     "output_type": "display_data"
    },
    {
     "name": "stdout",
     "output_type": "stream",
     "text": [
      "Retriever found. Number of documents in collection: 0\n"
     ]
    },
    {
     "name": "stderr",
     "output_type": "stream",
     "text": [
      "Running Inference:   3%|████▌                                                                                                                                    | 33/1000 [01:38<32:45,  2.03s/it]"
     ]
    },
    {
     "data": {
      "application/vnd.jupyter.widget-view+json": {
       "model_id": "34c926a57247493d8b8d37dbb9fd23b8",
       "version_major": 2,
       "version_minor": 0
      },
      "text/plain": [
       "Fetching 5 files:   0%|          | 0/5 [00:00<?, ?it/s]"
      ]
     },
     "metadata": {},
     "output_type": "display_data"
    },
    {
     "name": "stdout",
     "output_type": "stream",
     "text": [
      "Retriever found. Number of documents in collection: 0\n"
     ]
    },
    {
     "name": "stderr",
     "output_type": "stream",
     "text": [
      "Running Inference:   3%|████▋                                                                                                                                    | 34/1000 [01:40<32:09,  2.00s/it]"
     ]
    },
    {
     "data": {
      "application/vnd.jupyter.widget-view+json": {
       "model_id": "bf9c07111ac0427eaef6a3f9ecdb55ef",
       "version_major": 2,
       "version_minor": 0
      },
      "text/plain": [
       "Fetching 5 files:   0%|          | 0/5 [00:00<?, ?it/s]"
      ]
     },
     "metadata": {},
     "output_type": "display_data"
    },
    {
     "name": "stdout",
     "output_type": "stream",
     "text": [
      "Retriever found. Number of documents in collection: 0\n"
     ]
    },
    {
     "name": "stderr",
     "output_type": "stream",
     "text": [
      "Running Inference:   3%|████▋                                                                                                                                    | 34/1000 [01:41<47:51,  2.97s/it]\n"
     ]
    },
    {
     "ename": "KeyboardInterrupt",
     "evalue": "",
     "output_type": "error",
     "traceback": [
      "\u001b[0;31m---------------------------------------------------------------------------\u001b[0m",
      "\u001b[0;31mKeyboardInterrupt\u001b[0m                         Traceback (most recent call last)",
      "Cell \u001b[0;32mIn[11], line 38\u001b[0m, in \u001b[0;36mrun_parallel\u001b[0;34m()\u001b[0m\n\u001b[1;32m     37\u001b[0m results \u001b[38;5;241m=\u001b[39m []\n\u001b[0;32m---> 38\u001b[0m \u001b[43m\u001b[49m\u001b[38;5;28;43;01mfor\u001b[39;49;00m\u001b[43m \u001b[49m\u001b[43mfuture\u001b[49m\u001b[43m \u001b[49m\u001b[38;5;129;43;01min\u001b[39;49;00m\u001b[43m \u001b[49m\u001b[43mconcurrent\u001b[49m\u001b[38;5;241;43m.\u001b[39;49m\u001b[43mfutures\u001b[49m\u001b[38;5;241;43m.\u001b[39;49m\u001b[43mas_completed\u001b[49m\u001b[43m(\u001b[49m\u001b[43mfuture_to_params\u001b[49m\u001b[43m)\u001b[49m\u001b[43m:\u001b[49m\n\u001b[1;32m     39\u001b[0m \u001b[43m    \u001b[49m\u001b[38;5;28;43;01mtry\u001b[39;49;00m\u001b[43m:\u001b[49m\n",
      "File \u001b[0;32m~/anaconda3/lib/python3.11/concurrent/futures/_base.py:243\u001b[0m, in \u001b[0;36mas_completed\u001b[0;34m(fs, timeout)\u001b[0m\n\u001b[1;32m    239\u001b[0m         \u001b[38;5;28;01mraise\u001b[39;00m \u001b[38;5;167;01mTimeoutError\u001b[39;00m(\n\u001b[1;32m    240\u001b[0m                 \u001b[38;5;124m'\u001b[39m\u001b[38;5;132;01m%d\u001b[39;00m\u001b[38;5;124m (of \u001b[39m\u001b[38;5;132;01m%d\u001b[39;00m\u001b[38;5;124m) futures unfinished\u001b[39m\u001b[38;5;124m'\u001b[39m \u001b[38;5;241m%\u001b[39m (\n\u001b[1;32m    241\u001b[0m                 \u001b[38;5;28mlen\u001b[39m(pending), total_futures))\n\u001b[0;32m--> 243\u001b[0m \u001b[43mwaiter\u001b[49m\u001b[38;5;241;43m.\u001b[39;49m\u001b[43mevent\u001b[49m\u001b[38;5;241;43m.\u001b[39;49m\u001b[43mwait\u001b[49m\u001b[43m(\u001b[49m\u001b[43mwait_timeout\u001b[49m\u001b[43m)\u001b[49m\n\u001b[1;32m    245\u001b[0m \u001b[38;5;28;01mwith\u001b[39;00m waiter\u001b[38;5;241m.\u001b[39mlock:\n",
      "File \u001b[0;32m~/anaconda3/lib/python3.11/threading.py:622\u001b[0m, in \u001b[0;36mEvent.wait\u001b[0;34m(self, timeout)\u001b[0m\n\u001b[1;32m    621\u001b[0m \u001b[38;5;28;01mif\u001b[39;00m \u001b[38;5;129;01mnot\u001b[39;00m signaled:\n\u001b[0;32m--> 622\u001b[0m     signaled \u001b[38;5;241m=\u001b[39m \u001b[38;5;28;43mself\u001b[39;49m\u001b[38;5;241;43m.\u001b[39;49m\u001b[43m_cond\u001b[49m\u001b[38;5;241;43m.\u001b[39;49m\u001b[43mwait\u001b[49m\u001b[43m(\u001b[49m\u001b[43mtimeout\u001b[49m\u001b[43m)\u001b[49m\n\u001b[1;32m    623\u001b[0m \u001b[38;5;28;01mreturn\u001b[39;00m signaled\n",
      "File \u001b[0;32m~/anaconda3/lib/python3.11/threading.py:320\u001b[0m, in \u001b[0;36mCondition.wait\u001b[0;34m(self, timeout)\u001b[0m\n\u001b[1;32m    319\u001b[0m \u001b[38;5;28;01mif\u001b[39;00m timeout \u001b[38;5;129;01mis\u001b[39;00m \u001b[38;5;28;01mNone\u001b[39;00m:\n\u001b[0;32m--> 320\u001b[0m     \u001b[43mwaiter\u001b[49m\u001b[38;5;241;43m.\u001b[39;49m\u001b[43macquire\u001b[49m\u001b[43m(\u001b[49m\u001b[43m)\u001b[49m\n\u001b[1;32m    321\u001b[0m     gotit \u001b[38;5;241m=\u001b[39m \u001b[38;5;28;01mTrue\u001b[39;00m\n",
      "\u001b[0;31mKeyboardInterrupt\u001b[0m: ",
      "\nDuring handling of the above exception, another exception occurred:\n",
      "\u001b[0;31mKeyboardInterrupt\u001b[0m                         Traceback (most recent call last)",
      "Cell \u001b[0;32mIn[11], line 48\u001b[0m\n\u001b[1;32m     45\u001b[0m     \u001b[38;5;28;01mreturn\u001b[39;00m results\n\u001b[1;32m     47\u001b[0m \u001b[38;5;66;03m# Run the parallel execution\u001b[39;00m\n\u001b[0;32m---> 48\u001b[0m results \u001b[38;5;241m=\u001b[39m \u001b[43mrun_parallel\u001b[49m\u001b[43m(\u001b[49m\u001b[43m)\u001b[49m\n",
      "Cell \u001b[0;32mIn[11], line 25\u001b[0m, in \u001b[0;36mrun_parallel\u001b[0;34m()\u001b[0m\n\u001b[1;32m     22\u001b[0m \u001b[38;5;66;03m# Calculate total iterations for progress bar\u001b[39;00m\n\u001b[1;32m     23\u001b[0m total_iterations \u001b[38;5;241m=\u001b[39m \u001b[38;5;28mlen\u001b[39m(system_prompts) \u001b[38;5;241m*\u001b[39m \u001b[38;5;28mlen\u001b[39m(user_prompts) \u001b[38;5;241m*\u001b[39m \u001b[38;5;28mlen\u001b[39m(doc_stores_collection_names) \u001b[38;5;241m*\u001b[39m \u001b[38;5;28mlen\u001b[39m(model_types)\n\u001b[0;32m---> 25\u001b[0m \u001b[43m\u001b[49m\u001b[38;5;28;43;01mwith\u001b[39;49;00m\u001b[43m \u001b[49m\u001b[43mconcurrent\u001b[49m\u001b[38;5;241;43m.\u001b[39;49m\u001b[43mfutures\u001b[49m\u001b[38;5;241;43m.\u001b[39;49m\u001b[43mThreadPoolExecutor\u001b[49m\u001b[43m(\u001b[49m\u001b[43mmax_workers\u001b[49m\u001b[38;5;241;43m=\u001b[39;49m\u001b[38;5;241;43m10\u001b[39;49m\u001b[43m)\u001b[49m\u001b[43m \u001b[49m\u001b[38;5;28;43;01mas\u001b[39;49;00m\u001b[43m \u001b[49m\u001b[43mexecutor\u001b[49m\u001b[43m,\u001b[49m\u001b[43m \u001b[49m\u001b[43mtqdm\u001b[49m\u001b[43m(\u001b[49m\u001b[43mtotal\u001b[49m\u001b[38;5;241;43m=\u001b[39;49m\u001b[43mtotal_iterations\u001b[49m\u001b[43m,\u001b[49m\u001b[43m \u001b[49m\u001b[43mdesc\u001b[49m\u001b[38;5;241;43m=\u001b[39;49m\u001b[38;5;124;43m\"\u001b[39;49m\u001b[38;5;124;43mRunning Inference\u001b[39;49m\u001b[38;5;124;43m\"\u001b[39;49m\u001b[43m)\u001b[49m\u001b[43m \u001b[49m\u001b[38;5;28;43;01mas\u001b[39;49;00m\u001b[43m \u001b[49m\u001b[43mpbar\u001b[49m\u001b[43m:\u001b[49m\n\u001b[1;32m     26\u001b[0m \u001b[43m    \u001b[49m\u001b[43mfuture_to_params\u001b[49m\u001b[43m \u001b[49m\u001b[38;5;241;43m=\u001b[39;49m\u001b[43m \u001b[49m\u001b[43m{\u001b[49m\u001b[43m}\u001b[49m\n\u001b[1;32m     28\u001b[0m \u001b[43m    \u001b[49m\u001b[38;5;66;43;03m# Submit tasks\u001b[39;49;00m\n",
      "File \u001b[0;32m~/anaconda3/lib/python3.11/concurrent/futures/_base.py:647\u001b[0m, in \u001b[0;36mExecutor.__exit__\u001b[0;34m(self, exc_type, exc_val, exc_tb)\u001b[0m\n\u001b[1;32m    646\u001b[0m \u001b[38;5;28;01mdef\u001b[39;00m \u001b[38;5;21m__exit__\u001b[39m(\u001b[38;5;28mself\u001b[39m, exc_type, exc_val, exc_tb):\n\u001b[0;32m--> 647\u001b[0m     \u001b[38;5;28;43mself\u001b[39;49m\u001b[38;5;241;43m.\u001b[39;49m\u001b[43mshutdown\u001b[49m\u001b[43m(\u001b[49m\u001b[43mwait\u001b[49m\u001b[38;5;241;43m=\u001b[39;49m\u001b[38;5;28;43;01mTrue\u001b[39;49;00m\u001b[43m)\u001b[49m\n\u001b[1;32m    648\u001b[0m     \u001b[38;5;28;01mreturn\u001b[39;00m \u001b[38;5;28;01mFalse\u001b[39;00m\n",
      "File \u001b[0;32m~/anaconda3/lib/python3.11/concurrent/futures/thread.py:235\u001b[0m, in \u001b[0;36mThreadPoolExecutor.shutdown\u001b[0;34m(self, wait, cancel_futures)\u001b[0m\n\u001b[1;32m    233\u001b[0m \u001b[38;5;28;01mif\u001b[39;00m wait:\n\u001b[1;32m    234\u001b[0m     \u001b[38;5;28;01mfor\u001b[39;00m t \u001b[38;5;129;01min\u001b[39;00m \u001b[38;5;28mself\u001b[39m\u001b[38;5;241m.\u001b[39m_threads:\n\u001b[0;32m--> 235\u001b[0m         \u001b[43mt\u001b[49m\u001b[38;5;241;43m.\u001b[39;49m\u001b[43mjoin\u001b[49m\u001b[43m(\u001b[49m\u001b[43m)\u001b[49m\n",
      "File \u001b[0;32m~/anaconda3/lib/python3.11/threading.py:1112\u001b[0m, in \u001b[0;36mThread.join\u001b[0;34m(self, timeout)\u001b[0m\n\u001b[1;32m   1109\u001b[0m     \u001b[38;5;28;01mraise\u001b[39;00m \u001b[38;5;167;01mRuntimeError\u001b[39;00m(\u001b[38;5;124m\"\u001b[39m\u001b[38;5;124mcannot join current thread\u001b[39m\u001b[38;5;124m\"\u001b[39m)\n\u001b[1;32m   1111\u001b[0m \u001b[38;5;28;01mif\u001b[39;00m timeout \u001b[38;5;129;01mis\u001b[39;00m \u001b[38;5;28;01mNone\u001b[39;00m:\n\u001b[0;32m-> 1112\u001b[0m     \u001b[38;5;28;43mself\u001b[39;49m\u001b[38;5;241;43m.\u001b[39;49m\u001b[43m_wait_for_tstate_lock\u001b[49m\u001b[43m(\u001b[49m\u001b[43m)\u001b[49m\n\u001b[1;32m   1113\u001b[0m \u001b[38;5;28;01melse\u001b[39;00m:\n\u001b[1;32m   1114\u001b[0m     \u001b[38;5;66;03m# the behavior of a negative timeout isn't documented, but\u001b[39;00m\n\u001b[1;32m   1115\u001b[0m     \u001b[38;5;66;03m# historically .join(timeout=x) for x<0 has acted as if timeout=0\u001b[39;00m\n\u001b[1;32m   1116\u001b[0m     \u001b[38;5;28mself\u001b[39m\u001b[38;5;241m.\u001b[39m_wait_for_tstate_lock(timeout\u001b[38;5;241m=\u001b[39m\u001b[38;5;28mmax\u001b[39m(timeout, \u001b[38;5;241m0\u001b[39m))\n",
      "File \u001b[0;32m~/anaconda3/lib/python3.11/threading.py:1132\u001b[0m, in \u001b[0;36mThread._wait_for_tstate_lock\u001b[0;34m(self, block, timeout)\u001b[0m\n\u001b[1;32m   1129\u001b[0m     \u001b[38;5;28;01mreturn\u001b[39;00m\n\u001b[1;32m   1131\u001b[0m \u001b[38;5;28;01mtry\u001b[39;00m:\n\u001b[0;32m-> 1132\u001b[0m     \u001b[38;5;28;01mif\u001b[39;00m \u001b[43mlock\u001b[49m\u001b[38;5;241;43m.\u001b[39;49m\u001b[43macquire\u001b[49m\u001b[43m(\u001b[49m\u001b[43mblock\u001b[49m\u001b[43m,\u001b[49m\u001b[43m \u001b[49m\u001b[43mtimeout\u001b[49m\u001b[43m)\u001b[49m:\n\u001b[1;32m   1133\u001b[0m         lock\u001b[38;5;241m.\u001b[39mrelease()\n\u001b[1;32m   1134\u001b[0m         \u001b[38;5;28mself\u001b[39m\u001b[38;5;241m.\u001b[39m_stop()\n",
      "\u001b[0;31mKeyboardInterrupt\u001b[0m: "
     ]
    },
    {
     "name": "stdout",
     "output_type": "stream",
     "text": [
      "Retriever found. Number of documents in collection: 0\n",
      "Retriever found. Number of documents in collection: 0\n",
      "Retriever found. Number of documents in collection: 0\n",
      "Retriever found. Number of documents in collection: 0\n",
      "Retriever found. Number of documents in collection: 0\n",
      "Retriever found. Number of documents in collection: 0\n",
      "Retriever found. Number of documents in collection: 0\n",
      "Error encountered: Socket operation on non-socketError encountered: Socket operation on non-socket\n",
      "Rate limit reached, sleeping for 61 seconds...\n",
      "Retriever found. Number of documents in collection: 0\n",
      "Error encountered: Socket operation on non-socketRetriever found. Number of documents in collection: 0\n",
      "Error encountered: Socket operation on non-socket\n",
      "Rate limit reached, sleeping for 61 seconds...\n",
      "Error encountered: Socket operation on non-socketError encountered: Socket operation on non-socket\n",
      "Rate limit reached, sleeping for 61 seconds...\n",
      "Error encountered: Socket operation on non-socket\n",
      "Rate limit reached, sleeping for 61 seconds...\n",
      "Error encountered: Socket operation on non-socket\n",
      "Rate limit reached, sleeping for 61 seconds...\n",
      "Error encountered: Socket operation on non-socket\n",
      "Rate limit reached, sleeping for 61 seconds...\n",
      "Error encountered: Socket operation on non-socket\n",
      "Rate limit reached, sleeping for 61 seconds...\n",
      "Retriever found. Number of documents in collection: 0\n",
      "Error encountered: Socket operation on non-socket\n",
      "Rate limit reached, sleeping for 61 seconds...\n",
      "Error encountered: Socket operation on non-socketError encountered: Socket operation on non-socket\n",
      "Rate limit reached, sleeping for 61 seconds...\n",
      "Error encountered: Socket operation on non-socket\n",
      "Rate limit reached, sleeping for 61 seconds...\n",
      "Retriever found. Number of documents in collection: 0\n",
      "Error encountered: Socket operation on non-socket\n",
      "Rate limit reached, sleeping for 61 seconds...\n",
      "Error encountered: Socket operation on non-socketError encountered: Socket operation on non-socket\n",
      "Rate limit reached, sleeping for 61 seconds...\n",
      "Error encountered: Socket operation on non-socket\n",
      "Rate limit reached, sleeping for 61 seconds...\n",
      "Error encountered: Socket operation on non-socket\n",
      "Rate limit reached, sleeping for 61 seconds...\n",
      "Error encountered: Socket operation on non-socket\n",
      "Rate limit reached, sleeping for 61 seconds...\n",
      "Error encountered: Socket operation on non-socket\n",
      "Rate limit reached, sleeping for 61 seconds...\n",
      "Error encountered: Socket operation on non-socket\n",
      "Rate limit reached, sleeping for 61 seconds...\n",
      "Error encountered: Socket operation on non-socket\n",
      "Rate limit reached, sleeping for 61 seconds...\n",
      "Error encountered: Socket operation on non-socketError encountered: Socket operation on non-socketError encountered: Socket operation on non-socketError encountered: Socket operation on non-socketError encountered: Socket operation on non-socketError encountered: Socket operation on non-socketError encountered: Socket operation on non-socketError encountered: Socket operation on non-socketError encountered: Socket operation on non-socketError encountered: Socket operation on non-socketError encountered: Socket operation on non-socketError encountered: Socket operation on non-socketError encountered: Socket operation on non-socketError encountered: Socket operation on non-socketError encountered: Socket operation on non-socketError encountered: Socket operation on non-socketError encountered: Socket operation on non-socketError encountered: Socket operation on non-socketError encountered: Socket operation on non-socketError encountered: Socket operation on non-socketError encountered: Socket operation on non-socketError encountered: Socket operation on non-socketError encountered: Socket operation on non-socketError encountered: Socket operation on non-socketError encountered: Socket operation on non-socketError encountered: Socket operation on non-socketError encountered: Socket operation on non-socketRetriever found. Number of documents in collection: 0\n",
      "Error encountered: Socket operation on non-socketError encountered: Socket operation on non-socket\n",
      "Rate limit reached, sleeping for 61 seconds...\n",
      "Error encountered: Socket operation on non-socket\n",
      "Rate limit reached, sleeping for 61 seconds...\n",
      "Retriever found. Number of documents in collection: 0\n",
      "Error encountered: Socket operation on non-socket\n",
      "Rate limit reached, sleeping for 61 seconds...\n",
      "Error encountered: Socket operation on non-socketError encountered: Socket operation on non-socket\n",
      "Rate limit reached, sleeping for 61 seconds...\n",
      "Error encountered: Socket operation on non-socket\n",
      "Rate limit reached, sleeping for 61 seconds...\n",
      "Error encountered: Socket operation on non-socket\n",
      "Rate limit reached, sleeping for 61 seconds...\n",
      "Error encountered: Socket operation on non-socket\n",
      "Rate limit reached, sleeping for 61 seconds...\n",
      "Error encountered: Socket operation on non-socket\n",
      "Rate limit reached, sleeping for 61 seconds...\n",
      "Error encountered: Socket operation on non-socket\n",
      "Rate limit reached, sleeping for 61 seconds...\n",
      "Error encountered: Socket operation on non-socket\n",
      "Rate limit reached, sleeping for 61 seconds...\n",
      "Error encountered: Socket operation on non-socket\n",
      "Rate limit reached, sleeping for 61 seconds...\n",
      "Error encountered: Socket operation on non-socket\n",
      "Rate limit reached, sleeping for 61 seconds...\n",
      "Error encountered: Socket operation on non-socket\n",
      "Rate limit reached, sleeping for 61 seconds...\n",
      "Error encountered: Socket operation on non-socket\n",
      "Rate limit reached, sleeping for 61 seconds...\n",
      "Error encountered: Socket operation on non-socket\n",
      "Rate limit reached, sleeping for 61 seconds...\n",
      "Error encountered: Socket operation on non-socket\n",
      "Rate limit reached, sleeping for 61 seconds...\n",
      "Error encountered: Socket operation on non-socket\n",
      "Rate limit reached, sleeping for 61 seconds...\n",
      "Error encountered: Socket operation on non-socket\n",
      "Rate limit reached, sleeping for 61 seconds...\n",
      "Error encountered: Socket operation on non-socket\n",
      "Rate limit reached, sleeping for 61 seconds...\n",
      "Error encountered: Socket operation on non-socket\n",
      "Rate limit reached, sleeping for 61 seconds...\n",
      "Error encountered: Socket operation on non-socket\n",
      "Rate limit reached, sleeping for 61 seconds...\n",
      "Error encountered: Socket operation on non-socket\n",
      "Rate limit reached, sleeping for 61 seconds...\n",
      "Error encountered: Socket operation on non-socket\n",
      "Rate limit reached, sleeping for 61 seconds...\n",
      "Error encountered: Socket operation on non-socket\n",
      "Rate limit reached, sleeping for 61 seconds...\n",
      "Error encountered: Socket operation on non-socket\n",
      "Rate limit reached, sleeping for 61 seconds...\n",
      "Error encountered: Socket operation on non-socket\n",
      "Rate limit reached, sleeping for 61 seconds...\n",
      "Error encountered: Socket operation on non-socket\n",
      "Rate limit reached, sleeping for 61 seconds...\n",
      "Error encountered: Socket operation on non-socket\n",
      "Rate limit reached, sleeping for 61 seconds...\n",
      "Error encountered: Socket operation on non-socket\n",
      "Rate limit reached, sleeping for 61 seconds...\n",
      "Error encountered: Socket operation on non-socket\n",
      "Rate limit reached, sleeping for 61 seconds...\n",
      "Error encountered: Socket operation on non-socket\n",
      "Rate limit reached, sleeping for 61 seconds...\n",
      "Error encountered: Socket operation on non-socket\n",
      "Rate limit reached, sleeping for 61 seconds...\n",
      "Error encountered: Socket operation on non-socket\n",
      "Rate limit reached, sleeping for 61 seconds...\n",
      "Error encountered: Socket operation on non-socket\n",
      "Rate limit reached, sleeping for 61 seconds...\n",
      "Error encountered: Socket operation on non-socket\n",
      "Rate limit reached, sleeping for 61 seconds...\n",
      "Error encountered: Socket operation on non-socket\n",
      "Rate limit reached, sleeping for 61 seconds...\n",
      "Error encountered: Socket operation on non-socket\n",
      "Rate limit reached, sleeping for 61 seconds...\n",
      "Error encountered: Socket operation on non-socket\n",
      "Rate limit reached, sleeping for 61 seconds...\n",
      "Error encountered: Socket operation on non-socket\n",
      "Rate limit reached, sleeping for 61 seconds...\n",
      "Error encountered: Socket operation on non-socket\n",
      "Rate limit reached, sleeping for 61 seconds...\n",
      "Error encountered: Socket operation on non-socket\n",
      "Rate limit reached, sleeping for 61 seconds...\n",
      "Error encountered: Socket operation on non-socket\n",
      "Rate limit reached, sleeping for 61 seconds...\n",
      "Error encountered: Socket operation on non-socket\n",
      "Rate limit reached, sleeping for 61 seconds...\n",
      "Error encountered: Socket operation on non-socket\n",
      "Rate limit reached, sleeping for 61 seconds...\n",
      "Error encountered: Socket operation on non-socket\n",
      "Rate limit reached, sleeping for 61 seconds...\n",
      "Error encountered: Socket operation on non-socket\n",
      "Rate limit reached, sleeping for 61 seconds...\n",
      "Error encountered: Socket operation on non-socket\n",
      "Rate limit reached, sleeping for 61 seconds...\n",
      "Error encountered: Socket operation on non-socket\n",
      "Rate limit reached, sleeping for 61 seconds...\n",
      "Error encountered: Socket operation on non-socket\n",
      "Rate limit reached, sleeping for 61 seconds...\n",
      "Error encountered: Socket operation on non-socket\n",
      "Rate limit reached, sleeping for 61 seconds...\n",
      "Error encountered: Socket operation on non-socket\n",
      "Rate limit reached, sleeping for 61 seconds...\n",
      "Error encountered: Socket operation on non-socket\n",
      "Rate limit reached, sleeping for 61 seconds...\n",
      "Error encountered: Socket operation on non-socket\n",
      "Rate limit reached, sleeping for 61 seconds...\n",
      "Error encountered: Socket operation on non-socket\n",
      "Rate limit reached, sleeping for 61 seconds...\n",
      "Error encountered: Socket operation on non-socket\n",
      "Rate limit reached, sleeping for 61 seconds...\n",
      "Error encountered: Socket operation on non-socket\n",
      "Rate limit reached, sleeping for 61 seconds...\n",
      "Error encountered: Socket operation on non-socket\n",
      "Rate limit reached, sleeping for 61 seconds...\n",
      "Retriever found. Number of documents in collection: 0\n",
      "Error encountered: Socket operation on non-socket\n",
      "Rate limit reached, sleeping for 61 seconds...\n",
      "Error encountered: Socket operation on non-socketError encountered: Socket operation on non-socketRetriever found. Number of documents in collection: 0\n",
      "Error encountered: Socket operation on non-socketRetriever found. Number of documents in collection: 0\n",
      "Error encountered: Socket operation on non-socket\n",
      "Rate limit reached, sleeping for 61 seconds...\n",
      "Error encountered: Socket operation on non-socketError encountered: Socket operation on non-socket\n",
      "Rate limit reached, sleeping for 61 seconds...\n",
      "Error encountered: Socket operation on non-socket\n",
      "Rate limit reached, sleeping for 61 seconds...\n",
      "Error encountered: Socket operation on non-socket\n",
      "Rate limit reached, sleeping for 61 seconds...\n",
      "Error encountered: Socket operation on non-socket\n",
      "Rate limit reached, sleeping for 61 seconds...\n",
      "Error encountered: Socket operation on non-socket\n",
      "Rate limit reached, sleeping for 61 seconds...\n",
      "Error encountered: Socket operation on non-socket\n",
      "Rate limit reached, sleeping for 61 seconds...\n",
      "Error encountered: Socket operation on non-socket\n",
      "Rate limit reached, sleeping for 61 seconds...\n",
      "Error encountered: Socket operation on non-socket\n",
      "Rate limit reached, sleeping for 61 seconds...\n",
      "Error encountered: Socket operation on non-socket\n",
      "Rate limit reached, sleeping for 61 seconds...\n",
      "Error encountered: Socket operation on non-socket\n",
      "Rate limit reached, sleeping for 61 seconds...\n",
      "Error encountered: Socket operation on non-socket\n",
      "Rate limit reached, sleeping for 61 seconds...\n",
      "Error encountered: Socket operation on non-socket\n",
      "Rate limit reached, sleeping for 61 seconds...\n",
      "Error encountered: Socket operation on non-socket\n",
      "Rate limit reached, sleeping for 61 seconds...\n",
      "Error encountered: Socket operation on non-socket\n",
      "Rate limit reached, sleeping for 61 seconds...\n",
      "Error encountered: Socket operation on non-socket\n",
      "Rate limit reached, sleeping for 61 seconds...\n",
      "Error encountered: Socket operation on non-socket\n",
      "Rate limit reached, sleeping for 61 seconds...\n",
      "Retriever found. Number of documents in collection: 0\n",
      "Error encountered: Socket operation on non-socket\n",
      "Rate limit reached, sleeping for 61 seconds...\n",
      "Error encountered: Socket operation on non-socketError encountered: Socket operation on non-socketError encountered: Socket operation on non-socketRetriever found. Number of documents in collection: 0\n",
      "Retriever found. Number of documents in collection: 0\n",
      "Error encountered: Socket operation on non-socketError encountered: Socket operation on non-socketError encountered: Socket operation on non-socketError encountered: Socket operation on non-socketError encountered: Socket operation on non-socketError encountered: Socket operation on non-socketError encountered: Socket operation on non-socketError encountered: Socket operation on non-socketError encountered: Socket operation on non-socketError encountered: Socket operation on non-socketError encountered: Socket operation on non-socketError encountered: Socket operation on non-socketError encountered: Socket operation on non-socketError encountered: Socket operation on non-socketError encountered: Socket operation on non-socketError encountered: Socket operation on non-socketError encountered: Socket operation on non-socketError encountered: Socket operation on non-socketError encountered: Socket operation on non-socketError encountered: Socket operation on non-socketError encountered: Socket operation on non-socketError encountered: Socket operation on non-socketError encountered: Socket operation on non-socketError encountered: 'NoneType' object has no attribute 'feedback'\n",
      "Rate limit reached, sleeping for 61 seconds...\n",
      "Error encountered: Socket operation on non-socketRetriever found. Number of documents in collection: 0\n",
      "Error encountered: Socket operation on non-socket\n",
      "Rate limit reached, sleeping for 61 seconds...\n",
      "Error encountered: Socket operation on non-socketError encountered: Socket operation on non-socket\n",
      "Rate limit reached, sleeping for 61 seconds...\n",
      "Error encountered: Socket operation on non-socket\n",
      "Rate limit reached, sleeping for 61 seconds...\n",
      "Error encountered: Socket operation on non-socket\n",
      "Rate limit reached, sleeping for 61 seconds...\n",
      "Error encountered: Socket operation on non-socket\n",
      "Rate limit reached, sleeping for 61 seconds...\n",
      "Error encountered: Socket operation on non-socket\n",
      "Rate limit reached, sleeping for 61 seconds...\n",
      "Error encountered: Socket operation on non-socket\n",
      "Rate limit reached, sleeping for 61 seconds...\n",
      "Error encountered: Socket operation on non-socket\n",
      "Rate limit reached, sleeping for 61 seconds...\n",
      "Error encountered: Socket operation on non-socket\n",
      "Rate limit reached, sleeping for 61 seconds...\n",
      "Error encountered: Socket operation on non-socket\n",
      "Rate limit reached, sleeping for 61 seconds...\n",
      "Error encountered: Socket operation on non-socket\n",
      "Rate limit reached, sleeping for 61 seconds...\n",
      "Error encountered: Socket operation on non-socket\n",
      "Rate limit reached, sleeping for 61 seconds...\n",
      "Error encountered: Socket operation on non-socket\n",
      "Rate limit reached, sleeping for 61 seconds...\n",
      "Error encountered: Socket operation on non-socket\n",
      "Rate limit reached, sleeping for 61 seconds...\n",
      "Error encountered: Socket operation on non-socket\n",
      "Rate limit reached, sleeping for 61 seconds...\n",
      "Error encountered: Socket operation on non-socketRetriever found. Number of documents in collection: 0\n",
      "Error encountered: Socket operation on non-socketRetriever found. Number of documents in collection: 0\n",
      "Error encountered: Socket operation on non-socket\n",
      "Rate limit reached, sleeping for 61 seconds...\n",
      "Error encountered: Socket operation on non-socketError encountered: Socket operation on non-socket\n",
      "Rate limit reached, sleeping for 61 seconds...\n",
      "Error encountered: Socket operation on non-socket\n",
      "Rate limit reached, sleeping for 61 seconds...\n",
      "Error encountered: Socket operation on non-socket\n",
      "Rate limit reached, sleeping for 61 seconds...\n",
      "Error encountered: Socket operation on non-socket\n",
      "Rate limit reached, sleeping for 61 seconds...\n",
      "Error encountered: Socket operation on non-socket\n",
      "Rate limit reached, sleeping for 61 seconds...\n",
      "Error encountered: Socket operation on non-socket\n",
      "Rate limit reached, sleeping for 61 seconds...\n",
      "Error encountered: Socket operation on non-socket\n",
      "Rate limit reached, sleeping for 61 seconds...\n",
      "Error encountered: Socket operation on non-socketRetriever found. Number of documents in collection: 0\n",
      "Error encountered: Socket operation on non-socketError encountered: Socket operation on non-socket\n",
      "Rate limit reached, sleeping for 61 seconds...\n",
      "Error encountered: Socket operation on non-socket\n",
      "Rate limit reached, sleeping for 61 seconds...\n",
      "Error encountered: Socket operation on non-socket\n",
      "Rate limit reached, sleeping for 61 seconds...\n",
      "Error encountered: Socket operation on non-socket\n",
      "Rate limit reached, sleeping for 61 seconds...\n",
      "Error encountered: Socket operation on non-socket\n",
      "Rate limit reached, sleeping for 61 seconds...\n",
      "Error encountered: Socket operation on non-socket\n",
      "Rate limit reached, sleeping for 61 seconds...\n",
      "Error encountered: Socket operation on non-socket\n",
      "Rate limit reached, sleeping for 61 seconds...\n",
      "Error encountered: Socket operation on non-socket\n",
      "Rate limit reached, sleeping for 61 seconds...\n",
      "Error encountered: Socket operation on non-socket\n",
      "Rate limit reached, sleeping for 61 seconds...\n",
      "Error encountered: Socket operation on non-socket\n",
      "Rate limit reached, sleeping for 61 seconds...\n",
      "Error encountered: Socket operation on non-socket\n",
      "Rate limit reached, sleeping for 61 seconds...\n",
      "Error encountered: Socket operation on non-socket\n",
      "Rate limit reached, sleeping for 61 seconds...\n",
      "Error encountered: Socket operation on non-socket\n",
      "Rate limit reached, sleeping for 61 seconds...\n",
      "Error encountered: Socket operation on non-socket\n",
      "Rate limit reached, sleeping for 61 seconds...\n",
      "Error encountered: Socket operation on non-socket\n",
      "Rate limit reached, sleeping for 61 seconds...\n",
      "Error encountered: Socket operation on non-socket\n",
      "Rate limit reached, sleeping for 61 seconds...\n",
      "Error encountered: Socket operation on non-socket\n",
      "Rate limit reached, sleeping for 61 seconds...\n",
      "Error encountered: Socket operation on non-socket\n",
      "Rate limit reached, sleeping for 61 seconds...\n",
      "Error encountered: Socket operation on non-socket\n",
      "Rate limit reached, sleeping for 61 seconds...\n",
      "Error encountered: Socket operation on non-socket\n",
      "Rate limit reached, sleeping for 61 seconds...\n",
      "Retriever found. Number of documents in collection: 0\n",
      "Error encountered: Socket operation on non-socket\n",
      "Rate limit reached, sleeping for 61 seconds...\n",
      "Error encountered: Socket operation on non-socketError encountered: Socket operation on non-socket\n",
      "Rate limit reached, sleeping for 61 seconds...\n",
      "Error encountered: Socket operation on non-socket\n",
      "Rate limit reached, sleeping for 61 seconds...\n",
      "Error encountered: Socket operation on non-socket\n",
      "Rate limit reached, sleeping for 61 seconds...\n",
      "Error encountered: Socket operation on non-socket\n",
      "Rate limit reached, sleeping for 61 seconds...\n",
      "Error encountered: Socket operation on non-socket\n",
      "Rate limit reached, sleeping for 61 seconds...\n",
      "Error encountered: Socket operation on non-socket\n",
      "Rate limit reached, sleeping for 61 seconds...\n",
      "Error encountered: Socket operation on non-socket\n",
      "Rate limit reached, sleeping for 61 seconds...\n",
      "Retriever found. Number of documents in collection: 0\n",
      "Error encountered: Socket operation on non-socket\n",
      "Rate limit reached, sleeping for 61 seconds...\n",
      "Error encountered: Socket operation on non-socketError encountered: Socket operation on non-socket\n",
      "Rate limit reached, sleeping for 61 seconds...\n",
      "Error encountered: Socket operation on non-socket\n",
      "Rate limit reached, sleeping for 61 seconds...\n",
      "Error encountered: Socket operation on non-socket\n",
      "Rate limit reached, sleeping for 61 seconds...\n",
      "Error encountered: Socket operation on non-socket\n",
      "Rate limit reached, sleeping for 61 seconds...\n",
      "Error encountered: Socket operation on non-socket\n",
      "Rate limit reached, sleeping for 61 seconds...\n",
      "Error encountered: Socket operation on non-socket\n",
      "Rate limit reached, sleeping for 61 seconds...\n",
      "Error encountered: Socket operation on non-socket\n",
      "Rate limit reached, sleeping for 61 seconds...\n",
      "Error encountered: Socket operation on non-socket\n",
      "Rate limit reached, sleeping for 61 seconds...\n",
      "Error encountered: Socket operation on non-socket\n",
      "Rate limit reached, sleeping for 61 seconds...\n",
      "Error encountered: Socket operation on non-socket\n",
      "Rate limit reached, sleeping for 61 seconds...\n",
      "Error encountered: Socket operation on non-socket\n",
      "Rate limit reached, sleeping for 61 seconds...\n",
      "Error encountered: Socket operation on non-socket\n",
      "Rate limit reached, sleeping for 61 seconds...\n",
      "Error encountered: Socket operation on non-socket\n",
      "Rate limit reached, sleeping for 61 seconds...\n",
      "Error encountered: 'NoneType' object has no attribute 'feedback'\n",
      "Rate limit reached, sleeping for 61 seconds...\n",
      "Error encountered: Socket operation on non-socket\n",
      "Rate limit reached, sleeping for 61 seconds...\n",
      "Retriever found. Number of documents in collection: 0\n",
      "Error encountered: Socket operation on non-socket\n",
      "Rate limit reached, sleeping for 61 seconds...\n",
      "Retriever found. Number of documents in collection: 0\n",
      "Error encountered: Socket operation on non-socketError encountered: Socket operation on non-socketError encountered: Socket operation on non-socketError encountered: Socket operation on non-socketError encountered: Socket operation on non-socketError encountered: Socket operation on non-socketError encountered: Socket operation on non-socketError encountered: Socket operation on non-socketError encountered: Socket operation on non-socketError encountered: Socket operation on non-socketError encountered: Socket operation on non-socketError encountered: Socket operation on non-socketError encountered: Socket operation on non-socket\n",
      "Rate limit reached, sleeping for 61 seconds...\n",
      "Error encountered: Socket operation on non-socket\n",
      "Rate limit reached, sleeping for 61 seconds...\n",
      "Error encountered: Socket operation on non-socket\n",
      "Rate limit reached, sleeping for 61 seconds...\n",
      "Error encountered: Socket operation on non-socket\n",
      "Rate limit reached, sleeping for 61 seconds...\n",
      "Error encountered: Socket operation on non-socket\n",
      "Rate limit reached, sleeping for 61 seconds...\n",
      "Error encountered: Socket operation on non-socket\n",
      "Rate limit reached, sleeping for 61 seconds...\n",
      "Error encountered: Socket operation on non-socket\n",
      "Rate limit reached, sleeping for 61 seconds...\n",
      "Error encountered: Socket operation on non-socket\n",
      "Rate limit reached, sleeping for 61 seconds...\n",
      "Error encountered: Socket operation on non-socket\n",
      "Rate limit reached, sleeping for 61 seconds...\n",
      "Error encountered: Socket operation on non-socket\n",
      "Rate limit reached, sleeping for 61 seconds...\n",
      "Error encountered: Socket operation on non-socket\n",
      "Rate limit reached, sleeping for 61 seconds...\n",
      "Error encountered: Socket operation on non-socket\n",
      "Rate limit reached, sleeping for 61 seconds...\n",
      "Error encountered: Socket operation on non-socket\n",
      "Rate limit reached, sleeping for 61 seconds...\n",
      "Error encountered: Socket operation on non-socket\n",
      "Rate limit reached, sleeping for 61 seconds...\n",
      "Error encountered: Socket operation on non-socket\n",
      "Rate limit reached, sleeping for 61 seconds...\n",
      "Error encountered: Socket operation on non-socket\n",
      "Rate limit reached, sleeping for 61 seconds...\n",
      "Error encountered: Socket operation on non-socket\n",
      "Rate limit reached, sleeping for 61 seconds...\n",
      "Error encountered: Socket operation on non-socket\n",
      "Rate limit reached, sleeping for 61 seconds...\n",
      "Error encountered: Socket operation on non-socket\n",
      "Rate limit reached, sleeping for 61 seconds...\n",
      "Error encountered: Socket operation on non-socket\n",
      "Rate limit reached, sleeping for 61 seconds...\n",
      "Error encountered: Socket operation on non-socket\n",
      "Rate limit reached, sleeping for 61 seconds...\n",
      "Error encountered: Socket operation on non-socket\n",
      "Rate limit reached, sleeping for 61 seconds...\n",
      "Error encountered: Socket operation on non-socket\n",
      "Rate limit reached, sleeping for 61 seconds...\n",
      "Error encountered: Socket operation on non-socket\n",
      "Rate limit reached, sleeping for 61 seconds...\n",
      "Error encountered: Socket operation on non-socket\n",
      "Rate limit reached, sleeping for 61 seconds...\n",
      "Error encountered: Socket operation on non-socket\n",
      "Rate limit reached, sleeping for 61 seconds...\n",
      "Error encountered: Socket operation on non-socket\n",
      "Rate limit reached, sleeping for 61 seconds...\n",
      "Error encountered: Socket operation on non-socket\n",
      "Rate limit reached, sleeping for 61 seconds...\n",
      "Error encountered: Socket operation on non-socketError encountered: Socket operation on non-socket\n",
      "Rate limit reached, sleeping for 61 seconds...\n",
      "Error encountered: Socket operation on non-socket\n",
      "Rate limit reached, sleeping for 61 seconds...\n",
      "Error encountered: Socket operation on non-socketRetriever found. Number of documents in collection: 0\n",
      "Error encountered: Socket operation on non-socketError encountered: Socket operation on non-socketError encountered: Socket operation on non-socketError encountered: Socket operation on non-socketError encountered: Socket operation on non-socketError encountered: Socket operation on non-socket\n",
      "Rate limit reached, sleeping for 61 seconds...\n",
      "Error encountered: Socket operation on non-socket\n",
      "Rate limit reached, sleeping for 61 seconds...\n",
      "Error encountered: Socket operation on non-socket\n",
      "Rate limit reached, sleeping for 61 seconds...\n",
      "Error encountered: Socket operation on non-socket\n",
      "Rate limit reached, sleeping for 61 seconds...\n",
      "Error encountered: Socket operation on non-socket\n",
      "Rate limit reached, sleeping for 61 seconds...\n",
      "Error encountered: Socket operation on non-socket\n",
      "Rate limit reached, sleeping for 61 seconds...\n",
      "Error encountered: Socket operation on non-socket\n",
      "Rate limit reached, sleeping for 61 seconds...\n",
      "Error encountered: Socket operation on non-socket\n",
      "Rate limit reached, sleeping for 61 seconds...\n",
      "Error encountered: Socket operation on non-socket\n",
      "Rate limit reached, sleeping for 61 seconds...\n",
      "Error encountered: Socket operation on non-socket\n",
      "Rate limit reached, sleeping for 61 seconds...\n",
      "Error encountered: Socket operation on non-socket\n",
      "Rate limit reached, sleeping for 61 seconds...\n",
      "Error encountered: Socket operation on non-socket\n",
      "Rate limit reached, sleeping for 61 seconds...\n",
      "Retriever found. Number of documents in collection: 0\n",
      "Error encountered: Socket operation on non-socketError encountered: Socket operation on non-socketError encountered: Socket operation on non-socket\n",
      "Rate limit reached, sleeping for 61 seconds...\n",
      "Error encountered: Socket operation on non-socket\n",
      "Rate limit reached, sleeping for 61 seconds...\n",
      "Error encountered: Socket operation on non-socket\n",
      "Rate limit reached, sleeping for 61 seconds...\n",
      "Error encountered: Socket operation on non-socket\n",
      "Rate limit reached, sleeping for 61 seconds...\n",
      "Error encountered: Socket operation on non-socket\n",
      "Rate limit reached, sleeping for 61 seconds...\n",
      "Error encountered: Socket operation on non-socket\n",
      "Rate limit reached, sleeping for 61 seconds...\n",
      "Error encountered: Socket operation on non-socket\n",
      "Rate limit reached, sleeping for 61 seconds...\n",
      "Error encountered: Socket operation on non-socket\n",
      "Rate limit reached, sleeping for 61 seconds...\n",
      "Error encountered: Socket operation on non-socket\n",
      "Rate limit reached, sleeping for 61 seconds...\n",
      "Error encountered: Socket operation on non-socket\n",
      "Rate limit reached, sleeping for 61 seconds...\n",
      "Error encountered: Socket operation on non-socket\n",
      "Rate limit reached, sleeping for 61 seconds...\n",
      "Retriever found. Number of documents in collection: 0\n",
      "Error encountered: Socket operation on non-socketError encountered: Socket operation on non-socketError encountered: Socket operation on non-socketError encountered: Socket operation on non-socketError encountered: Socket operation on non-socketError encountered: 'NoneType' object has no attribute 'feedback'\n",
      "Rate limit reached, sleeping for 61 seconds...\n",
      "Error encountered: Socket operation on non-socketRetriever found. Number of documents in collection: 0\n",
      "Error encountered: Socket operation on non-socket\n",
      "Rate limit reached, sleeping for 61 seconds...\n",
      "Error encountered: Socket operation on non-socketError encountered: Socket operation on non-socket\n",
      "Rate limit reached, sleeping for 61 seconds...\n",
      "Error encountered: Socket operation on non-socket\n",
      "Rate limit reached, sleeping for 61 seconds...\n",
      "Error encountered: Socket operation on non-socket\n",
      "Rate limit reached, sleeping for 61 seconds...\n",
      "Error encountered: Socket operation on non-socket\n",
      "Rate limit reached, sleeping for 61 seconds...\n",
      "Error encountered: Socket operation on non-socket\n",
      "Rate limit reached, sleeping for 61 seconds...\n",
      "Error encountered: Socket operation on non-socket\n",
      "Rate limit reached, sleeping for 61 seconds...\n",
      "Error encountered: Socket operation on non-socket\n",
      "Rate limit reached, sleeping for 61 seconds...\n",
      "Retriever found. Number of documents in collection: 0\n",
      "Error encountered: Socket operation on non-socket\n",
      "Rate limit reached, sleeping for 61 seconds...\n",
      "Error encountered: Socket operation on non-socketError encountered: Socket operation on non-socket\n",
      "Rate limit reached, sleeping for 61 seconds...\n",
      "Error encountered: Socket operation on non-socket\n",
      "Rate limit reached, sleeping for 61 seconds...\n",
      "Error encountered: Socket operation on non-socket\n",
      "Rate limit reached, sleeping for 61 seconds...\n",
      "Error encountered: Socket operation on non-socket\n",
      "Rate limit reached, sleeping for 61 seconds...\n",
      "Error encountered: Socket operation on non-socket\n",
      "Rate limit reached, sleeping for 61 seconds...\n",
      "Error encountered: Socket operation on non-socket\n",
      "Rate limit reached, sleeping for 61 seconds...\n",
      "Error encountered: Socket operation on non-socket\n",
      "Rate limit reached, sleeping for 61 seconds...\n",
      "Retriever found. Number of documents in collection: 0\n",
      "Error encountered: Socket operation on non-socket\n",
      "Rate limit reached, sleeping for 61 seconds...\n",
      "Error encountered: Socket operation on non-socketError encountered: Socket operation on non-socket\n",
      "Rate limit reached, sleeping for 61 seconds...\n",
      "Error encountered: Socket operation on non-socketRetriever found. Number of documents in collection: 0\n",
      "Error encountered: Socket operation on non-socketError encountered: Socket operation on non-socketError encountered: Socket operation on non-socket\n",
      "Rate limit reached, sleeping for 61 seconds...\n",
      "Error encountered: Socket operation on non-socketRetriever found. Number of documents in collection: 0\n",
      "Error encountered: Socket operation on non-socketError encountered: Socket operation on non-socketError encountered: Socket operation on non-socketError encountered: Socket operation on non-socketError encountered: Socket operation on non-socketError encountered: Socket operation on non-socketError encountered: Socket operation on non-socketError encountered: Socket operation on non-socketError encountered: Socket operation on non-socketError encountered: Socket operation on non-socketError encountered: Socket operation on non-socketError encountered: Socket operation on non-socketError encountered: Socket operation on non-socket\n",
      "Rate limit reached, sleeping for 61 seconds...\n",
      "Error encountered: Socket operation on non-socket\n",
      "Rate limit reached, sleeping for 61 seconds...\n",
      "Error encountered: Socket operation on non-socket\n",
      "Rate limit reached, sleeping for 61 seconds...\n",
      "Error encountered: Socket operation on non-socket\n",
      "Rate limit reached, sleeping for 61 seconds...\n",
      "Error encountered: Socket operation on non-socket\n",
      "Rate limit reached, sleeping for 61 seconds...\n",
      "Retriever found. Number of documents in collection: 0\n",
      "Error encountered: Socket operation on non-socketError encountered: Socket operation on non-socketError encountered: Socket operation on non-socketError encountered: Socket operation on non-socketError encountered: Socket operation on non-socketError encountered: Socket operation on non-socketRetriever found. Number of documents in collection: 0\n",
      "Error encountered: Socket operation on non-socketError encountered: Socket operation on non-socket\n",
      "Rate limit reached, sleeping for 61 seconds...\n",
      "Error encountered: Socket operation on non-socket\n",
      "Rate limit reached, sleeping for 61 seconds...\n",
      "Error encountered: Socket operation on non-socket\n",
      "Rate limit reached, sleeping for 61 seconds...\n",
      "Error encountered: Socket operation on non-socket\n",
      "Rate limit reached, sleeping for 61 seconds...\n",
      "Error encountered: Socket operation on non-socket\n",
      "Rate limit reached, sleeping for 61 seconds...\n",
      "Error encountered: Socket operation on non-socket\n",
      "Rate limit reached, sleeping for 61 seconds...\n",
      "Error encountered: Socket operation on non-socket\n",
      "Rate limit reached, sleeping for 61 seconds...\n",
      "Error encountered: Socket operation on non-socket\n",
      "Rate limit reached, sleeping for 61 seconds...\n",
      "Error encountered: Socket operation on non-socket\n",
      "Rate limit reached, sleeping for 61 seconds...\n",
      "Error encountered: Socket operation on non-socket\n",
      "Rate limit reached, sleeping for 61 seconds...\n",
      "Error encountered: Socket operation on non-socket\n",
      "Rate limit reached, sleeping for 61 seconds...\n",
      "Error encountered: Socket operation on non-socket\n",
      "Rate limit reached, sleeping for 61 seconds...\n",
      "Error encountered: Socket operation on non-socket\n",
      "Rate limit reached, sleeping for 61 seconds...\n",
      "Error encountered: Socket operation on non-socket\n",
      "Rate limit reached, sleeping for 61 seconds...\n",
      "Error encountered: Socket operation on non-socket\n",
      "Rate limit reached, sleeping for 61 seconds...\n",
      "Error encountered: Socket operation on non-socket\n",
      "Rate limit reached, sleeping for 61 seconds...\n",
      "Error encountered: Socket operation on non-socket\n",
      "Rate limit reached, sleeping for 61 seconds...\n",
      "Error encountered: Socket operation on non-socket\n",
      "Rate limit reached, sleeping for 61 seconds...\n",
      "Retriever found. Number of documents in collection: 0\n",
      "Error encountered: Socket operation on non-socket\n",
      "Rate limit reached, sleeping for 61 seconds...\n",
      "Error encountered: Socket operation on non-socketError encountered: Socket operation on non-socketError encountered: Socket operation on non-socketError encountered: Socket operation on non-socketError encountered: Socket operation on non-socketError encountered: Socket operation on non-socketError encountered: Socket operation on non-socketError encountered: Socket operation on non-socketError encountered: Socket operation on non-socketError encountered: Socket operation on non-socketError encountered: Socket operation on non-socketError encountered: Socket operation on non-socketError encountered: Socket operation on non-socketRetriever found. Number of documents in collection: 0\n",
      "Retriever found. Number of documents in collection: 0\n",
      "Retriever found. Number of documents in collection: 0\n",
      "Retriever found. Number of documents in collection: 0\n",
      "Error encountered: Socket operation on non-socketError encountered: Socket operation on non-socketRetriever found. Number of documents in collection: 0\n",
      "Error encountered: Socket operation on non-socketError encountered: Socket operation on non-socketError encountered: Socket operation on non-socketError encountered: Socket operation on non-socketError encountered: Socket operation on non-socketError encountered: Socket operation on non-socketError encountered: Socket operation on non-socketError encountered: Socket operation on non-socketError encountered: Socket operation on non-socketError encountered: Socket operation on non-socketRetriever found. Number of documents in collection: 0\n",
      "Error encountered: Socket operation on non-socketError encountered: Socket operation on non-socketError encountered: Socket operation on non-socketError encountered: Socket operation on non-socketError encountered: Socket operation on non-socketError encountered: Socket operation on non-socketError encountered: Socket operation on non-socketError encountered: Socket operation on non-socketError encountered: Socket operation on non-socketError encountered: Socket operation on non-socketError encountered: Socket operation on non-socketError encountered: Socket operation on non-socketError encountered: Socket operation on non-socketError encountered: Socket operation on non-socketError encountered: Socket operation on non-socketRetriever found. Number of documents in collection: 0\n",
      "Error encountered: Socket operation on non-socket\n",
      "Rate limit reached, sleeping for 61 seconds...\n",
      "Error encountered: Socket operation on non-socketError encountered: Socket operation on non-socketError encountered: Socket operation on non-socketError encountered: Socket operation on non-socketError encountered: Socket operation on non-socketError encountered: Socket operation on non-socketError encountered: Socket operation on non-socketError encountered: Socket operation on non-socketError encountered: Socket operation on non-socketError encountered: Socket operation on non-socketError encountered: Socket operation on non-socket\n",
      "Rate limit reached, sleeping for 61 seconds...\n",
      "Error encountered: Socket operation on non-socket\n",
      "Rate limit reached, sleeping for 61 seconds...\n",
      "Error encountered: Socket operation on non-socket\n",
      "Rate limit reached, sleeping for 61 seconds...\n",
      "Error encountered: Socket operation on non-socket\n",
      "Rate limit reached, sleeping for 61 seconds...\n",
      "Error encountered: Socket operation on non-socket\n",
      "Rate limit reached, sleeping for 61 seconds...\n",
      "Retriever found. Number of documents in collection: 0\n",
      "Error encountered: Socket operation on non-socket\n",
      "Rate limit reached, sleeping for 61 seconds...\n",
      "Error encountered: Socket operation on non-socketError encountered: Socket operation on non-socket\n",
      "Rate limit reached, sleeping for 61 seconds...\n",
      "Error encountered: Socket operation on non-socket\n",
      "Rate limit reached, sleeping for 61 seconds...\n",
      "Error encountered: Socket operation on non-socket\n",
      "Rate limit reached, sleeping for 61 seconds...\n",
      "Error encountered: Socket operation on non-socket\n",
      "Rate limit reached, sleeping for 61 seconds...\n",
      "Error encountered: Socket operation on non-socket\n",
      "Rate limit reached, sleeping for 61 seconds...\n",
      "Error encountered: Socket operation on non-socket\n",
      "Rate limit reached, sleeping for 61 seconds...\n",
      "Error encountered: Socket operation on non-socket\n",
      "Rate limit reached, sleeping for 61 seconds...\n",
      "Error encountered: Socket operation on non-socket\n",
      "Rate limit reached, sleeping for 61 seconds...\n",
      "Retriever found. Number of documents in collection: 0\n",
      "Error encountered: Socket operation on non-socket\n",
      "Rate limit reached, sleeping for 61 seconds...\n",
      "Error encountered: Socket operation on non-socketError encountered: Socket operation on non-socket\n",
      "Rate limit reached, sleeping for 61 seconds...\n",
      "Error encountered: Socket operation on non-socket\n",
      "Rate limit reached, sleeping for 61 seconds...\n",
      "Error encountered: Socket operation on non-socket\n",
      "Rate limit reached, sleeping for 61 seconds...\n",
      "Error encountered: Socket operation on non-socket\n",
      "Rate limit reached, sleeping for 61 seconds...\n",
      "Error encountered: Socket operation on non-socket\n",
      "Rate limit reached, sleeping for 61 seconds...\n",
      "Error encountered: Socket operation on non-socket\n",
      "Rate limit reached, sleeping for 61 seconds...\n",
      "Error encountered: Socket operation on non-socket\n",
      "Rate limit reached, sleeping for 61 seconds...\n",
      "Error encountered: Socket operation on non-socket\n",
      "Rate limit reached, sleeping for 61 seconds...\n",
      "Error encountered: Socket operation on non-socket\n",
      "Rate limit reached, sleeping for 61 seconds...\n",
      "Error encountered: Socket operation on non-socket\n",
      "Rate limit reached, sleeping for 61 seconds...\n",
      "Error encountered: Socket operation on non-socket\n",
      "Rate limit reached, sleeping for 61 seconds...\n",
      "Retriever found. Number of documents in collection: 0\n",
      "Error encountered: Socket operation on non-socket\n",
      "Rate limit reached, sleeping for 61 seconds...\n",
      "Error encountered: Socket operation on non-socketRetriever found. Number of documents in collection: 0\n",
      "Error encountered: Socket operation on non-socket\n",
      "Rate limit reached, sleeping for 61 seconds...\n",
      "Error encountered: Socket operation on non-socketError encountered: Socket operation on non-socket\n",
      "Rate limit reached, sleeping for 61 seconds...\n",
      "Error encountered: Socket operation on non-socket\n",
      "Rate limit reached, sleeping for 61 seconds...\n",
      "Error encountered: Socket operation on non-socket\n",
      "Rate limit reached, sleeping for 61 seconds...\n",
      "Error encountered: Socket operation on non-socket\n",
      "Rate limit reached, sleeping for 61 seconds...\n",
      "Error encountered: Socket operation on non-socket\n",
      "Rate limit reached, sleeping for 61 seconds...\n",
      "Error encountered: Socket operation on non-socket\n",
      "Rate limit reached, sleeping for 61 seconds...\n",
      "Error encountered: Socket operation on non-socket\n",
      "Rate limit reached, sleeping for 61 seconds...\n",
      "Error encountered: Socket operation on non-socket\n",
      "Rate limit reached, sleeping for 61 seconds...\n",
      "Error encountered: Socket operation on non-socket\n",
      "Rate limit reached, sleeping for 61 seconds...\n",
      "Error encountered: Socket operation on non-socket\n",
      "Rate limit reached, sleeping for 61 seconds...\n",
      "Error encountered: Socket operation on non-socketRetriever found. Number of documents in collection: 0\n",
      "Error encountered: Socket operation on non-socketRetriever found. Number of documents in collection: 0\n",
      "Error encountered: Socket operation on non-socket\n",
      "Rate limit reached, sleeping for 61 seconds...\n",
      "Error encountered: Socket operation on non-socketError encountered: Socket operation on non-socket\n",
      "Rate limit reached, sleeping for 61 seconds...\n",
      "Error encountered: Socket operation on non-socket\n",
      "Rate limit reached, sleeping for 61 seconds...\n",
      "Error encountered: Socket operation on non-socket\n",
      "Rate limit reached, sleeping for 61 seconds...\n",
      "Error encountered: Socket operation on non-socket\n",
      "Rate limit reached, sleeping for 61 seconds...\n",
      "Error encountered: Socket operation on non-socket\n",
      "Rate limit reached, sleeping for 61 seconds...\n",
      "Error encountered: Socket operation on non-socket\n",
      "Rate limit reached, sleeping for 61 seconds...\n",
      "Error encountered: Socket operation on non-socket\n",
      "Rate limit reached, sleeping for 61 seconds...\n",
      "Error encountered: Socket operation on non-socket\n",
      "Rate limit reached, sleeping for 61 seconds...\n",
      "Error encountered: Socket operation on non-socket\n",
      "Rate limit reached, sleeping for 61 seconds...\n",
      "Error encountered: Socket operation on non-socket\n",
      "Rate limit reached, sleeping for 61 seconds...\n",
      "Error encountered: Socket operation on non-socket\n",
      "Rate limit reached, sleeping for 61 seconds...\n",
      "Error encountered: Socket operation on non-socketRetriever found. Number of documents in collection: 0\n",
      "Error encountered: Socket operation on non-socketError encountered: Socket operation on non-socket\n",
      "Rate limit reached, sleeping for 61 seconds...\n",
      "Error encountered: Socket operation on non-socket\n",
      "Rate limit reached, sleeping for 61 seconds...\n",
      "Error encountered: Socket operation on non-socket\n",
      "Rate limit reached, sleeping for 61 seconds...\n",
      "Error encountered: Socket operation on non-socketError encountered: Socket operation on non-socketError encountered: Socket operation on non-socketError encountered: Socket operation on non-socketError encountered: Socket operation on non-socketError encountered: Socket operation on non-socketError encountered: Socket operation on non-socketError encountered: Socket operation on non-socketError encountered: Socket operation on non-socketError encountered: Socket operation on non-socketError encountered: Socket operation on non-socketError encountered: Socket operation on non-socketError encountered: Socket operation on non-socket\n",
      "Rate limit reached, sleeping for 61 seconds...\n",
      "Error encountered: Socket operation on non-socket\n",
      "Rate limit reached, sleeping for 61 seconds...\n",
      "Error encountered: Socket operation on non-socket\n",
      "Rate limit reached, sleeping for 61 seconds...\n",
      "Error encountered: Socket operation on non-socket\n",
      "Rate limit reached, sleeping for 61 seconds...\n",
      "Error encountered: Socket operation on non-socket\n",
      "Rate limit reached, sleeping for 61 seconds...\n",
      "Error encountered: Socket operation on non-socket\n",
      "Rate limit reached, sleeping for 61 seconds...\n",
      "Error encountered: Socket operation on non-socket\n",
      "Rate limit reached, sleeping for 61 seconds...\n",
      "Retriever found. Number of documents in collection: 0\n",
      "Error encountered: Socket operation on non-socket\n",
      "Rate limit reached, sleeping for 61 seconds...\n",
      "Error encountered: Socket operation on non-socketError encountered: Socket operation on non-socketError encountered: Socket operation on non-socketError encountered: Socket operation on non-socket\n",
      "Rate limit reached, sleeping for 61 seconds...\n",
      "Error encountered: Socket operation on non-socket\n",
      "Rate limit reached, sleeping for 61 seconds...\n",
      "Error encountered: Socket operation on non-socket\n",
      "Rate limit reached, sleeping for 61 seconds...\n",
      "Error encountered: Socket operation on non-socket\n",
      "Rate limit reached, sleeping for 61 seconds...\n",
      "Error encountered: Socket operation on non-socket\n",
      "Rate limit reached, sleeping for 61 seconds...\n",
      "Error encountered: Socket operation on non-socket\n",
      "Rate limit reached, sleeping for 61 seconds...\n",
      "Error encountered: Socket operation on non-socket\n",
      "Rate limit reached, sleeping for 61 seconds...\n",
      "Error encountered: Socket operation on non-socket\n",
      "Rate limit reached, sleeping for 61 seconds...\n",
      "Error encountered: Socket operation on non-socket\n",
      "Rate limit reached, sleeping for 61 seconds...\n",
      "Error encountered: Socket operation on non-socket\n",
      "Rate limit reached, sleeping for 61 seconds...\n",
      "Error encountered: Socket operation on non-socket\n",
      "Rate limit reached, sleeping for 61 seconds...\n",
      "Error encountered: Socket operation on non-socket\n",
      "Rate limit reached, sleeping for 61 seconds...\n",
      "Error encountered: Socket operation on non-socket\n",
      "Rate limit reached, sleeping for 61 seconds...\n",
      "Error encountered: Socket operation on non-socket\n",
      "Rate limit reached, sleeping for 61 seconds...\n",
      "Error encountered: Socket operation on non-socket\n",
      "Rate limit reached, sleeping for 61 seconds...\n",
      "Error encountered: Socket operation on non-socket\n",
      "Rate limit reached, sleeping for 61 seconds...\n",
      "Error encountered: Socket operation on non-socket\n",
      "Rate limit reached, sleeping for 61 seconds...\n",
      "Retriever found. Number of documents in collection: 0\n",
      "Error encountered: Socket operation on non-socket\n",
      "Rate limit reached, sleeping for 61 seconds...\n",
      "Error encountered: Socket operation on non-socketError encountered: Socket operation on non-socket\n",
      "Rate limit reached, sleeping for 61 seconds...\n",
      "Error encountered: Socket operation on non-socket\n",
      "Rate limit reached, sleeping for 61 seconds...\n",
      "Retriever found. Number of documents in collection: 0\n",
      "Error encountered: Socket operation on non-socketError encountered: Socket operation on non-socketError encountered: Socket operation on non-socketError encountered: Socket operation on non-socketError encountered: Socket operation on non-socketError encountered: Socket operation on non-socket\n",
      "Rate limit reached, sleeping for 61 seconds...\n",
      "Error encountered: Socket operation on non-socket\n",
      "Rate limit reached, sleeping for 61 seconds...\n",
      "Error encountered: Socket operation on non-socket\n",
      "Rate limit reached, sleeping for 61 seconds...\n",
      "Error encountered: Socket operation on non-socket\n",
      "Rate limit reached, sleeping for 61 seconds...\n",
      "Error encountered: Socket operation on non-socket\n",
      "Rate limit reached, sleeping for 61 seconds...\n",
      "Error encountered: 'NoneType' object has no attribute 'feedback'\n",
      "Rate limit reached, sleeping for 61 seconds...\n",
      "Error encountered: Socket operation on non-socket\n",
      "Rate limit reached, sleeping for 61 seconds...\n",
      "Error encountered: Socket operation on non-socketRetriever found. Number of documents in collection: 0\n",
      "Error encountered: Socket operation on non-socketError encountered: Socket operation on non-socketError encountered: Socket operation on non-socketError encountered: Socket operation on non-socket\n",
      "Rate limit reached, sleeping for 61 seconds...\n",
      "Error encountered: Socket operation on non-socket\n",
      "Rate limit reached, sleeping for 61 seconds...\n",
      "Error encountered: Socket operation on non-socket\n",
      "Rate limit reached, sleeping for 61 seconds...\n",
      "Error encountered: Socket operation on non-socket\n",
      "Rate limit reached, sleeping for 61 seconds...\n",
      "Error encountered: Socket operation on non-socket\n",
      "Rate limit reached, sleeping for 61 seconds...\n",
      "Error encountered: Socket operation on non-socket\n",
      "Rate limit reached, sleeping for 61 seconds...\n",
      "Error encountered: Socket operation on non-socket\n",
      "Rate limit reached, sleeping for 61 seconds...\n",
      "Error encountered: Socket operation on non-socket\n",
      "Rate limit reached, sleeping for 61 seconds...\n",
      "Error encountered: Socket operation on non-socket\n",
      "Rate limit reached, sleeping for 61 seconds...\n",
      "Error encountered: Socket operation on non-socket\n",
      "Rate limit reached, sleeping for 61 seconds...\n",
      "Error encountered: Socket operation on non-socket\n",
      "Rate limit reached, sleeping for 61 seconds...\n",
      "Error encountered: Socket operation on non-socket\n",
      "Rate limit reached, sleeping for 61 seconds...\n",
      "Error encountered: Socket operation on non-socket\n",
      "Rate limit reached, sleeping for 61 seconds...\n",
      "Error encountered: Socket operation on non-socket\n",
      "Rate limit reached, sleeping for 61 seconds...\n",
      "Error encountered: Socket operation on non-socket\n",
      "Rate limit reached, sleeping for 61 seconds...\n",
      "Error encountered: Socket operation on non-socket\n",
      "Rate limit reached, sleeping for 61 seconds...\n",
      "Error encountered: Socket operation on non-socket\n",
      "Rate limit reached, sleeping for 61 seconds...\n",
      "Error encountered: Socket operation on non-socket\n",
      "Rate limit reached, sleeping for 61 seconds...\n",
      "Error encountered: Socket operation on non-socket\n",
      "Rate limit reached, sleeping for 61 seconds...\n",
      "Error encountered: Socket operation on non-socket\n",
      "Rate limit reached, sleeping for 61 seconds...\n",
      "Error encountered: Socket operation on non-socket\n",
      "Rate limit reached, sleeping for 61 seconds...\n",
      "Error encountered: Socket operation on non-socket\n",
      "Rate limit reached, sleeping for 61 seconds...\n",
      "Error encountered: Socket operation on non-socket\n",
      "Rate limit reached, sleeping for 61 seconds...\n",
      "Error encountered: Socket operation on non-socket\n",
      "Rate limit reached, sleeping for 61 seconds...\n",
      "Error encountered: Socket operation on non-socket\n",
      "Rate limit reached, sleeping for 61 seconds...\n",
      "Error encountered: Socket operation on non-socket\n",
      "Rate limit reached, sleeping for 61 seconds...\n",
      "Error encountered: Socket operation on non-socket\n",
      "Rate limit reached, sleeping for 61 seconds...\n",
      "Error encountered: Socket operation on non-socket\n",
      "Rate limit reached, sleeping for 61 seconds...\n",
      "Retriever found. Number of documents in collection: 0\n",
      "Retriever found. Number of documents in collection: 0\n",
      "Error encountered: Socket operation on non-socket\n",
      "Rate limit reached, sleeping for 61 seconds...\n",
      "Error encountered: Socket operation on non-socketError encountered: Socket operation on non-socket\n",
      "Rate limit reached, sleeping for 61 seconds...\n",
      "Error encountered: Socket operation on non-socket\n",
      "Rate limit reached, sleeping for 61 seconds...\n",
      "Error encountered: Socket operation on non-socket\n",
      "Rate limit reached, sleeping for 61 seconds...\n",
      "Error encountered: Socket operation on non-socket\n",
      "Rate limit reached, sleeping for 61 seconds...\n",
      "Error encountered: Socket operation on non-socket\n",
      "Rate limit reached, sleeping for 61 seconds...\n",
      "Error encountered: Socket operation on non-socket\n",
      "Rate limit reached, sleeping for 61 seconds...\n",
      "Error encountered: Socket operation on non-socket\n",
      "Rate limit reached, sleeping for 61 seconds...\n",
      "Error encountered: Socket operation on non-socket\n",
      "Rate limit reached, sleeping for 61 seconds...\n",
      "Error encountered: Socket operation on non-socket\n",
      "Rate limit reached, sleeping for 61 seconds...\n",
      "Error encountered: Socket operation on non-socket\n",
      "Rate limit reached, sleeping for 61 seconds...\n",
      "Error encountered: Socket operation on non-socket\n",
      "Rate limit reached, sleeping for 61 seconds...\n",
      "Error encountered: Socket operation on non-socket\n",
      "Rate limit reached, sleeping for 61 seconds...\n",
      "Error encountered: Socket operation on non-socket\n",
      "Rate limit reached, sleeping for 61 seconds...\n",
      "Error encountered: Socket operation on non-socket\n",
      "Rate limit reached, sleeping for 61 seconds...\n",
      "Error encountered: Socket operation on non-socketRetriever found. Number of documents in collection: 0\n",
      "Retriever found. Number of documents in collection: 0\n",
      "Error encountered: Socket operation on non-socketError encountered: Socket operation on non-socketError encountered: Socket operation on non-socketError encountered: Socket operation on non-socketError encountered: Socket operation on non-socketError encountered: Socket operation on non-socketError encountered: Socket operation on non-socketError encountered: Socket operation on non-socketError encountered: Socket operation on non-socketError encountered: Socket operation on non-socket\n",
      "Rate limit reached, sleeping for 61 seconds...\n",
      "Error encountered: Socket operation on non-socketError encountered: Socket operation on non-socket\n",
      "Rate limit reached, sleeping for 61 seconds...\n",
      "Error encountered: Socket operation on non-socket\n",
      "Rate limit reached, sleeping for 61 seconds...\n",
      "Error encountered: Socket operation on non-socket\n",
      "Rate limit reached, sleeping for 61 seconds...\n",
      "Error encountered: Socket operation on non-socket\n",
      "Rate limit reached, sleeping for 61 seconds...\n",
      "Error encountered: Socket operation on non-socket\n",
      "Rate limit reached, sleeping for 61 seconds...\n",
      "Error encountered: Socket operation on non-socket\n",
      "Rate limit reached, sleeping for 61 seconds...\n",
      "Error encountered: Socket operation on non-socket\n",
      "Rate limit reached, sleeping for 61 seconds...\n",
      "Error encountered: Socket operation on non-socket\n",
      "Rate limit reached, sleeping for 61 seconds...\n",
      "Error encountered: Socket operation on non-socket\n",
      "Rate limit reached, sleeping for 61 seconds...\n",
      "Error encountered: Socket operation on non-socket\n",
      "Rate limit reached, sleeping for 61 seconds...\n",
      "Error encountered: Socket operation on non-socket\n",
      "Rate limit reached, sleeping for 61 seconds...\n",
      "Error encountered: Socket operation on non-socket\n",
      "Rate limit reached, sleeping for 61 seconds...\n",
      "Error encountered: Socket operation on non-socket\n",
      "Rate limit reached, sleeping for 61 seconds...\n",
      "Error encountered: Socket operation on non-socket\n",
      "Rate limit reached, sleeping for 61 seconds...\n",
      "Error encountered: Socket operation on non-socket\n",
      "Rate limit reached, sleeping for 61 seconds...\n",
      "Error encountered: Socket operation on non-socket\n",
      "Rate limit reached, sleeping for 61 seconds...\n",
      "Error encountered: Socket operation on non-socket\n",
      "Rate limit reached, sleeping for 61 seconds...\n",
      "Error encountered: Socket operation on non-socket\n",
      "Rate limit reached, sleeping for 61 seconds...\n",
      "Error encountered: Socket operation on non-socket\n",
      "Rate limit reached, sleeping for 61 seconds...\n",
      "Error encountered: Socket operation on non-socket\n",
      "Rate limit reached, sleeping for 61 seconds...\n",
      "Error encountered: Socket operation on non-socket\n",
      "Rate limit reached, sleeping for 61 seconds...\n",
      "Error encountered: Socket operation on non-socketError encountered: Socket operation on non-socketError encountered: Socket operation on non-socketError encountered: Socket operation on non-socketRetriever found. Number of documents in collection: 0\n",
      "Error encountered: Socket operation on non-socket\n",
      "Rate limit reached, sleeping for 61 seconds...\n",
      "Error encountered: Socket operation on non-socketError encountered: Socket operation on non-socket\n",
      "Rate limit reached, sleeping for 61 seconds...\n",
      "Error encountered: Socket operation on non-socket\n",
      "Rate limit reached, sleeping for 61 seconds...\n",
      "Error encountered: Socket operation on non-socket\n",
      "Rate limit reached, sleeping for 61 seconds...\n",
      "Error encountered: Socket operation on non-socket\n",
      "Rate limit reached, sleeping for 61 seconds...\n",
      "Error encountered: Socket operation on non-socket\n",
      "Rate limit reached, sleeping for 61 seconds...\n",
      "Error encountered: Socket operation on non-socket\n",
      "Rate limit reached, sleeping for 61 seconds...\n",
      "Error encountered: Socket operation on non-socket\n",
      "Rate limit reached, sleeping for 61 seconds...\n",
      "Error encountered: Socket operation on non-socket\n",
      "Rate limit reached, sleeping for 61 seconds...\n",
      "Error encountered: Socket operation on non-socket\n",
      "Rate limit reached, sleeping for 61 seconds...\n",
      "Error encountered: Socket operation on non-socket\n",
      "Rate limit reached, sleeping for 61 seconds...\n",
      "Error encountered: Socket operation on non-socket\n",
      "Rate limit reached, sleeping for 61 seconds...\n",
      "Error encountered: Socket operation on non-socket\n",
      "Rate limit reached, sleeping for 61 seconds...\n",
      "Error encountered: Socket operation on non-socket\n",
      "Rate limit reached, sleeping for 61 seconds...\n",
      "Error encountered: Socket operation on non-socket\n",
      "Rate limit reached, sleeping for 61 seconds...\n",
      "Error encountered: Socket operation on non-socket\n",
      "Rate limit reached, sleeping for 61 seconds...\n",
      "Error encountered: Socket operation on non-socket\n",
      "Rate limit reached, sleeping for 61 seconds...\n",
      "Error encountered: Socket operation on non-socket\n",
      "Rate limit reached, sleeping for 61 seconds...\n",
      "Error encountered: Socket operation on non-socket\n",
      "Rate limit reached, sleeping for 61 seconds...\n",
      "Error encountered: Socket operation on non-socket\n",
      "Rate limit reached, sleeping for 61 seconds...\n",
      "Error encountered: Socket operation on non-socket\n",
      "Rate limit reached, sleeping for 61 seconds...\n",
      "Retriever found. Number of documents in collection: 0\n",
      "Error encountered: Socket operation on non-socketError encountered: Socket operation on non-socketError encountered: Socket operation on non-socketError encountered: Socket operation on non-socketError encountered: Socket operation on non-socketError encountered: Socket operation on non-socketError encountered: Socket operation on non-socket\n",
      "Rate limit reached, sleeping for 61 seconds...\n",
      "Error encountered: Socket operation on non-socket\n",
      "Rate limit reached, sleeping for 61 seconds...\n",
      "Error encountered: Socket operation on non-socket\n",
      "Rate limit reached, sleeping for 61 seconds...\n",
      "Error encountered: Socket operation on non-socket\n",
      "Rate limit reached, sleeping for 61 seconds...\n",
      "Error encountered: Socket operation on non-socket\n",
      "Rate limit reached, sleeping for 61 seconds...\n",
      "Error encountered: Socket operation on non-socket\n",
      "Rate limit reached, sleeping for 61 seconds...\n",
      "Error encountered: Socket operation on non-socketError encountered: Socket operation on non-socket\n",
      "Rate limit reached, sleeping for 61 seconds...\n",
      "Error encountered: Socket operation on non-socket\n",
      "Rate limit reached, sleeping for 61 seconds...\n",
      "Error encountered: Socket operation on non-socket\n",
      "Rate limit reached, sleeping for 61 seconds...\n",
      "Error encountered: Socket operation on non-socket\n",
      "Rate limit reached, sleeping for 61 seconds...\n",
      "Error encountered: Socket operation on non-socket\n",
      "Rate limit reached, sleeping for 61 seconds...\n",
      "Error encountered: Socket operation on non-socket\n",
      "Rate limit reached, sleeping for 61 seconds...\n",
      "Error encountered: Socket operation on non-socket\n",
      "Rate limit reached, sleeping for 61 seconds...\n",
      "Error encountered: Socket operation on non-socket\n",
      "Rate limit reached, sleeping for 61 seconds...\n",
      "Error encountered: Socket operation on non-socket\n",
      "Rate limit reached, sleeping for 61 seconds...\n",
      "Error encountered: Socket operation on non-socket\n",
      "Rate limit reached, sleeping for 61 seconds...\n",
      "Error encountered: Socket operation on non-socket\n",
      "Rate limit reached, sleeping for 61 seconds...\n",
      "Error encountered: Socket operation on non-socket\n",
      "Rate limit reached, sleeping for 61 seconds...\n",
      "Error encountered: Socket operation on non-socket\n",
      "Rate limit reached, sleeping for 61 seconds...\n",
      "Error encountered: Socket operation on non-socket\n",
      "Rate limit reached, sleeping for 61 seconds...\n",
      "Error encountered: Socket operation on non-socket\n",
      "Rate limit reached, sleeping for 61 seconds...\n",
      "Error encountered: Socket operation on non-socket\n",
      "Rate limit reached, sleeping for 61 seconds...\n",
      "Error encountered: Socket operation on non-socket\n",
      "Rate limit reached, sleeping for 61 seconds...\n",
      "Error encountered: Socket operation on non-socket\n",
      "Rate limit reached, sleeping for 61 seconds...\n",
      "Error encountered: Socket operation on non-socket\n",
      "Rate limit reached, sleeping for 61 seconds...\n",
      "Error encountered: Socket operation on non-socket\n",
      "Rate limit reached, sleeping for 61 seconds...\n",
      "Error encountered: Socket operation on non-socket\n",
      "Rate limit reached, sleeping for 61 seconds...\n",
      "Retriever found. Number of documents in collection: 0\n",
      "Error encountered: Socket operation on non-socket\n",
      "Rate limit reached, sleeping for 61 seconds...\n",
      "Error encountered: Socket operation on non-socketError encountered: Socket operation on non-socket\n",
      "Rate limit reached, sleeping for 61 seconds...\n",
      "Error encountered: Socket operation on non-socket\n",
      "Rate limit reached, sleeping for 61 seconds...\n",
      "Error encountered: Socket operation on non-socket\n",
      "Rate limit reached, sleeping for 61 seconds...\n",
      "Error encountered: Socket operation on non-socketRetriever found. Number of documents in collection: 0\n",
      "Error encountered: Socket operation on non-socketError encountered: Socket operation on non-socketError encountered: Socket operation on non-socketError encountered: Socket operation on non-socketError encountered: Socket operation on non-socketError encountered: Socket operation on non-socket\n",
      "Rate limit reached, sleeping for 61 seconds...\n",
      "Error encountered: Socket operation on non-socket\n",
      "Rate limit reached, sleeping for 61 seconds...\n",
      "Error encountered: Socket operation on non-socket\n",
      "Rate limit reached, sleeping for 61 seconds...\n",
      "Error encountered: Socket operation on non-socket\n",
      "Rate limit reached, sleeping for 61 seconds...\n",
      "Error encountered: Socket operation on non-socket\n",
      "Rate limit reached, sleeping for 61 seconds...\n",
      "Error encountered: Socket operation on non-socket\n",
      "Rate limit reached, sleeping for 61 seconds...\n",
      "Error encountered: Socket operation on non-socket\n",
      "Rate limit reached, sleeping for 61 seconds...\n",
      "Error encountered: Socket operation on non-socket\n",
      "Rate limit reached, sleeping for 61 seconds...\n",
      "Retriever found. Number of documents in collection: 0\n",
      "Error encountered: Socket operation on non-socketError encountered: Socket operation on non-socketError encountered: Socket operation on non-socketRetriever found. Number of documents in collection: 0\n",
      "Error encountered: Socket operation on non-socket\n",
      "Rate limit reached, sleeping for 61 seconds...\n",
      "Error encountered: Socket operation on non-socketError encountered: Socket operation on non-socket\n",
      "Rate limit reached, sleeping for 61 seconds...\n",
      "Error encountered: Socket operation on non-socket\n",
      "Rate limit reached, sleeping for 61 seconds...\n",
      "Error encountered: Socket operation on non-socket\n",
      "Rate limit reached, sleeping for 61 seconds...\n",
      "Error encountered: Socket operation on non-socket\n",
      "Rate limit reached, sleeping for 61 seconds...\n",
      "Retriever found. Number of documents in collection: 0\n",
      "Error encountered: Socket operation on non-socket\n",
      "Rate limit reached, sleeping for 61 seconds...\n",
      "Error encountered: Socket operation on non-socketError encountered: Socket operation on non-socket\n",
      "Rate limit reached, sleeping for 61 seconds...\n",
      "Error encountered: Socket operation on non-socket\n",
      "Rate limit reached, sleeping for 61 seconds...\n",
      "Error encountered: Socket operation on non-socket\n",
      "Rate limit reached, sleeping for 61 seconds...\n",
      "Error encountered: Socket operation on non-socket\n",
      "Rate limit reached, sleeping for 61 seconds...\n",
      "Error encountered: Socket operation on non-socket\n",
      "Rate limit reached, sleeping for 61 seconds...\n",
      "Error encountered: Socket operation on non-socket\n",
      "Rate limit reached, sleeping for 61 seconds...\n",
      "Error encountered: Socket operation on non-socket\n",
      "Rate limit reached, sleeping for 61 seconds...\n",
      "Error encountered: Socket operation on non-socket\n",
      "Rate limit reached, sleeping for 61 seconds...\n",
      "Error encountered: Socket operation on non-socket\n",
      "Rate limit reached, sleeping for 61 seconds...\n",
      "Error encountered: Socket operation on non-socket\n",
      "Rate limit reached, sleeping for 61 seconds...\n",
      "Error encountered: Socket operation on non-socket\n",
      "Rate limit reached, sleeping for 61 seconds...\n",
      "Error encountered: Socket operation on non-socket\n",
      "Rate limit reached, sleeping for 61 seconds...\n",
      "Retriever found. Number of documents in collection: 0\n",
      "Error encountered: Socket operation on non-socketError encountered: Socket operation on non-socketError encountered: Socket operation on non-socketError encountered: Socket operation on non-socketError encountered: Socket operation on non-socketError encountered: Socket operation on non-socketError encountered: Socket operation on non-socketError encountered: Socket operation on non-socketError encountered: Socket operation on non-socket\n",
      "Rate limit reached, sleeping for 61 seconds...\n",
      "Error encountered: Socket operation on non-socket\n",
      "Rate limit reached, sleeping for 61 seconds...\n",
      "Error encountered: Socket operation on non-socket\n",
      "Rate limit reached, sleeping for 61 seconds...\n",
      "Error encountered: Socket operation on non-socket\n",
      "Rate limit reached, sleeping for 61 seconds...\n",
      "Error encountered: Socket operation on non-socket\n",
      "Rate limit reached, sleeping for 61 seconds...\n",
      "Error encountered: Socket operation on non-socket\n",
      "Rate limit reached, sleeping for 61 seconds...\n",
      "Error encountered: Socket operation on non-socket\n",
      "Rate limit reached, sleeping for 61 seconds...\n",
      "Error encountered: Socket operation on non-socket\n",
      "Rate limit reached, sleeping for 61 seconds...\n",
      "Error encountered: Socket operation on non-socketRetriever found. Number of documents in collection: 0\n",
      "Error encountered: Socket operation on non-socketError encountered: Socket operation on non-socketError encountered: Socket operation on non-socketError encountered: Socket operation on non-socketError encountered: Socket operation on non-socketError encountered: Socket operation on non-socketError encountered: Socket operation on non-socketError encountered: Socket operation on non-socketError encountered: Socket operation on non-socketError encountered: Socket operation on non-socketError encountered: Socket operation on non-socketError encountered: Socket operation on non-socketError encountered: Socket operation on non-socketError encountered: Socket operation on non-socketError encountered: Socket operation on non-socketError encountered: Socket operation on non-socketError encountered: Socket operation on non-socketError encountered: Socket operation on non-socketError encountered: Socket operation on non-socketError encountered: Socket operation on non-socketRetriever found. Number of documents in collection: 0\n",
      "Error encountered: Socket operation on non-socketError encountered: Socket operation on non-socket\n",
      "Rate limit reached, sleeping for 61 seconds...\n",
      "Error encountered: Socket operation on non-socket\n",
      "Rate limit reached, sleeping for 61 seconds...\n",
      "Error encountered: Socket operation on non-socket\n",
      "Rate limit reached, sleeping for 61 seconds...\n",
      "Error encountered: Socket operation on non-socket\n",
      "Rate limit reached, sleeping for 61 seconds...\n",
      "Error encountered: Socket operation on non-socket\n",
      "Rate limit reached, sleeping for 61 seconds...\n",
      "Error encountered: Socket operation on non-socket\n",
      "Rate limit reached, sleeping for 61 seconds...\n",
      "Error encountered: Socket operation on non-socket\n",
      "Rate limit reached, sleeping for 61 seconds...\n",
      "Error encountered: Socket operation on non-socket\n",
      "Rate limit reached, sleeping for 61 seconds...\n",
      "Error encountered: Socket operation on non-socket\n",
      "Rate limit reached, sleeping for 61 seconds...\n",
      "Error encountered: Socket operation on non-socket\n",
      "Rate limit reached, sleeping for 61 seconds...\n",
      "Error encountered: Socket operation on non-socket\n",
      "Rate limit reached, sleeping for 61 seconds...\n",
      "Error encountered: Socket operation on non-socket\n",
      "Rate limit reached, sleeping for 61 seconds...\n",
      "Error encountered: Socket operation on non-socket\n",
      "Rate limit reached, sleeping for 61 seconds...\n",
      "Error encountered: Socket operation on non-socket\n",
      "Rate limit reached, sleeping for 61 seconds...\n",
      "Error encountered: Socket operation on non-socket\n",
      "Rate limit reached, sleeping for 61 seconds...\n",
      "Error encountered: Socket operation on non-socket\n",
      "Rate limit reached, sleeping for 61 seconds...\n",
      "Error encountered: Socket operation on non-socket\n",
      "Rate limit reached, sleeping for 61 seconds...\n",
      "Error encountered: Socket operation on non-socket\n",
      "Rate limit reached, sleeping for 61 seconds...\n",
      "Error encountered: Socket operation on non-socket\n",
      "Rate limit reached, sleeping for 61 seconds...\n",
      "Error encountered: Socket operation on non-socket\n",
      "Rate limit reached, sleeping for 61 seconds...\n",
      "Error encountered: Socket operation on non-socket\n",
      "Rate limit reached, sleeping for 61 seconds...\n",
      "Error encountered: Socket operation on non-socket\n",
      "Rate limit reached, sleeping for 61 seconds...\n",
      "Error encountered: Socket operation on non-socket\n",
      "Rate limit reached, sleeping for 61 seconds...\n",
      "Error encountered: Socket operation on non-socket\n",
      "Rate limit reached, sleeping for 61 seconds...\n",
      "Error encountered: Socket operation on non-socket\n",
      "Rate limit reached, sleeping for 61 seconds...\n",
      "Error encountered: Socket operation on non-socket\n",
      "Rate limit reached, sleeping for 61 seconds...\n",
      "Retriever found. Number of documents in collection: 0\n",
      "Error encountered: Socket operation on non-socket\n",
      "Rate limit reached, sleeping for 61 seconds...\n",
      "Error encountered: Socket operation on non-socketError encountered: Socket operation on non-socket\n",
      "Rate limit reached, sleeping for 61 seconds...\n",
      "Error encountered: Socket operation on non-socket\n",
      "Rate limit reached, sleeping for 61 seconds...\n",
      "Error encountered: Socket operation on non-socket\n",
      "Rate limit reached, sleeping for 61 seconds...\n",
      "Error encountered: Socket operation on non-socket\n",
      "Rate limit reached, sleeping for 61 seconds...\n",
      "Error encountered: Socket operation on non-socket\n",
      "Rate limit reached, sleeping for 61 seconds...\n",
      "Error encountered: Socket operation on non-socket\n",
      "Rate limit reached, sleeping for 61 seconds...\n",
      "Error encountered: Socket operation on non-socket\n",
      "Rate limit reached, sleeping for 61 seconds...\n",
      "Error encountered: Socket operation on non-socketRetriever found. Number of documents in collection: 0\n",
      "Error encountered: Socket operation on non-socketError encountered: Socket operation on non-socketError encountered: Socket operation on non-socketRetriever found. Number of documents in collection: 0\n",
      "Retriever found. Number of documents in collection: 0\n",
      "Error encountered: Socket operation on non-socketError encountered: Socket operation on non-socket\n",
      "Rate limit reached, sleeping for 61 seconds...\n",
      "Error encountered: Socket operation on non-socketRetriever found. Number of documents in collection: 0\n",
      "Error encountered: Socket operation on non-socketError encountered: Socket operation on non-socketError encountered: Socket operation on non-socketError encountered: Socket operation on non-socketError encountered: Socket operation on non-socketError encountered: Socket operation on non-socketError encountered: Socket operation on non-socketError encountered: Socket operation on non-socketError encountered: Socket operation on non-socketError encountered: Socket operation on non-socketError encountered: Socket operation on non-socketError encountered: Socket operation on non-socketRetriever found. Number of documents in collection: 0\n",
      "Error encountered: Socket operation on non-socket\n",
      "Rate limit reached, sleeping for 61 seconds...\n",
      "Error encountered: Socket operation on non-socketError encountered: Socket operation on non-socket\n",
      "Rate limit reached, sleeping for 61 seconds...\n",
      "Error encountered: Socket operation on non-socket\n",
      "Rate limit reached, sleeping for 61 seconds...\n",
      "Error encountered: Socket operation on non-socket\n",
      "Rate limit reached, sleeping for 61 seconds...\n",
      "Error encountered: Socket operation on non-socket\n",
      "Rate limit reached, sleeping for 61 seconds...\n",
      "Error encountered: Socket operation on non-socket\n",
      "Rate limit reached, sleeping for 61 seconds...\n",
      "Error encountered: Socket operation on non-socket\n",
      "Rate limit reached, sleeping for 61 seconds...\n",
      "Error encountered: Socket operation on non-socket\n",
      "Rate limit reached, sleeping for 61 seconds...\n",
      "Error encountered: Socket operation on non-socket\n",
      "Rate limit reached, sleeping for 61 seconds...\n",
      "Error encountered: Socket operation on non-socket\n",
      "Rate limit reached, sleeping for 61 seconds...\n",
      "Error encountered: Socket operation on non-socket\n",
      "Rate limit reached, sleeping for 61 seconds...\n",
      "Error encountered: Socket operation on non-socket\n",
      "Rate limit reached, sleeping for 61 seconds...\n",
      "Error encountered: Socket operation on non-socket\n",
      "Rate limit reached, sleeping for 61 seconds...\n",
      "Error encountered: Socket operation on non-socket\n",
      "Rate limit reached, sleeping for 61 seconds...\n",
      "Error encountered: Socket operation on non-socket\n",
      "Rate limit reached, sleeping for 61 seconds...\n",
      "Error encountered: Socket operation on non-socket\n",
      "Rate limit reached, sleeping for 61 seconds...\n",
      "Retriever found. Number of documents in collection: 0\n",
      "Error encountered: Socket operation on non-socket\n",
      "Rate limit reached, sleeping for 61 seconds...\n",
      "Error encountered: Socket operation on non-socketError encountered: Socket operation on non-socket\n",
      "Rate limit reached, sleeping for 61 seconds...\n",
      "Error encountered: Socket operation on non-socket\n",
      "Rate limit reached, sleeping for 61 seconds...\n",
      "Error encountered: Socket operation on non-socket\n",
      "Rate limit reached, sleeping for 61 seconds...\n",
      "Error encountered: Socket operation on non-socket\n",
      "Rate limit reached, sleeping for 61 seconds...\n",
      "Error encountered: Socket operation on non-socket\n",
      "Rate limit reached, sleeping for 61 seconds...\n",
      "Error encountered: Socket operation on non-socket\n",
      "Rate limit reached, sleeping for 61 seconds...\n",
      "Error encountered: Socket operation on non-socket\n",
      "Rate limit reached, sleeping for 61 seconds...\n",
      "Error encountered: Socket operation on non-socket\n",
      "Rate limit reached, sleeping for 61 seconds...\n",
      "Error encountered: Socket operation on non-socket\n",
      "Rate limit reached, sleeping for 61 seconds...\n",
      "Error encountered: Socket operation on non-socket\n",
      "Rate limit reached, sleeping for 61 seconds...\n",
      "Error encountered: Socket operation on non-socket\n",
      "Rate limit reached, sleeping for 61 seconds...\n",
      "Error encountered: Socket operation on non-socket\n",
      "Rate limit reached, sleeping for 61 seconds...\n",
      "Error encountered: Socket operation on non-socket\n",
      "Rate limit reached, sleeping for 61 seconds...\n",
      "Error encountered: Socket operation on non-socket\n",
      "Rate limit reached, sleeping for 61 seconds...\n",
      "Error encountered: Socket operation on non-socket\n",
      "Rate limit reached, sleeping for 61 seconds...\n",
      "Error encountered: Socket operation on non-socket\n",
      "Rate limit reached, sleeping for 61 seconds...\n",
      "Error encountered: Socket operation on non-socket\n",
      "Rate limit reached, sleeping for 61 seconds...\n",
      "Error encountered: Socket operation on non-socket\n",
      "Rate limit reached, sleeping for 61 seconds...\n",
      "Error encountered: Socket operation on non-socket\n",
      "Rate limit reached, sleeping for 61 seconds...\n",
      "Error encountered: Socket operation on non-socket\n",
      "Rate limit reached, sleeping for 61 seconds...\n",
      "Error encountered: Socket operation on non-socket\n",
      "Rate limit reached, sleeping for 61 seconds...\n",
      "Error encountered: Socket operation on non-socket\n",
      "Rate limit reached, sleeping for 61 seconds...\n",
      "Error encountered: Socket operation on non-socket\n",
      "Rate limit reached, sleeping for 61 seconds...\n",
      "Error encountered: Socket operation on non-socket\n",
      "Rate limit reached, sleeping for 61 seconds...\n",
      "Error encountered: Socket operation on non-socketRetriever found. Number of documents in collection: 0\n",
      "Error encountered: Socket operation on non-socketError encountered: Socket operation on non-socketError encountered: Socket operation on non-socketError encountered: Socket operation on non-socketError encountered: Socket operation on non-socketError encountered: Socket operation on non-socketError encountered: Socket operation on non-socketError encountered: Socket operation on non-socket"
     ]
    }
   ],
   "source": [
    "import time\n",
    "import concurrent.futures\n",
    "from tqdm import tqdm\n",
    "\n",
    "\n",
    "# Function to run inference and handle rate limit errors\n",
    "def run_inference(model, system_prompt, collection_name, q, a):\n",
    "    try:\n",
    "        result = inference(model, system_prompt, collection_name, q, a)\n",
    "    except Exception as e:\n",
    "        print(f\"Error encountered: {e}\")\n",
    "        tqdm.write(\"Rate limit reached, sleeping for 61 seconds...\")\n",
    "        time.sleep(61)  # Sleep and retry\n",
    "        result = inference(model, system_prompt, collection_name, q, a)\n",
    "\n",
    "    return result\n",
    "\n",
    "# Function to handle parallel execution\n",
    "def run_parallel():\n",
    "    tasks = []\n",
    "    \n",
    "    # Calculate total iterations for progress bar\n",
    "    total_iterations = len(system_prompts) * len(user_prompts) * len(doc_stores_collection_names) * len(model_types)\n",
    "    \n",
    "    with concurrent.futures.ThreadPoolExecutor(max_workers=10) as executor, tqdm(total=total_iterations, desc=\"Running Inference\") as pbar:\n",
    "        future_to_params = {}\n",
    "\n",
    "        # Submit tasks\n",
    "        for system_prompt in system_prompts:\n",
    "            for q, a in user_prompts:\n",
    "                for collection_name in doc_stores_collection_names:\n",
    "                    for model in model_types:\n",
    "                        future = executor.submit(run_inference, model, system_prompt, collection_name, q, a)\n",
    "                        future_to_params[future] = (model, system_prompt, collection_name, q, a)\n",
    "        \n",
    "        # Collect results\n",
    "        results = []\n",
    "        for future in concurrent.futures.as_completed(future_to_params):\n",
    "            try:\n",
    "                results.append(future.result())  # Get the result\n",
    "            except Exception as e:\n",
    "                tqdm.write(f\"Unexpected error: {e}\")\n",
    "            pbar.update(1)  # Update progress bar\n",
    "\n",
    "    return results\n",
    "\n",
    "# Run the parallel execution\n",
    "results = run_parallel()"
   ]
  },
  {
   "cell_type": "code",
   "execution_count": 14,
   "id": "d3bb121f-3ea9-4973-8c67-32e60c18cfd2",
   "metadata": {},
   "outputs": [
    {
     "data": {
      "application/vnd.jupyter.widget-view+json": {
       "model_id": "822834a7a2684014b2518585146273d5",
       "version_major": 2,
       "version_minor": 0
      },
      "text/plain": [
       "Fetching 5 files:   0%|          | 0/5 [00:00<?, ?it/s]"
      ]
     },
     "metadata": {},
     "output_type": "display_data"
    },
    {
     "data": {
      "application/vnd.jupyter.widget-view+json": {
       "model_id": "9ec1c50454264305804b8ef7ff81b080",
       "version_major": 2,
       "version_minor": 0
      },
      "text/plain": [
       "Fetching 5 files:   0%|          | 0/5 [00:00<?, ?it/s]"
      ]
     },
     "metadata": {},
     "output_type": "display_data"
    },
    {
     "data": {
      "application/vnd.jupyter.widget-view+json": {
       "model_id": "42b33b57cee94bc78e2244f211433a8e",
       "version_major": 2,
       "version_minor": 0
      },
      "text/plain": [
       "Fetching 5 files:   0%|          | 0/5 [00:00<?, ?it/s]"
      ]
     },
     "metadata": {},
     "output_type": "display_data"
    },
    {
     "data": {
      "application/vnd.jupyter.widget-view+json": {
       "model_id": "fc80e81a3bc14075a5c9b7f4c3560fe2",
       "version_major": 2,
       "version_minor": 0
      },
      "text/plain": [
       "Fetching 5 files:   0%|          | 0/5 [00:00<?, ?it/s]"
      ]
     },
     "metadata": {},
     "output_type": "display_data"
    },
    {
     "data": {
      "application/vnd.jupyter.widget-view+json": {
       "model_id": "fb278e6ac9ed408a8982a1cdf5a5c836",
       "version_major": 2,
       "version_minor": 0
      },
      "text/plain": [
       "Fetching 5 files:   0%|          | 0/5 [00:00<?, ?it/s]"
      ]
     },
     "metadata": {},
     "output_type": "display_data"
    },
    {
     "data": {
      "application/vnd.jupyter.widget-view+json": {
       "model_id": "55ff7a96a2ca406e92b76a674893d7ce",
       "version_major": 2,
       "version_minor": 0
      },
      "text/plain": [
       "Fetching 5 files:   0%|          | 0/5 [00:00<?, ?it/s]"
      ]
     },
     "metadata": {},
     "output_type": "display_data"
    },
    {
     "data": {
      "application/vnd.jupyter.widget-view+json": {
       "model_id": "7f4a06771fb848d4b9b4ba37d46c1263",
       "version_major": 2,
       "version_minor": 0
      },
      "text/plain": [
       "Fetching 5 files:   0%|          | 0/5 [00:00<?, ?it/s]"
      ]
     },
     "metadata": {},
     "output_type": "display_data"
    },
    {
     "data": {
      "application/vnd.jupyter.widget-view+json": {
       "model_id": "d9f8cc8a3aca42b0b6bcf46a3bafaa76",
       "version_major": 2,
       "version_minor": 0
      },
      "text/plain": [
       "Fetching 5 files:   0%|          | 0/5 [00:00<?, ?it/s]"
      ]
     },
     "metadata": {},
     "output_type": "display_data"
    },
    {
     "data": {
      "application/vnd.jupyter.widget-view+json": {
       "model_id": "df7c34453dbc4e8082260758dcdf1d67",
       "version_major": 2,
       "version_minor": 0
      },
      "text/plain": [
       "Fetching 5 files:   0%|          | 0/5 [00:00<?, ?it/s]"
      ]
     },
     "metadata": {},
     "output_type": "display_data"
    },
    {
     "data": {
      "application/vnd.jupyter.widget-view+json": {
       "model_id": "21753851764b4dfe8db39a948cf6ebc4",
       "version_major": 2,
       "version_minor": 0
      },
      "text/plain": [
       "Fetching 5 files:   0%|          | 0/5 [00:00<?, ?it/s]"
      ]
     },
     "metadata": {},
     "output_type": "display_data"
    },
    {
     "data": {
      "application/vnd.jupyter.widget-view+json": {
       "model_id": "49d3f301c7f84a81839aab4f51425de9",
       "version_major": 2,
       "version_minor": 0
      },
      "text/plain": [
       "Fetching 5 files:   0%|          | 0/5 [00:00<?, ?it/s]"
      ]
     },
     "metadata": {},
     "output_type": "display_data"
    },
    {
     "data": {
      "application/vnd.jupyter.widget-view+json": {
       "model_id": "f31855675ad8450bbf00e4d76cce0050",
       "version_major": 2,
       "version_minor": 0
      },
      "text/plain": [
       "Fetching 5 files:   0%|          | 0/5 [00:00<?, ?it/s]"
      ]
     },
     "metadata": {},
     "output_type": "display_data"
    },
    {
     "data": {
      "application/vnd.jupyter.widget-view+json": {
       "model_id": "a9444b78df71405f854d9375d4f5de3d",
       "version_major": 2,
       "version_minor": 0
      },
      "text/plain": [
       "Fetching 5 files:   0%|          | 0/5 [00:00<?, ?it/s]"
      ]
     },
     "metadata": {},
     "output_type": "display_data"
    },
    {
     "data": {
      "application/vnd.jupyter.widget-view+json": {
       "model_id": "210d0fb3eacf482c84a24a0644d21c1a",
       "version_major": 2,
       "version_minor": 0
      },
      "text/plain": [
       "Fetching 5 files:   0%|          | 0/5 [00:00<?, ?it/s]"
      ]
     },
     "metadata": {},
     "output_type": "display_data"
    },
    {
     "data": {
      "application/vnd.jupyter.widget-view+json": {
       "model_id": "f0fd6a2fa40b491cb40033b8bdce0964",
       "version_major": 2,
       "version_minor": 0
      },
      "text/plain": [
       "Fetching 5 files:   0%|          | 0/5 [00:00<?, ?it/s]"
      ]
     },
     "metadata": {},
     "output_type": "display_data"
    },
    {
     "data": {
      "application/vnd.jupyter.widget-view+json": {
       "model_id": "07fc3b5352fd4d5f8bea9d77ab5a2995",
       "version_major": 2,
       "version_minor": 0
      },
      "text/plain": [
       "Fetching 5 files:   0%|          | 0/5 [00:00<?, ?it/s]"
      ]
     },
     "metadata": {},
     "output_type": "display_data"
    }
   ],
   "source": [
    "import concurrent.futures\n",
    "\n",
    "executor = concurrent.futures.ThreadPoolExecutor(max_workers=10)\n",
    "\n",
    "# Shutdown immediately, cancelling all pending tasks\n",
    "executor.shutdown(wait=False)"
   ]
  },
  {
   "cell_type": "code",
   "execution_count": 104,
   "id": "3d41210e-3503-4587-857b-8ffa01c228a4",
   "metadata": {},
   "outputs": [],
   "source": [
    "import os\n",
    "import json\n",
    "import pandas as pd\n",
    "\n",
    "# Directory containing JSON files\n",
    "json_dir = \"validation_responses\"  # Update with your actual directory path\n",
    "\n",
    "# List to store data\n",
    "data = []\n",
    "\n",
    "# Iterate over all JSON files in the directory\n",
    "for file in os.listdir(json_dir):\n",
    "    if file.endswith(\".json\"):  # Process only JSON files\n",
    "        file_path = os.path.join(json_dir, file)\n",
    "        with open(file_path, \"r\", encoding=\"utf-8\") as f:\n",
    "            json_data = json.load(f)\n",
    "            data.append(json_data)  # Append the JSON content as a dictionary\n",
    "\n",
    "# Convert list of dictionaries into a Pandas DataFrame\n",
    "df = pd.DataFrame(data)\n"
   ]
  },
  {
   "cell_type": "code",
   "execution_count": 1,
   "id": "0b4caf4c-60d5-4840-b7d1-a1c6194f268e",
   "metadata": {},
   "outputs": [
    {
     "ename": "NameError",
     "evalue": "name 'df' is not defined",
     "output_type": "error",
     "traceback": [
      "\u001b[0;31m---------------------------------------------------------------------------\u001b[0m",
      "\u001b[0;31mNameError\u001b[0m                                 Traceback (most recent call last)",
      "Cell \u001b[0;32mIn[1], line 1\u001b[0m\n\u001b[0;32m----> 1\u001b[0m \u001b[43mdf\u001b[49m\n",
      "\u001b[0;31mNameError\u001b[0m: name 'df' is not defined"
     ]
    }
   ],
   "source": [
    "df"
   ]
  },
  {
   "cell_type": "code",
   "execution_count": null,
   "id": "76551b1d-2be5-4fee-89be-95c7d3cd3da2",
   "metadata": {},
   "outputs": [],
   "source": []
  },
  {
   "cell_type": "code",
   "execution_count": 105,
   "id": "d336b680-2291-4843-b923-9ef02c2efe6c",
   "metadata": {},
   "outputs": [],
   "source": [
    "df.to_csv('validation_results3.csv')"
   ]
  },
  {
   "cell_type": "code",
   "execution_count": 106,
   "id": "7d96cb00-97d4-4a3f-a732-862349da8b81",
   "metadata": {},
   "outputs": [
    {
     "data": {
      "text/plain": [
       "126.8110925"
      ]
     },
     "execution_count": 106,
     "metadata": {},
     "output_type": "execute_result"
    }
   ],
   "source": [
    "df.Usage_InputTokens.sum() * 0.0025/1000"
   ]
  },
  {
   "cell_type": "code",
   "execution_count": 107,
   "id": "f9d9b4e2-ba95-415e-9cf6-4a1654e7e62d",
   "metadata": {},
   "outputs": [
    {
     "data": {
      "text/plain": [
       "6.1727725"
      ]
     },
     "execution_count": 107,
     "metadata": {},
     "output_type": "execute_result"
    }
   ],
   "source": [
    "df.Usage_OutputTokens.sum() * 0.0025/1000"
   ]
  },
  {
   "cell_type": "code",
   "execution_count": 38,
   "id": "acbd04f2-2df2-462b-9455-36f3b99de585",
   "metadata": {},
   "outputs": [
    {
     "data": {
      "text/plain": [
       "Index(['DateTime', 'ModelType', 'SystemPrompt', 'DocumentStoreVersion',\n",
       "       'UserPrompt', 'Response', 'real_answer', 'Validation_feedback',\n",
       "       'Validation_score', 'Validation_refinement', 'Usage_InputTokens',\n",
       "       'Usage_OutputTokens', 'Usage_TotalTokens'],\n",
       "      dtype='object')"
      ]
     },
     "execution_count": 38,
     "metadata": {},
     "output_type": "execute_result"
    }
   ],
   "source": [
    "df.columns"
   ]
  },
  {
   "cell_type": "code",
   "execution_count": null,
   "id": "9272c68c-59f0-4b9e-9c68-36debe924ff3",
   "metadata": {},
   "outputs": [],
   "source": [
    "custom_prompt = \"\"\"\n",
    "You are a professional in prompt engineering. \n",
    "You will be given a prompt and you will generation some variation of it for AIs to better understand. \n",
    "Feel free to add any language to it to the best of your knowledge, or if you think it's relevant to \n",
    "the overall theme or topic of the prompt. \n",
    "(datetime.datetime.now() - now)\n",
    "datetime.timedelta(seconds=58, microseconds=48171)\n",
    "\n",
    "\n",
    "\"\"\""
   ]
  },
  {
   "cell_type": "code",
   "execution_count": null,
   "id": "45297c3f-9096-4605-bdcc-0804a2c06071",
   "metadata": {},
   "outputs": [],
   "source": []
  },
  {
   "cell_type": "code",
   "execution_count": 17,
   "id": "b8e1561f-9d59-4809-8c95-dbc9039c8756",
   "metadata": {},
   "outputs": [
    {
     "data": {
      "text/plain": [
       "AIMessage(content=\"I'm Claude, an AI created by Anthropic. I aim to be helpful, honest, and harmless. How can I assist you today?\", additional_kwargs={}, response_metadata={'ResponseMetadata': {'RequestId': 'faa5e384-6545-4296-9cec-c6421e885bfb', 'HTTPStatusCode': 200, 'HTTPHeaders': {'date': 'Fri, 07 Feb 2025 06:30:20 GMT', 'content-type': 'application/json', 'content-length': '292', 'connection': 'keep-alive', 'x-amzn-requestid': 'faa5e384-6545-4296-9cec-c6421e885bfb'}, 'RetryAttempts': 0}, 'stopReason': 'end_turn', 'metrics': {'latencyMs': [1258]}}, id='run-ed5a5af0-ea48-4cd4-bb0a-7bf7e2f8431c-0', usage_metadata={'input_tokens': 11, 'output_tokens': 35, 'total_tokens': 46})"
      ]
     },
     "execution_count": 17,
     "metadata": {},
     "output_type": "execute_result"
    }
   ],
   "source": [
    "chain = LLM_langchain.get_model(model_type='haiku', aws = True)\n",
    "chain.invoke('Who r u ')"
   ]
  },
  {
   "cell_type": "code",
   "execution_count": null,
   "id": "68974d54-e3e2-418f-a261-0dd9dbb0d273",
   "metadata": {},
   "outputs": [],
   "source": [
    "response = chain.invoke('''\n",
    "\n",
    "Heres the prompt:\n",
    "\n",
    "\n",
    "You are a bioinformatics expert who works for the GenePattern team.\n",
    "Your job is to answer bioinformatics related questions about running a workflow. \n",
    "If an image description is provided, describe the image. \n",
    "\n",
    "Do not describe tools that are not in the vector store, instead respond\n",
    "with \"That tool is not currently available in GenePattern. Feel free to contact\n",
    "the GenePattern team if you think it would be a good addition to our repository. Email: edh021@cloud.ucsd.edu\"\n",
    "Provide input file formats when giving instructions on how to run modules\n",
    "or tools. Only give module suggestions for modules in GenePattern.\n",
    "Do not tell users to “go to GenePattern and log in”.\n",
    "Answer the following questions using all your knowledge\n",
    "and providing as much detail as possible with step-by-step instructions.\n",
    "\n",
    "If answering questions about workflows, only provide modules that exist on the GenePattern server. \n",
    "Assume the person asking questions is an undergraduate biologist with little to no experience with programming and computers. \n",
    "\n",
    "            \n",
    "generate 5 variations of this.\n",
    "\n",
    "\n",
    "''')"
   ]
  },
  {
   "cell_type": "code",
   "execution_count": null,
   "id": "56c5d4ff-0624-4316-b700-35b5cf11a485",
   "metadata": {},
   "outputs": [],
   "source": []
  },
  {
   "cell_type": "code",
   "execution_count": null,
   "id": "79805374-adcb-434d-8d45-a59d6f10770c",
   "metadata": {},
   "outputs": [],
   "source": [
    "print(response.content)"
   ]
  },
  {
   "cell_type": "code",
   "execution_count": null,
   "id": "f1105a10-962e-4bed-86e0-a1882449acea",
   "metadata": {},
   "outputs": [],
   "source": []
  },
  {
   "cell_type": "code",
   "execution_count": null,
   "id": "6c6e4c13-1cde-424f-98c0-e9849ec4d863",
   "metadata": {},
   "outputs": [],
   "source": [
    "\n",
    "\n",
    "user_query = 'Im wondering what kind of normalization DESeq2 does to generate the baseMean column in the output file. Is it TPM?'\n",
    "ai_response = '''DESeq2 does not use Transcripts Per Million (TPM) for normalization. Instead, DESeq2 employs a method called \"size factor\" normalization to generate the baseMean column in the output file. This method is designed to account for differences in sequencing depth across samples.\n",
    "\n",
    "Here's a brief overview of how DESeq2 performs normalization:\n",
    "\n",
    "Size Factor Calculation: DESeq2 calculates a size factor for each sample. This size factor is used to adjust for differences in sequencing depth. The size factor is computed by taking the median of the ratios of observed counts to a pseudo-reference sample, which is constructed as the geometric mean of counts across all samples for each gene.\n",
    "Normalization: The raw counts for each gene in a sample are divided by the sample's size factor. This results in normalized counts that are used for downstream analysis, such as differential expression testing.\n",
    "baseMean Calculation: The baseMean is the average of the normalized counts for a gene across all samples. It provides a measure of the average expression level of a gene, accounting for differences in sequencing depth.\n",
    "This normalization approach is different from TPM, which normalizes for both sequencing depth and gene length, and is typically used for comparing expression levels of genes within a sample rather than across samples.'''\n",
    "real = \"Per DESeq2's manual the baseMean represents the average of the normalized count values, divided by size factors, taken over all samples. The DESeq2's count normalization is based on a 'median of ratios' method and not TPM.\"\n",
    "response = validation_bot(user_query, ai_response, real)\n",
    "\n",
    "    "
   ]
  },
  {
   "cell_type": "code",
   "execution_count": null,
   "id": "c245f7d4-0957-493b-84a6-c579f7849edd",
   "metadata": {},
   "outputs": [],
   "source": []
  },
  {
   "cell_type": "code",
   "execution_count": null,
   "id": "e1621fd1-9e06-4d71-9b96-2c51c6fa1cb3",
   "metadata": {},
   "outputs": [],
   "source": [
    "response['raw'].usage_metadata"
   ]
  },
  {
   "cell_type": "code",
   "execution_count": null,
   "id": "5043e490-83e7-4233-9098-2af23f30c202",
   "metadata": {},
   "outputs": [],
   "source": [
    "os.environ['GOOGLE_GEMINI_API_KEY']"
   ]
  },
  {
   "cell_type": "code",
   "execution_count": null,
   "id": "6df5e71b-2586-4c7c-a696-de210aa56a71",
   "metadata": {},
   "outputs": [],
   "source": [
    "from langchain_google_genai import ChatGoogleGenerativeAI\n",
    "\n",
    "llm = ChatGoogleGenerativeAI(\n",
    "    model=\"gemini-1.5-pro\",\n",
    "    temperature=0,\n",
    "    api_key = os.environ['GOOGLE_GEMINI_API_KEY']\n",
    ")"
   ]
  },
  {
   "cell_type": "code",
   "execution_count": null,
   "id": "08a1e900-2ccc-4e12-a457-4ee5efad73dd",
   "metadata": {},
   "outputs": [],
   "source": [
    "llm.invoke('what are you')"
   ]
  },
  {
   "cell_type": "code",
   "execution_count": null,
   "id": "0b51d5b4-0ceb-459b-8ef1-325573b1b907",
   "metadata": {},
   "outputs": [],
   "source": [
    "system_prompts = [\"Prompt 1\", \"Prompt 2\"]  # Example system prompts\n",
    "questions = [(\"What is DNA?\", \"DNA is a molecule.\"), (\"What is RNA?\", \"RNA is similar to DNA.\")]  # Example Q&A pairs\n",
    "doc_stores_collection_names = [\"collection1\", \"collection2\"]  # Example collection names\n",
    "model_types = [\"gpt-3\", \"llama\"]  # Example models\n",
    "\n",
    "# Iterate over all permutations and print\n",
    "for system_prompt in system_prompts:\n",
    "    for q, a in questions:\n",
    "        for collection_name in doc_stores_collection_names:\n",
    "            for model in model_types:\n",
    "                print(f\"System Prompt: {system_prompt}\")\n",
    "                print(f\"Question: {q}\")\n",
    "                print(f\"Answer: {a}\")\n",
    "                print(f\"Collection Name: {collection_name}\")\n",
    "                print(f\"Model: {model}\")\n",
    "                print(\"-\" * 50)  # Separator for readability"
   ]
  },
  {
   "cell_type": "code",
   "execution_count": null,
   "id": "83bbe071-3f9b-4258-9ebc-b0332cad04af",
   "metadata": {},
   "outputs": [],
   "source": []
  }
 ],
 "metadata": {
  "kernelspec": {
   "display_name": "Python 3 (ipykernel)",
   "language": "python",
   "name": "python3"
  },
  "language_info": {
   "codemirror_mode": {
    "name": "ipython",
    "version": 3
   },
   "file_extension": ".py",
   "mimetype": "text/x-python",
   "name": "python",
   "nbconvert_exporter": "python",
   "pygments_lexer": "ipython3",
   "version": "3.11.5"
  }
 },
 "nbformat": 4,
 "nbformat_minor": 5
}
